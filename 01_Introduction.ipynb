{
 "cells": [
  {
   "cell_type": "code",
   "execution_count": null,
   "id": "67919b0e",
   "metadata": {},
   "outputs": [],
   "source": [
    "import pandas as pd\n",
    "pd.plotting.register_matplotlib_converters()\n",
    "%matplotlib inline\n",
    "import ipywidgets as widgets\n",
    "from IPython.display import display\n",
    "import pandas as pd\n",
    "import folium"
   ]
  },
  {
   "cell_type": "markdown",
   "id": "fff927a3",
   "metadata": {},
   "source": [
    "<h1 style=\"text-align: center;\">Welcome to the Clean Water Team!</h1>\n",
    "<h2 style=\"text-align: center;\">Now a Brief Introduction to the Problem That You Will Help Solve</h2>"
   ]
  },
  {
   "cell_type": "code",
   "execution_count": null,
   "id": "f9364088",
   "metadata": {},
   "outputs": [],
   "source": [
    "\n",
    "\n",
    "# Load the audio file\n",
    "audio = widgets.Audio.from_file(\"loop_1min_snes.wav\")\n",
    "audio.loop = True\n",
    "audio.autoplay = False   # browsers usually block autoplay until first click\n",
    "audio.layout = widgets.Layout(width=\"200px\")  # shrink the player bar\n",
    "\n",
    "# Label + audio side by side\n",
    "box = widgets.HBox([\n",
    "    widgets.Label(\"\", layout=widgets.Layout(width=\"0px\")),\n",
    "    audio\n",
    "])\n",
    "\n",
    "display(box)\n",
    "#src = Path(\"Soundtrack\\loop_1min.wav\")\n"
   ]
  },
  {
   "cell_type": "markdown",
   "id": "029a44d9",
   "metadata": {},
   "source": [
    "Let's take a step back in time and go back to the 1950s for the Las Vegas Valley (also known as Clark County):\n",
    "<ul> \n",
    "<li>Las Vegas and the surrounding communities have experienced rapid growth over the past few years as well as domestic and international attention from tourism from the rise of the Las Vegas Strip and Fremont Street.</li>\n",
    "<li>This is great news in that the community is expanding, but at this point in time there is no centralized wastewater treatment for the area.</li>\n",
    "<li>There were many decentralized septic tanks and even private wastewater treatment plants on the Las Vegas Strip (Yes! This is true believe or not!) in the 1950s.</red></li>\n",
    "<li>As centralized wastewater treatment is cheaper in the longrun as a city grows, the Clark County Water Reclamation District was created a General Improvement District on August 11, 1954 with the mission to treat wastewater flows from the Las Vegas Valley's unincorporated areas which includes the Las Vegas Strip.</li>\n",
    "<li>In early 1955, Clark County residents voted for the issuance of bonds for the construction of a collection system (pipelines) and wastewater treatment facility.</li>\n",
    "</ul>\n",
    "This is where you come in, the residents of Clark County are depending on you to plan, design, and operate a wastewater collections system and treatment facility!\n",
    "\n",
    "To show how much the area has grown, please enjoy this old aerial photo from 1958.  We were a small community!  When you are ready, please click the link below to go to the planning module!\n",
    "<br><center>[Go to Planning](./02_Planning.ipynb)</center>"
   ]
  },
  {
   "cell_type": "code",
   "execution_count": null,
   "id": "11e95197",
   "metadata": {},
   "outputs": [],
   "source": [
    "\n",
    "\n",
    "# Define the aerial image bounds\n",
    "aerial_bounds = [\n",
    "    [36.042734, -115.191564],  # SW corner\n",
    "    [36.152722, -115.056038]   # NE corner\n",
    "]\n",
    "\n",
    "# Start centered on Harry Reid Airport, zoomed in\n",
    "m = folium.Map(\n",
    "    location=[36.0840, -115.1537],  # Harry Reid Intl Airport\n",
    "    zoom_start=16,\n",
    "    width=600,\n",
    "    height=400,\n",
    "    max_bounds=True                 # lock map to bounds\n",
    ")\n",
    "\n",
    "# Modern aerial basemap\n",
    "folium.TileLayer(\n",
    "    tiles=\"https://server.arcgisonline.com/ArcGIS/rest/services/World_Imagery/MapServer/tile/{z}/{y}/{x}\",\n",
    "    attr=\"Esri, Maxar, Earthstar Geographics, and the GIS User Community\",\n",
    "    name=\"Esri World Imagery\",\n",
    "    overlay=False,\n",
    "    control=True\n",
    ").add_to(m)\n",
    "\n",
    "# Optional labels\n",
    "folium.TileLayer(\n",
    "    tiles=\"https://services.arcgisonline.com/ArcGIS/rest/services/Reference/World_Boundaries_and_Places/MapServer/tile/{z}/{y}/{x}\",\n",
    "    attr=\"Esri\",\n",
    "    name=\"Labels (Boundaries & Places)\",\n",
    "    overlay=True,\n",
    "    control=True\n",
    ").add_to(m)\n",
    "\n",
    "# Historic overlay\n",
    "folium.raster_layers.ImageOverlay(\n",
    "    image=\"vegas_1958.png\",\n",
    "    bounds=aerial_bounds,\n",
    "    #opacity=0.7,\n",
    "    name=\"Las Vegas 1958 Aerial\"\n",
    ").add_to(m)\n",
    "\n",
    "# Layer controls\n",
    "folium.LayerControl().add_to(m)\n",
    "\n",
    "m"
   ]
  }
 ],
 "metadata": {
  "kernelspec": {
   "display_name": ".venv",
   "language": "python",
   "name": "python3"
  },
  "language_info": {
   "codemirror_mode": {
    "name": "ipython",
    "version": 3
   },
   "file_extension": ".py",
   "mimetype": "text/x-python",
   "name": "python",
   "nbconvert_exporter": "python",
   "pygments_lexer": "ipython3",
   "version": "3.12.10"
  }
 },
 "nbformat": 4,
 "nbformat_minor": 5
}
