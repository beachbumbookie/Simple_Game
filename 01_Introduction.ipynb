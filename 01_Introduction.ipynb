{
 "cells": [
  {
   "cell_type": "code",
   "execution_count": 1,
   "id": "67919b0e",
   "metadata": {},
   "outputs": [],
   "source": [
    "import pandas as pd\n",
    "import plotly.express as px\n",
    "pd.plotting.register_matplotlib_converters()\n",
    "import matplotlib.pyplot as plt\n",
    "%matplotlib inline\n",
    "import seaborn as sns\n",
    "import numpy as np\n",
    "import sklearn\n",
    "from sklearn.linear_model import LinearRegression\n",
    "from sklearn.model_selection import train_test_split\n",
    "from sklearn.metrics import mean_squared_error, r2_score"
   ]
  },
  {
   "cell_type": "markdown",
   "id": "fff927a3",
   "metadata": {},
   "source": [
    "<h1 style=\"text-align: center;\">Welcome to the Clean Water Team!</h1>\n",
    "<h2 style=\"text-align: center;\">Now a Brief Introduction to the Problem That You Will Help Solve</h2>"
   ]
  },
  {
   "cell_type": "code",
   "execution_count": null,
   "id": "f9364088",
   "metadata": {},
   "outputs": [
    {
     "name": "stderr",
     "output_type": "stream",
     "text": [
      "<>:5: SyntaxWarning: invalid escape sequence '\\l'\n",
      "<>:5: SyntaxWarning: invalid escape sequence '\\l'\n",
      "C:\\Users\\beach\\AppData\\Local\\Temp\\ipykernel_29728\\969748038.py:5: SyntaxWarning: invalid escape sequence '\\l'\n",
      "  audio = widgets.Audio.from_file(\"Soundtrack\\loop_1min.wav\")\n"
     ]
    },
    {
     "data": {
      "application/vnd.jupyter.widget-view+json": {
       "model_id": "37eeee721bd14d178d3c91ec12a417c6",
       "version_major": 2,
       "version_minor": 0
      },
      "text/plain": [
       "HBox(children=(Label(value='', layout=Layout(width='0px')), Audio(value=b'RIFF\\xd47R\\x00WAVEfmt \\x10\\x00\\x00\\x…"
      ]
     },
     "metadata": {},
     "output_type": "display_data"
    }
   ],
   "source": [
    "import ipywidgets as widgets\n",
    "from IPython.display import display\n",
    "\n",
    "# Load the audio file\n",
    "audio = widgets.Audio.from_file(\"loop_1min_snes.wav\")\n",
    "audio.loop = True\n",
    "audio.autoplay = False   # browsers usually block autoplay until first click\n",
    "audio.layout = widgets.Layout(width=\"200px\")  # shrink the player bar\n",
    "\n",
    "# Label + audio side by side\n",
    "box = widgets.HBox([\n",
    "    widgets.Label(\"\", layout=widgets.Layout(width=\"0px\")),\n",
    "    audio\n",
    "])\n",
    "\n",
    "display(box)\n",
    "#src = Path(\"Soundtrack\\loop_1min.wav\")\n"
   ]
  },
  {
   "cell_type": "markdown",
   "id": "029a44d9",
   "metadata": {},
   "source": [
    "Let's take a step back in time and go back to the 1950s for the Las Vegas Valley (also known as Clark County):\n",
    "<ul> \n",
    "<li>Las Vegas and the surrounding communities have experienced rapid growth over the past few years as well as domestic and international attention from tourism from the rise of the Las Vegas Strip and Fremont Street.</li>\n",
    "<li>This is great news in that the community is expanding, but at this point in time there is no centralized wastewater treatment for the area.</li>\n",
    "<li>There were many decentralized septic tanks and even private wastewater treatment plants on the Las Vegas Strip (Yes! This is true believe or not!) in the 1950s.</red></li>\n",
    "<li>As centralized wastewater treatment is cheaper in the longrun as a city grows, the Clark County Water Reclamation District was created a General Improvement District on August 11, 1954 with the mission to treat wastewater flows from the Las Vegas Valley's unincorporated areas which includes the Las Vegas Strip.</li>\n",
    "<li>In early 1955, Clark County residents voted for the issuance of bonds for the construction of a collection system (pipelines) and wastewater treatment facility.</li>\n",
    "</ul>\n",
    "This is where you come in, the residents of Clark County are depending on you to plan, design, and operate a wastewater collections system and treatment facility!"
   ]
  },
  {
   "cell_type": "markdown",
   "id": "70d3a52e",
   "metadata": {},
   "source": [
    "<h2>Planning</h2>\n",
    "The first step in any big endeavor like this is to plan just how large of facilities are required.  To do this, engineers and planners first have to estimate the amount of wastewater that will enter a sewer collections system and wastewater treatment plant. <b>This is a critical step as we do not want either too large or too small of facilities.</b>\n",
    "<br>To figure out how much flow is entering our facility we will figure out the population of our service area and project it from 1955 to 1980.  As you will soon see, population directly translates to wastewater flows.  We are lucky in that we have recent data from 1950 to 1955 that we can use for Unicorporated Clark County and the other local areas, as well as room and visitor information.<br><b>In Engineering and Planning please note that daily visitors to an area are considered additional population.</b>\n"
   ]
  },
  {
   "cell_type": "code",
   "execution_count": null,
   "id": "c0b575a2",
   "metadata": {},
   "outputs": [],
   "source": [
    "import folium\n",
    "\n",
    "# Define the aerial image bounds\n",
    "aerial_bounds = [\n",
    "    [36.042734, -115.191564],  # SW corner\n",
    "    [36.152722, -115.056038]   # NE corner\n",
    "]\n",
    "\n",
    "# Start centered on Harry Reid Airport, zoomed in\n",
    "m = folium.Map(\n",
    "    location=[36.0840, -115.1537],  # Harry Reid Intl Airport\n",
    "    zoom_start=16,\n",
    "    width=600,\n",
    "    height=400,\n",
    "    max_bounds=True                 # lock map to bounds\n",
    ")\n",
    "\n",
    "# Modern aerial basemap\n",
    "folium.TileLayer(\n",
    "    tiles=\"https://server.arcgisonline.com/ArcGIS/rest/services/World_Imagery/MapServer/tile/{z}/{y}/{x}\",\n",
    "    attr=\"Esri, Maxar, Earthstar Geographics, and the GIS User Community\",\n",
    "    name=\"Esri World Imagery\",\n",
    "    overlay=False,\n",
    "    control=True\n",
    ").add_to(m)\n",
    "\n",
    "# Optional labels\n",
    "folium.TileLayer(\n",
    "    tiles=\"https://services.arcgisonline.com/ArcGIS/rest/services/Reference/World_Boundaries_and_Places/MapServer/tile/{z}/{y}/{x}\",\n",
    "    attr=\"Esri\",\n",
    "    name=\"Labels (Boundaries & Places)\",\n",
    "    overlay=True,\n",
    "    control=True\n",
    ").add_to(m)\n",
    "\n",
    "# Historic overlay\n",
    "folium.raster_layers.ImageOverlay(\n",
    "    image=\"vegas_1958.png\",\n",
    "    bounds=aerial_bounds,\n",
    "    #opacity=0.7,\n",
    "    name=\"Las Vegas 1958 Aerial\"\n",
    ").add_to(m)\n",
    "\n",
    "# Layer controls\n",
    "folium.LayerControl().add_to(m)\n",
    "\n",
    "m\n"
   ]
  },
  {
   "cell_type": "code",
   "execution_count": 3,
   "id": "b0e2f93c",
   "metadata": {},
   "outputs": [
    {
     "data": {
      "text/html": [
       "<style type=\"text/css\">\n",
       "#T_25af0_row0_col1, #T_25af0_row0_col2, #T_25af0_row0_col3, #T_25af0_row0_col4, #T_25af0_row0_col5, #T_25af0_row0_col6, #T_25af0_row0_col7, #T_25af0_row0_col8, #T_25af0_row0_col9, #T_25af0_row1_col1, #T_25af0_row1_col2, #T_25af0_row1_col3, #T_25af0_row1_col4, #T_25af0_row1_col5, #T_25af0_row1_col6, #T_25af0_row1_col7, #T_25af0_row1_col8, #T_25af0_row1_col9, #T_25af0_row2_col1, #T_25af0_row2_col2, #T_25af0_row2_col3, #T_25af0_row2_col4, #T_25af0_row2_col5, #T_25af0_row2_col6, #T_25af0_row2_col7, #T_25af0_row2_col8, #T_25af0_row2_col9, #T_25af0_row3_col1, #T_25af0_row3_col2, #T_25af0_row3_col3, #T_25af0_row3_col4, #T_25af0_row3_col5, #T_25af0_row3_col6, #T_25af0_row3_col7, #T_25af0_row3_col8, #T_25af0_row3_col9, #T_25af0_row4_col1, #T_25af0_row4_col2, #T_25af0_row4_col3, #T_25af0_row4_col4, #T_25af0_row4_col5, #T_25af0_row4_col6, #T_25af0_row4_col7, #T_25af0_row4_col8, #T_25af0_row4_col9, #T_25af0_row5_col1, #T_25af0_row5_col2, #T_25af0_row5_col3, #T_25af0_row5_col4, #T_25af0_row5_col5, #T_25af0_row5_col6, #T_25af0_row5_col7, #T_25af0_row5_col8, #T_25af0_row5_col9 {\n",
       "  text-align: center;\n",
       "}\n",
       "</style>\n",
       "<table id=\"T_25af0\">\n",
       "  <thead>\n",
       "    <tr>\n",
       "      <th id=\"T_25af0_level0_col0\" class=\"col_heading level0 col0\" >Year</th>\n",
       "      <th id=\"T_25af0_level0_col1\" class=\"col_heading level0 col1\" >Clark County</th>\n",
       "      <th id=\"T_25af0_level0_col2\" class=\"col_heading level0 col2\" >Las Vegas</th>\n",
       "      <th id=\"T_25af0_level0_col3\" class=\"col_heading level0 col3\" >Henderson</th>\n",
       "      <th id=\"T_25af0_level0_col4\" class=\"col_heading level0 col4\" >North Las Vegas</th>\n",
       "      <th id=\"T_25af0_level0_col5\" class=\"col_heading level0 col5\" >Boulder City</th>\n",
       "      <th id=\"T_25af0_level0_col6\" class=\"col_heading level0 col6\" >Unincorporated Clark County</th>\n",
       "      <th id=\"T_25af0_level0_col7\" class=\"col_heading level0 col7\" >Annual Estimated Visitor Volume</th>\n",
       "      <th id=\"T_25af0_level0_col8\" class=\"col_heading level0 col8\" >Average Daily Visitors</th>\n",
       "      <th id=\"T_25af0_level0_col9\" class=\"col_heading level0 col9\" >Room Inventory</th>\n",
       "    </tr>\n",
       "  </thead>\n",
       "  <tbody>\n",
       "    <tr>\n",
       "      <td id=\"T_25af0_row0_col0\" class=\"data row0 col0\" >1950</td>\n",
       "      <td id=\"T_25af0_row0_col1\" class=\"data row0 col1\" >48,289</td>\n",
       "      <td id=\"T_25af0_row0_col2\" class=\"data row0 col2\" >24,624</td>\n",
       "      <td id=\"T_25af0_row0_col3\" class=\"data row0 col3\" >5,717</td>\n",
       "      <td id=\"T_25af0_row0_col4\" class=\"data row0 col4\" >3,875</td>\n",
       "      <td id=\"T_25af0_row0_col5\" class=\"data row0 col5\" >3,903</td>\n",
       "      <td id=\"T_25af0_row0_col6\" class=\"data row0 col6\" >10,170</td>\n",
       "      <td id=\"T_25af0_row0_col7\" class=\"data row0 col7\" >2,233,800</td>\n",
       "      <td id=\"T_25af0_row0_col8\" class=\"data row0 col8\" >6,120</td>\n",
       "      <td id=\"T_25af0_row0_col9\" class=\"data row0 col9\" >5,100</td>\n",
       "    </tr>\n",
       "    <tr>\n",
       "      <td id=\"T_25af0_row1_col0\" class=\"data row1 col0\" >1951</td>\n",
       "      <td id=\"T_25af0_row1_col1\" class=\"data row1 col1\" >56,600</td>\n",
       "      <td id=\"T_25af0_row1_col2\" class=\"data row1 col2\" >28,675</td>\n",
       "      <td id=\"T_25af0_row1_col3\" class=\"data row1 col3\" >6,243</td>\n",
       "      <td id=\"T_25af0_row1_col4\" class=\"data row1 col4\" >5,312</td>\n",
       "      <td id=\"T_25af0_row1_col5\" class=\"data row1 col5\" >3,920</td>\n",
       "      <td id=\"T_25af0_row1_col6\" class=\"data row1 col6\" >11,689</td>\n",
       "      <td id=\"T_25af0_row1_col7\" class=\"data row1 col7\" >2,452,800</td>\n",
       "      <td id=\"T_25af0_row1_col8\" class=\"data row1 col8\" >6,720</td>\n",
       "      <td id=\"T_25af0_row1_col9\" class=\"data row1 col9\" >5,600</td>\n",
       "    </tr>\n",
       "    <tr>\n",
       "      <td id=\"T_25af0_row2_col0\" class=\"data row2 col0\" >1952</td>\n",
       "      <td id=\"T_25af0_row2_col1\" class=\"data row2 col1\" >64,777</td>\n",
       "      <td id=\"T_25af0_row2_col2\" class=\"data row2 col2\" >32,824</td>\n",
       "      <td id=\"T_25af0_row2_col3\" class=\"data row2 col3\" >7,040</td>\n",
       "      <td id=\"T_25af0_row2_col4\" class=\"data row2 col4\" >6,775</td>\n",
       "      <td id=\"T_25af0_row2_col5\" class=\"data row2 col5\" >3,932</td>\n",
       "      <td id=\"T_25af0_row2_col6\" class=\"data row2 col6\" >13,206</td>\n",
       "      <td id=\"T_25af0_row2_col7\" class=\"data row2 col7\" >2,671,800</td>\n",
       "      <td id=\"T_25af0_row2_col8\" class=\"data row2 col8\" >7,320</td>\n",
       "      <td id=\"T_25af0_row2_col9\" class=\"data row2 col9\" >6,100</td>\n",
       "    </tr>\n",
       "    <tr>\n",
       "      <td id=\"T_25af0_row3_col0\" class=\"data row3 col0\" >1953</td>\n",
       "      <td id=\"T_25af0_row3_col1\" class=\"data row3 col1\" >74,062</td>\n",
       "      <td id=\"T_25af0_row3_col2\" class=\"data row3 col2\" >36,719</td>\n",
       "      <td id=\"T_25af0_row3_col3\" class=\"data row3 col3\" >7,565</td>\n",
       "      <td id=\"T_25af0_row3_col4\" class=\"data row3 col4\" >8,291</td>\n",
       "      <td id=\"T_25af0_row3_col5\" class=\"data row3 col5\" >3,947</td>\n",
       "      <td id=\"T_25af0_row3_col6\" class=\"data row3 col6\" >14,822</td>\n",
       "      <td id=\"T_25af0_row3_col7\" class=\"data row3 col7\" >2,890,800</td>\n",
       "      <td id=\"T_25af0_row3_col8\" class=\"data row3 col8\" >7,920</td>\n",
       "      <td id=\"T_25af0_row3_col9\" class=\"data row3 col9\" >6,600</td>\n",
       "    </tr>\n",
       "    <tr>\n",
       "      <td id=\"T_25af0_row4_col0\" class=\"data row4 col0\" >1954</td>\n",
       "      <td id=\"T_25af0_row4_col1\" class=\"data row4 col1\" >82,216</td>\n",
       "      <td id=\"T_25af0_row4_col2\" class=\"data row4 col2\" >40,442</td>\n",
       "      <td id=\"T_25af0_row4_col3\" class=\"data row4 col3\" >8,197</td>\n",
       "      <td id=\"T_25af0_row4_col4\" class=\"data row4 col4\" >9,612</td>\n",
       "      <td id=\"T_25af0_row4_col5\" class=\"data row4 col5\" >3,965</td>\n",
       "      <td id=\"T_25af0_row4_col6\" class=\"data row4 col6\" >16,412</td>\n",
       "      <td id=\"T_25af0_row4_col7\" class=\"data row4 col7\" >3,109,800</td>\n",
       "      <td id=\"T_25af0_row4_col8\" class=\"data row4 col8\" >8,520</td>\n",
       "      <td id=\"T_25af0_row4_col9\" class=\"data row4 col9\" >7,100</td>\n",
       "    </tr>\n",
       "    <tr>\n",
       "      <td id=\"T_25af0_row5_col0\" class=\"data row5 col0\" >1955</td>\n",
       "      <td id=\"T_25af0_row5_col1\" class=\"data row5 col1\" >89,863</td>\n",
       "      <td id=\"T_25af0_row5_col2\" class=\"data row5 col2\" >44,328</td>\n",
       "      <td id=\"T_25af0_row5_col3\" class=\"data row5 col3\" >8,728</td>\n",
       "      <td id=\"T_25af0_row5_col4\" class=\"data row5 col4\" >11,055</td>\n",
       "      <td id=\"T_25af0_row5_col5\" class=\"data row5 col5\" >3,977</td>\n",
       "      <td id=\"T_25af0_row5_col6\" class=\"data row5 col6\" >17,866</td>\n",
       "      <td id=\"T_25af0_row5_col7\" class=\"data row5 col7\" >3,328,800</td>\n",
       "      <td id=\"T_25af0_row5_col8\" class=\"data row5 col8\" >9,120</td>\n",
       "      <td id=\"T_25af0_row5_col9\" class=\"data row5 col9\" >7,600</td>\n",
       "    </tr>\n",
       "  </tbody>\n",
       "</table>\n"
      ],
      "text/plain": [
       "<pandas.io.formats.style.Styler at 0x1f1c69730e0>"
      ]
     },
     "metadata": {},
     "output_type": "display_data"
    }
   ],
   "source": [
    "# Step 1: Read Excel with Year as a normal column\n",
    "Population1950to1955 = pd.read_excel('Population Data - 1950 to 1955.xlsx')\n",
    "\n",
    "# Step 2: Apply comma formatting (but skip Year)\n",
    "#Population1950to1955_formatted = Population1950to1955.copy()\n",
    "#for col in Population1950to1955_formatted.columns:\n",
    "    #if col != \"Year\":\n",
    "        #Population1950to1955_formatted[col] = Population1950to1955_formatted[col].apply(\n",
    "            #lambda x: f\"{x:,}\" if isinstance(x, (int, float)) else x\n",
    "        #)\n",
    "#\n",
    "# Step 3: Style for display\n",
    "#styled = (\n",
    "    #Population1950to1955_formatted\n",
    "    #.style.hide(axis=\"index\")   # no index column\n",
    "    #.set_properties(\n",
    "        #subset=Population1950to1955_formatted.columns[1:],  # center all except Year\n",
    "        #**{\"text-align\": \"center\"}\n",
    "    #)\n",
    "#)\n",
    "#\n",
    "#display(styled)\n",
    "#\n",
    "Population1950to1955"
    "Population1950to1955 = Population1950to1955.set_index('Year')\n"
   ]
  },
  {
   "cell_type": "markdown",
   "id": "87fd580e",
   "metadata": {},
   "source": [
    "<h3>Time to Figure out Unincorporated Clark County Population Growth to 1980!</h3>\n",
    "In graphical form our data looks like this for just Unincorporated Clark County without including an visitor information."
   ]
  },
  {
   "cell_type": "code",
   "execution_count": 4,
   "id": "a0a01d3f",
   "metadata": {},
   "outputs": [
    {
     "data": {
      "application/vnd.plotly.v1+json": {
       "config": {
        "plotlyServerURL": "https://plot.ly"
       },
       "data": [
        {
         "hovertemplate": "Area = %{fullData.name}<br>Year = %{x}<br>Population = %{y:,}<extra></extra>",
         "legendgroup": "Unincorporated Clark County",
         "line": {
          "color": "#636efa",
          "dash": "solid"
         },
         "marker": {
          "symbol": "circle"
         },
         "mode": "lines",
         "name": "Unincorporated Clark County",
         "orientation": "v",
         "showlegend": true,
         "type": "scatter",
         "x": {
          "bdata": "ngefB6AHoQeiB6MH",
          "dtype": "i2"
         },
         "xaxis": "x",
         "y": {
          "bdata": "uiepLZYz5jkcQMpF",
          "dtype": "i2"
         },
         "yaxis": "y"
        }
       ],
       "layout": {
        "height": 600,
        "legend": {
         "orientation": "h",
         "title": {
          "side": "top center",
          "text": ""
         },
         "tracegroupgap": 0,
         "x": 0.5,
         "xanchor": "center",
         "y": -0.3,
         "yanchor": "top"
        },
        "template": {
         "data": {
          "bar": [
           {
            "error_x": {
             "color": "#2a3f5f"
            },
            "error_y": {
             "color": "#2a3f5f"
            },
            "marker": {
             "line": {
              "color": "#E5ECF6",
              "width": 0.5
             },
             "pattern": {
              "fillmode": "overlay",
              "size": 10,
              "solidity": 0.2
             }
            },
            "type": "bar"
           }
          ],
          "barpolar": [
           {
            "marker": {
             "line": {
              "color": "#E5ECF6",
              "width": 0.5
             },
             "pattern": {
              "fillmode": "overlay",
              "size": 10,
              "solidity": 0.2
             }
            },
            "type": "barpolar"
           }
          ],
          "carpet": [
           {
            "aaxis": {
             "endlinecolor": "#2a3f5f",
             "gridcolor": "white",
             "linecolor": "white",
             "minorgridcolor": "white",
             "startlinecolor": "#2a3f5f"
            },
            "baxis": {
             "endlinecolor": "#2a3f5f",
             "gridcolor": "white",
             "linecolor": "white",
             "minorgridcolor": "white",
             "startlinecolor": "#2a3f5f"
            },
            "type": "carpet"
           }
          ],
          "choropleth": [
           {
            "colorbar": {
             "outlinewidth": 0,
             "ticks": ""
            },
            "type": "choropleth"
           }
          ],
          "contour": [
           {
            "colorbar": {
             "outlinewidth": 0,
             "ticks": ""
            },
            "colorscale": [
             [
              0,
              "#0d0887"
             ],
             [
              0.1111111111111111,
              "#46039f"
             ],
             [
              0.2222222222222222,
              "#7201a8"
             ],
             [
              0.3333333333333333,
              "#9c179e"
             ],
             [
              0.4444444444444444,
              "#bd3786"
             ],
             [
              0.5555555555555556,
              "#d8576b"
             ],
             [
              0.6666666666666666,
              "#ed7953"
             ],
             [
              0.7777777777777778,
              "#fb9f3a"
             ],
             [
              0.8888888888888888,
              "#fdca26"
             ],
             [
              1,
              "#f0f921"
             ]
            ],
            "type": "contour"
           }
          ],
          "contourcarpet": [
           {
            "colorbar": {
             "outlinewidth": 0,
             "ticks": ""
            },
            "type": "contourcarpet"
           }
          ],
          "heatmap": [
           {
            "colorbar": {
             "outlinewidth": 0,
             "ticks": ""
            },
            "colorscale": [
             [
              0,
              "#0d0887"
             ],
             [
              0.1111111111111111,
              "#46039f"
             ],
             [
              0.2222222222222222,
              "#7201a8"
             ],
             [
              0.3333333333333333,
              "#9c179e"
             ],
             [
              0.4444444444444444,
              "#bd3786"
             ],
             [
              0.5555555555555556,
              "#d8576b"
             ],
             [
              0.6666666666666666,
              "#ed7953"
             ],
             [
              0.7777777777777778,
              "#fb9f3a"
             ],
             [
              0.8888888888888888,
              "#fdca26"
             ],
             [
              1,
              "#f0f921"
             ]
            ],
            "type": "heatmap"
           }
          ],
          "histogram": [
           {
            "marker": {
             "pattern": {
              "fillmode": "overlay",
              "size": 10,
              "solidity": 0.2
             }
            },
            "type": "histogram"
           }
          ],
          "histogram2d": [
           {
            "colorbar": {
             "outlinewidth": 0,
             "ticks": ""
            },
            "colorscale": [
             [
              0,
              "#0d0887"
             ],
             [
              0.1111111111111111,
              "#46039f"
             ],
             [
              0.2222222222222222,
              "#7201a8"
             ],
             [
              0.3333333333333333,
              "#9c179e"
             ],
             [
              0.4444444444444444,
              "#bd3786"
             ],
             [
              0.5555555555555556,
              "#d8576b"
             ],
             [
              0.6666666666666666,
              "#ed7953"
             ],
             [
              0.7777777777777778,
              "#fb9f3a"
             ],
             [
              0.8888888888888888,
              "#fdca26"
             ],
             [
              1,
              "#f0f921"
             ]
            ],
            "type": "histogram2d"
           }
          ],
          "histogram2dcontour": [
           {
            "colorbar": {
             "outlinewidth": 0,
             "ticks": ""
            },
            "colorscale": [
             [
              0,
              "#0d0887"
             ],
             [
              0.1111111111111111,
              "#46039f"
             ],
             [
              0.2222222222222222,
              "#7201a8"
             ],
             [
              0.3333333333333333,
              "#9c179e"
             ],
             [
              0.4444444444444444,
              "#bd3786"
             ],
             [
              0.5555555555555556,
              "#d8576b"
             ],
             [
              0.6666666666666666,
              "#ed7953"
             ],
             [
              0.7777777777777778,
              "#fb9f3a"
             ],
             [
              0.8888888888888888,
              "#fdca26"
             ],
             [
              1,
              "#f0f921"
             ]
            ],
            "type": "histogram2dcontour"
           }
          ],
          "mesh3d": [
           {
            "colorbar": {
             "outlinewidth": 0,
             "ticks": ""
            },
            "type": "mesh3d"
           }
          ],
          "parcoords": [
           {
            "line": {
             "colorbar": {
              "outlinewidth": 0,
              "ticks": ""
             }
            },
            "type": "parcoords"
           }
          ],
          "pie": [
           {
            "automargin": true,
            "type": "pie"
           }
          ],
          "scatter": [
           {
            "fillpattern": {
             "fillmode": "overlay",
             "size": 10,
             "solidity": 0.2
            },
            "type": "scatter"
           }
          ],
          "scatter3d": [
           {
            "line": {
             "colorbar": {
              "outlinewidth": 0,
              "ticks": ""
             }
            },
            "marker": {
             "colorbar": {
              "outlinewidth": 0,
              "ticks": ""
             }
            },
            "type": "scatter3d"
           }
          ],
          "scattercarpet": [
           {
            "marker": {
             "colorbar": {
              "outlinewidth": 0,
              "ticks": ""
             }
            },
            "type": "scattercarpet"
           }
          ],
          "scattergeo": [
           {
            "marker": {
             "colorbar": {
              "outlinewidth": 0,
              "ticks": ""
             }
            },
            "type": "scattergeo"
           }
          ],
          "scattergl": [
           {
            "marker": {
             "colorbar": {
              "outlinewidth": 0,
              "ticks": ""
             }
            },
            "type": "scattergl"
           }
          ],
          "scattermap": [
           {
            "marker": {
             "colorbar": {
              "outlinewidth": 0,
              "ticks": ""
             }
            },
            "type": "scattermap"
           }
          ],
          "scattermapbox": [
           {
            "marker": {
             "colorbar": {
              "outlinewidth": 0,
              "ticks": ""
             }
            },
            "type": "scattermapbox"
           }
          ],
          "scatterpolar": [
           {
            "marker": {
             "colorbar": {
              "outlinewidth": 0,
              "ticks": ""
             }
            },
            "type": "scatterpolar"
           }
          ],
          "scatterpolargl": [
           {
            "marker": {
             "colorbar": {
              "outlinewidth": 0,
              "ticks": ""
             }
            },
            "type": "scatterpolargl"
           }
          ],
          "scatterternary": [
           {
            "marker": {
             "colorbar": {
              "outlinewidth": 0,
              "ticks": ""
             }
            },
            "type": "scatterternary"
           }
          ],
          "surface": [
           {
            "colorbar": {
             "outlinewidth": 0,
             "ticks": ""
            },
            "colorscale": [
             [
              0,
              "#0d0887"
             ],
             [
              0.1111111111111111,
              "#46039f"
             ],
             [
              0.2222222222222222,
              "#7201a8"
             ],
             [
              0.3333333333333333,
              "#9c179e"
             ],
             [
              0.4444444444444444,
              "#bd3786"
             ],
             [
              0.5555555555555556,
              "#d8576b"
             ],
             [
              0.6666666666666666,
              "#ed7953"
             ],
             [
              0.7777777777777778,
              "#fb9f3a"
             ],
             [
              0.8888888888888888,
              "#fdca26"
             ],
             [
              1,
              "#f0f921"
             ]
            ],
            "type": "surface"
           }
          ],
          "table": [
           {
            "cells": {
             "fill": {
              "color": "#EBF0F8"
             },
             "line": {
              "color": "white"
             }
            },
            "header": {
             "fill": {
              "color": "#C8D4E3"
             },
             "line": {
              "color": "white"
             }
            },
            "type": "table"
           }
          ]
         },
         "layout": {
          "annotationdefaults": {
           "arrowcolor": "#2a3f5f",
           "arrowhead": 0,
           "arrowwidth": 1
          },
          "autotypenumbers": "strict",
          "coloraxis": {
           "colorbar": {
            "outlinewidth": 0,
            "ticks": ""
           }
          },
          "colorscale": {
           "diverging": [
            [
             0,
             "#8e0152"
            ],
            [
             0.1,
             "#c51b7d"
            ],
            [
             0.2,
             "#de77ae"
            ],
            [
             0.3,
             "#f1b6da"
            ],
            [
             0.4,
             "#fde0ef"
            ],
            [
             0.5,
             "#f7f7f7"
            ],
            [
             0.6,
             "#e6f5d0"
            ],
            [
             0.7,
             "#b8e186"
            ],
            [
             0.8,
             "#7fbc41"
            ],
            [
             0.9,
             "#4d9221"
            ],
            [
             1,
             "#276419"
            ]
           ],
           "sequential": [
            [
             0,
             "#0d0887"
            ],
            [
             0.1111111111111111,
             "#46039f"
            ],
            [
             0.2222222222222222,
             "#7201a8"
            ],
            [
             0.3333333333333333,
             "#9c179e"
            ],
            [
             0.4444444444444444,
             "#bd3786"
            ],
            [
             0.5555555555555556,
             "#d8576b"
            ],
            [
             0.6666666666666666,
             "#ed7953"
            ],
            [
             0.7777777777777778,
             "#fb9f3a"
            ],
            [
             0.8888888888888888,
             "#fdca26"
            ],
            [
             1,
             "#f0f921"
            ]
           ],
           "sequentialminus": [
            [
             0,
             "#0d0887"
            ],
            [
             0.1111111111111111,
             "#46039f"
            ],
            [
             0.2222222222222222,
             "#7201a8"
            ],
            [
             0.3333333333333333,
             "#9c179e"
            ],
            [
             0.4444444444444444,
             "#bd3786"
            ],
            [
             0.5555555555555556,
             "#d8576b"
            ],
            [
             0.6666666666666666,
             "#ed7953"
            ],
            [
             0.7777777777777778,
             "#fb9f3a"
            ],
            [
             0.8888888888888888,
             "#fdca26"
            ],
            [
             1,
             "#f0f921"
            ]
           ]
          },
          "colorway": [
           "#636efa",
           "#EF553B",
           "#00cc96",
           "#ab63fa",
           "#FFA15A",
           "#19d3f3",
           "#FF6692",
           "#B6E880",
           "#FF97FF",
           "#FECB52"
          ],
          "font": {
           "color": "#2a3f5f"
          },
          "geo": {
           "bgcolor": "white",
           "lakecolor": "white",
           "landcolor": "#E5ECF6",
           "showlakes": true,
           "showland": true,
           "subunitcolor": "white"
          },
          "hoverlabel": {
           "align": "left"
          },
          "hovermode": "closest",
          "mapbox": {
           "style": "light"
          },
          "paper_bgcolor": "white",
          "plot_bgcolor": "#E5ECF6",
          "polar": {
           "angularaxis": {
            "gridcolor": "white",
            "linecolor": "white",
            "ticks": ""
           },
           "bgcolor": "#E5ECF6",
           "radialaxis": {
            "gridcolor": "white",
            "linecolor": "white",
            "ticks": ""
           }
          },
          "scene": {
           "xaxis": {
            "backgroundcolor": "#E5ECF6",
            "gridcolor": "white",
            "gridwidth": 2,
            "linecolor": "white",
            "showbackground": true,
            "ticks": "",
            "zerolinecolor": "white"
           },
           "yaxis": {
            "backgroundcolor": "#E5ECF6",
            "gridcolor": "white",
            "gridwidth": 2,
            "linecolor": "white",
            "showbackground": true,
            "ticks": "",
            "zerolinecolor": "white"
           },
           "zaxis": {
            "backgroundcolor": "#E5ECF6",
            "gridcolor": "white",
            "gridwidth": 2,
            "linecolor": "white",
            "showbackground": true,
            "ticks": "",
            "zerolinecolor": "white"
           }
          },
          "shapedefaults": {
           "line": {
            "color": "#2a3f5f"
           }
          },
          "ternary": {
           "aaxis": {
            "gridcolor": "white",
            "linecolor": "white",
            "ticks": ""
           },
           "baxis": {
            "gridcolor": "white",
            "linecolor": "white",
            "ticks": ""
           },
           "bgcolor": "#E5ECF6",
           "caxis": {
            "gridcolor": "white",
            "linecolor": "white",
            "ticks": ""
           }
          },
          "title": {
           "x": 0.05
          },
          "xaxis": {
           "automargin": true,
           "gridcolor": "white",
           "linecolor": "white",
           "ticks": "",
           "title": {
            "standoff": 15
           },
           "zerolinecolor": "white",
           "zerolinewidth": 2
          },
          "yaxis": {
           "automargin": true,
           "gridcolor": "white",
           "linecolor": "white",
           "ticks": "",
           "title": {
            "standoff": 15
           },
           "zerolinecolor": "white",
           "zerolinewidth": 2
          }
         }
        },
        "title": {
         "text": "Population Data for Unincorporated Clark County 1950 to 1955",
         "x": 0.5,
         "xanchor": "center"
        },
        "width": 800,
        "xaxis": {
         "anchor": "y",
         "domain": [
          0,
          1
         ],
         "title": {
          "text": "Year"
         }
        },
        "yaxis": {
         "anchor": "x",
         "domain": [
          0,
          1
         ],
         "title": {
          "text": "Population"
         }
        }
       }
      }
     },
     "metadata": {},
     "output_type": "display_data"
    }
   ],
   "source": [
    "\n",
    "Population1950to1955 = Population1950to1955.reset_index()\n",
    "\n",
    "# Reshape wide → long for Plotly (all airlines in one column)\n",
    "df_long = Population1950to1955.melt(id_vars='Year', \n",
    "                           value_vars=['Unincorporated Clark County'], \n",
    "                           var_name='Area', value_name='Population')\n",
    "\n",
    "fig = px.line(\n",
    "    df_long,\n",
    "    x='Year', y='Population', color=\"Area\",\n",
    "    title=\"Population Data for Unincorporated Clark County 1950 to 1955\",\n",
    "    labels={'Population' : \"Population\"}\n",
    ")\n",
    "\n",
    "fig.update_traces(\n",
    "    hovertemplate=(\n",
    "        \"Area = %{fullData.name}<br>\"\n",
    "        \"Year = %{x}<br>\"\n",
    "        \"Population = %{y:,}\"\n",
    "        \"<extra></extra>\"\n",
    "    )\n",
    ")\n",
    "\n",
    "fig.update_layout(\n",
    "    width=800, height=600,\n",
    "    yaxis_title=\"Population\",\n",
    "    #this puts the legend on the bottom\n",
    "    legend=dict(\n",
    "        title=dict(text=\"\", side='top center'),  # legend title above items\n",
    "        orientation=\"h\",     # horizontal layout\n",
    "        yanchor=\"top\",\n",
    "        y=-0.3,              # push below chart\n",
    "        xanchor=\"center\",\n",
    "        x=0.5\n",
    "    ),\n",
    "    #centers the title\n",
    "    title=dict(\n",
    "        text=\"Population Data for Unincorporated Clark County 1950 to 1955\",\n",
    "        x=0.5,  # 0=left, 0.5=center, 1=right\n",
    "        xanchor=\"center\"\n",
    "    )\n",
    ")\n",
    "\n",
    "fig.show()\n",
    "Population1950to1955 = Population1950to1955.set_index('Year')"
   ]
  },
  {
   "cell_type": "code",
   "execution_count": 5,
   "id": "483d9d26",
   "metadata": {},
   "outputs": [],
   "source": [
    "Population1950to1955['Years Since 1950']=np.arange(len(Population1950to1955))\n",
    "#Population1950to1955.head()"
   ]
  },
  {
   "cell_type": "markdown",
   "id": "8b95e373",
   "metadata": {},
   "source": [
    "Do you see a linear trend to the population growth in Unincorporated Clark County?  It certainly looks that way from the data thus far!  Over 5 years, our population increase from 10,170 to 17,866.  This allows us to come up with a good linear equation to predict future population growth!\n",
    "<br>Unfortunately now it's time for some boring math... 😞 where we need to start with a linear regression equation... 🤔<br>\n",
    "$$y=mx+b$$\n",
    "where $y$ is the predicted population, <br>\n",
    "$m$ is the slope of our data, <br>\n",
    "$x$ is the number of years since 1950, <br>\n",
    "and $b$ is the intercept of 10,170 which is our starting population in 1950 <br><br>\n",
    "You will be walked through this one but you will be doing the linear regression for daily visitors! <br>\n",
    "Let us first start with the slope $m$, to get a slope you need rise over run which in this case the rise would be the population growth and the run would be the number of years. <br>\n",
    "Therefore our rise is $$17,866-10,170=7,696$$ and the run is just 5 since it's five years.  Therefore our slope is $$\\frac{7,696}{5}=1,539.2$$  What exactly does this mean?  It means that our population increases by about 1,539 persons per year for Unincorporated Clark County! <br>\n",
    "Believe it or not, but you now have the entire equation you need to predict the population between now and 1980.  $$y=1,539 \\times x + 10,170$$\n",
    "Now it's time for a quiz.  Please tell us what the estimated population of Unincorporated Clark County would be in the year 1980?\n"
   ]
  },
  {
   "cell_type": "code",
   "execution_count": 6,
   "id": "f3c8fd0e",
   "metadata": {},
   "outputs": [],
   "source": [
    "import ipywidgets as widgets\n",
    "from IPython.display import display, clear_output\n",
    "\n",
    "def make_question(question_text, options, correct_answer):\n",
    "    # Widgets\n",
    "    dropdown = widgets.Dropdown(\n",
    "        options=[\"\"] + options,   # ensure \"\" starts blank\n",
    "        value=\"\",\n",
    "        description=\"Answer:\",\n",
    "        style={'description_width': 'initial'}\n",
    "    )\n",
    "\n",
    "    button = widgets.Button(\n",
    "        description=\"Check Answer\",\n",
    "        button_style=\"info\"\n",
    "    )\n",
    "\n",
    "    output = widgets.Output()\n",
    "\n",
    "    # Callback (closes over dropdown, output, correct_answer)\n",
    "    def check_answer(b):\n",
    "        with output:\n",
    "            clear_output()\n",
    "            if dropdown.value == \"\":\n",
    "                print(\"Please select an answer!\")\n",
    "            elif dropdown.value == correct_answer:\n",
    "                print(\"✅ Correct!\")\n",
    "            else:\n",
    "                print(f\"❌ Incorrect. The correct answer is {correct_answer}.\")\n",
    "\n",
    "    button.on_click(check_answer)\n",
    "\n",
    "    # Display\n",
    "    display(widgets.HTML(f\"<h3>{question_text}</h3>\"))\n",
    "    display(dropdown, button, output)"
   ]
  },
  {
   "cell_type": "code",
   "execution_count": 7,
   "id": "64f9fe96",
   "metadata": {},
   "outputs": [
    {
     "data": {
      "application/vnd.jupyter.widget-view+json": {
       "model_id": "d017b3611dd44514b849858c4f670be8",
       "version_major": 2,
       "version_minor": 0
      },
      "text/plain": [
       "HTML(value='<h3>What is the estimated population of Unincorporated Clark County in 1980?</h3>')"
      ]
     },
     "metadata": {},
     "output_type": "display_data"
    },
    {
     "data": {
      "application/vnd.jupyter.widget-view+json": {
       "model_id": "49ee268901624e26914472b999ea4d85",
       "version_major": 2,
       "version_minor": 0
      },
      "text/plain": [
       "Dropdown(description='Answer:', options=('', '10,170', '1,000,000', '56,340', \"I Don't Know!\"), style=Descript…"
      ]
     },
     "metadata": {},
     "output_type": "display_data"
    },
    {
     "data": {
      "application/vnd.jupyter.widget-view+json": {
       "model_id": "779f0dec00c5477991417c1018e85200",
       "version_major": 2,
       "version_minor": 0
      },
      "text/plain": [
       "Button(button_style='info', description='Check Answer', style=ButtonStyle())"
      ]
     },
     "metadata": {},
     "output_type": "display_data"
    },
    {
     "data": {
      "application/vnd.jupyter.widget-view+json": {
       "model_id": "1e478396f9f14fbaaeba69d9f20b763c",
       "version_major": 2,
       "version_minor": 0
      },
      "text/plain": [
       "Output()"
      ]
     },
     "metadata": {},
     "output_type": "display_data"
    }
   ],
   "source": [
    "make_question(\n",
    "    \"What is the estimated population of Unincorporated Clark County in 1980?\",\n",
    "    [\"10,170\", \"1,000,000\", \"56,340\", \"I Don't Know!\"],\n",
    "    \"56,340\"\n",
    ")"
   ]
  },
  {
   "cell_type": "markdown",
   "id": "f4f5acb1",
   "metadata": {},
   "source": [
    "<h3>Time to Figure out Visitor Growth to 1980!</h3>\n",
    "You will now repeat the same process that you completed for the Unincorporated Clark County Population with the Visitor Data.  <b>Recall that Engineers and planners consider daily visitors as additional population to a service area. </b>"
   ]
  },
  {
   "cell_type": "code",
   "execution_count": 8,
   "id": "c36c7405",
   "metadata": {},
   "outputs": [
    {
     "data": {
      "application/vnd.plotly.v1+json": {
       "config": {
        "plotlyServerURL": "https://plot.ly"
       },
       "data": [
        {
         "hovertemplate": "Area = %{fullData.name}<br>Year = %{x}<br>Population = %{y:,}<extra></extra>",
         "legendgroup": "Average Daily Visitors",
         "line": {
          "color": "#636efa",
          "dash": "solid"
         },
         "marker": {
          "symbol": "circle"
         },
         "mode": "lines",
         "name": "Average Daily Visitors",
         "orientation": "v",
         "showlegend": true,
         "type": "scatter",
         "x": {
          "bdata": "ngefB6AHoQeiB6MH",
          "dtype": "i2"
         },
         "xaxis": "x",
         "y": {
          "bdata": "6BdAGpgc8B5IIaAj",
          "dtype": "i2"
         },
         "yaxis": "y"
        }
       ],
       "layout": {
        "height": 600,
        "legend": {
         "orientation": "h",
         "title": {
          "side": "top center",
          "text": ""
         },
         "tracegroupgap": 0,
         "x": 0.5,
         "xanchor": "center",
         "y": -0.3,
         "yanchor": "top"
        },
        "template": {
         "data": {
          "bar": [
           {
            "error_x": {
             "color": "#2a3f5f"
            },
            "error_y": {
             "color": "#2a3f5f"
            },
            "marker": {
             "line": {
              "color": "#E5ECF6",
              "width": 0.5
             },
             "pattern": {
              "fillmode": "overlay",
              "size": 10,
              "solidity": 0.2
             }
            },
            "type": "bar"
           }
          ],
          "barpolar": [
           {
            "marker": {
             "line": {
              "color": "#E5ECF6",
              "width": 0.5
             },
             "pattern": {
              "fillmode": "overlay",
              "size": 10,
              "solidity": 0.2
             }
            },
            "type": "barpolar"
           }
          ],
          "carpet": [
           {
            "aaxis": {
             "endlinecolor": "#2a3f5f",
             "gridcolor": "white",
             "linecolor": "white",
             "minorgridcolor": "white",
             "startlinecolor": "#2a3f5f"
            },
            "baxis": {
             "endlinecolor": "#2a3f5f",
             "gridcolor": "white",
             "linecolor": "white",
             "minorgridcolor": "white",
             "startlinecolor": "#2a3f5f"
            },
            "type": "carpet"
           }
          ],
          "choropleth": [
           {
            "colorbar": {
             "outlinewidth": 0,
             "ticks": ""
            },
            "type": "choropleth"
           }
          ],
          "contour": [
           {
            "colorbar": {
             "outlinewidth": 0,
             "ticks": ""
            },
            "colorscale": [
             [
              0,
              "#0d0887"
             ],
             [
              0.1111111111111111,
              "#46039f"
             ],
             [
              0.2222222222222222,
              "#7201a8"
             ],
             [
              0.3333333333333333,
              "#9c179e"
             ],
             [
              0.4444444444444444,
              "#bd3786"
             ],
             [
              0.5555555555555556,
              "#d8576b"
             ],
             [
              0.6666666666666666,
              "#ed7953"
             ],
             [
              0.7777777777777778,
              "#fb9f3a"
             ],
             [
              0.8888888888888888,
              "#fdca26"
             ],
             [
              1,
              "#f0f921"
             ]
            ],
            "type": "contour"
           }
          ],
          "contourcarpet": [
           {
            "colorbar": {
             "outlinewidth": 0,
             "ticks": ""
            },
            "type": "contourcarpet"
           }
          ],
          "heatmap": [
           {
            "colorbar": {
             "outlinewidth": 0,
             "ticks": ""
            },
            "colorscale": [
             [
              0,
              "#0d0887"
             ],
             [
              0.1111111111111111,
              "#46039f"
             ],
             [
              0.2222222222222222,
              "#7201a8"
             ],
             [
              0.3333333333333333,
              "#9c179e"
             ],
             [
              0.4444444444444444,
              "#bd3786"
             ],
             [
              0.5555555555555556,
              "#d8576b"
             ],
             [
              0.6666666666666666,
              "#ed7953"
             ],
             [
              0.7777777777777778,
              "#fb9f3a"
             ],
             [
              0.8888888888888888,
              "#fdca26"
             ],
             [
              1,
              "#f0f921"
             ]
            ],
            "type": "heatmap"
           }
          ],
          "histogram": [
           {
            "marker": {
             "pattern": {
              "fillmode": "overlay",
              "size": 10,
              "solidity": 0.2
             }
            },
            "type": "histogram"
           }
          ],
          "histogram2d": [
           {
            "colorbar": {
             "outlinewidth": 0,
             "ticks": ""
            },
            "colorscale": [
             [
              0,
              "#0d0887"
             ],
             [
              0.1111111111111111,
              "#46039f"
             ],
             [
              0.2222222222222222,
              "#7201a8"
             ],
             [
              0.3333333333333333,
              "#9c179e"
             ],
             [
              0.4444444444444444,
              "#bd3786"
             ],
             [
              0.5555555555555556,
              "#d8576b"
             ],
             [
              0.6666666666666666,
              "#ed7953"
             ],
             [
              0.7777777777777778,
              "#fb9f3a"
             ],
             [
              0.8888888888888888,
              "#fdca26"
             ],
             [
              1,
              "#f0f921"
             ]
            ],
            "type": "histogram2d"
           }
          ],
          "histogram2dcontour": [
           {
            "colorbar": {
             "outlinewidth": 0,
             "ticks": ""
            },
            "colorscale": [
             [
              0,
              "#0d0887"
             ],
             [
              0.1111111111111111,
              "#46039f"
             ],
             [
              0.2222222222222222,
              "#7201a8"
             ],
             [
              0.3333333333333333,
              "#9c179e"
             ],
             [
              0.4444444444444444,
              "#bd3786"
             ],
             [
              0.5555555555555556,
              "#d8576b"
             ],
             [
              0.6666666666666666,
              "#ed7953"
             ],
             [
              0.7777777777777778,
              "#fb9f3a"
             ],
             [
              0.8888888888888888,
              "#fdca26"
             ],
             [
              1,
              "#f0f921"
             ]
            ],
            "type": "histogram2dcontour"
           }
          ],
          "mesh3d": [
           {
            "colorbar": {
             "outlinewidth": 0,
             "ticks": ""
            },
            "type": "mesh3d"
           }
          ],
          "parcoords": [
           {
            "line": {
             "colorbar": {
              "outlinewidth": 0,
              "ticks": ""
             }
            },
            "type": "parcoords"
           }
          ],
          "pie": [
           {
            "automargin": true,
            "type": "pie"
           }
          ],
          "scatter": [
           {
            "fillpattern": {
             "fillmode": "overlay",
             "size": 10,
             "solidity": 0.2
            },
            "type": "scatter"
           }
          ],
          "scatter3d": [
           {
            "line": {
             "colorbar": {
              "outlinewidth": 0,
              "ticks": ""
             }
            },
            "marker": {
             "colorbar": {
              "outlinewidth": 0,
              "ticks": ""
             }
            },
            "type": "scatter3d"
           }
          ],
          "scattercarpet": [
           {
            "marker": {
             "colorbar": {
              "outlinewidth": 0,
              "ticks": ""
             }
            },
            "type": "scattercarpet"
           }
          ],
          "scattergeo": [
           {
            "marker": {
             "colorbar": {
              "outlinewidth": 0,
              "ticks": ""
             }
            },
            "type": "scattergeo"
           }
          ],
          "scattergl": [
           {
            "marker": {
             "colorbar": {
              "outlinewidth": 0,
              "ticks": ""
             }
            },
            "type": "scattergl"
           }
          ],
          "scattermap": [
           {
            "marker": {
             "colorbar": {
              "outlinewidth": 0,
              "ticks": ""
             }
            },
            "type": "scattermap"
           }
          ],
          "scattermapbox": [
           {
            "marker": {
             "colorbar": {
              "outlinewidth": 0,
              "ticks": ""
             }
            },
            "type": "scattermapbox"
           }
          ],
          "scatterpolar": [
           {
            "marker": {
             "colorbar": {
              "outlinewidth": 0,
              "ticks": ""
             }
            },
            "type": "scatterpolar"
           }
          ],
          "scatterpolargl": [
           {
            "marker": {
             "colorbar": {
              "outlinewidth": 0,
              "ticks": ""
             }
            },
            "type": "scatterpolargl"
           }
          ],
          "scatterternary": [
           {
            "marker": {
             "colorbar": {
              "outlinewidth": 0,
              "ticks": ""
             }
            },
            "type": "scatterternary"
           }
          ],
          "surface": [
           {
            "colorbar": {
             "outlinewidth": 0,
             "ticks": ""
            },
            "colorscale": [
             [
              0,
              "#0d0887"
             ],
             [
              0.1111111111111111,
              "#46039f"
             ],
             [
              0.2222222222222222,
              "#7201a8"
             ],
             [
              0.3333333333333333,
              "#9c179e"
             ],
             [
              0.4444444444444444,
              "#bd3786"
             ],
             [
              0.5555555555555556,
              "#d8576b"
             ],
             [
              0.6666666666666666,
              "#ed7953"
             ],
             [
              0.7777777777777778,
              "#fb9f3a"
             ],
             [
              0.8888888888888888,
              "#fdca26"
             ],
             [
              1,
              "#f0f921"
             ]
            ],
            "type": "surface"
           }
          ],
          "table": [
           {
            "cells": {
             "fill": {
              "color": "#EBF0F8"
             },
             "line": {
              "color": "white"
             }
            },
            "header": {
             "fill": {
              "color": "#C8D4E3"
             },
             "line": {
              "color": "white"
             }
            },
            "type": "table"
           }
          ]
         },
         "layout": {
          "annotationdefaults": {
           "arrowcolor": "#2a3f5f",
           "arrowhead": 0,
           "arrowwidth": 1
          },
          "autotypenumbers": "strict",
          "coloraxis": {
           "colorbar": {
            "outlinewidth": 0,
            "ticks": ""
           }
          },
          "colorscale": {
           "diverging": [
            [
             0,
             "#8e0152"
            ],
            [
             0.1,
             "#c51b7d"
            ],
            [
             0.2,
             "#de77ae"
            ],
            [
             0.3,
             "#f1b6da"
            ],
            [
             0.4,
             "#fde0ef"
            ],
            [
             0.5,
             "#f7f7f7"
            ],
            [
             0.6,
             "#e6f5d0"
            ],
            [
             0.7,
             "#b8e186"
            ],
            [
             0.8,
             "#7fbc41"
            ],
            [
             0.9,
             "#4d9221"
            ],
            [
             1,
             "#276419"
            ]
           ],
           "sequential": [
            [
             0,
             "#0d0887"
            ],
            [
             0.1111111111111111,
             "#46039f"
            ],
            [
             0.2222222222222222,
             "#7201a8"
            ],
            [
             0.3333333333333333,
             "#9c179e"
            ],
            [
             0.4444444444444444,
             "#bd3786"
            ],
            [
             0.5555555555555556,
             "#d8576b"
            ],
            [
             0.6666666666666666,
             "#ed7953"
            ],
            [
             0.7777777777777778,
             "#fb9f3a"
            ],
            [
             0.8888888888888888,
             "#fdca26"
            ],
            [
             1,
             "#f0f921"
            ]
           ],
           "sequentialminus": [
            [
             0,
             "#0d0887"
            ],
            [
             0.1111111111111111,
             "#46039f"
            ],
            [
             0.2222222222222222,
             "#7201a8"
            ],
            [
             0.3333333333333333,
             "#9c179e"
            ],
            [
             0.4444444444444444,
             "#bd3786"
            ],
            [
             0.5555555555555556,
             "#d8576b"
            ],
            [
             0.6666666666666666,
             "#ed7953"
            ],
            [
             0.7777777777777778,
             "#fb9f3a"
            ],
            [
             0.8888888888888888,
             "#fdca26"
            ],
            [
             1,
             "#f0f921"
            ]
           ]
          },
          "colorway": [
           "#636efa",
           "#EF553B",
           "#00cc96",
           "#ab63fa",
           "#FFA15A",
           "#19d3f3",
           "#FF6692",
           "#B6E880",
           "#FF97FF",
           "#FECB52"
          ],
          "font": {
           "color": "#2a3f5f"
          },
          "geo": {
           "bgcolor": "white",
           "lakecolor": "white",
           "landcolor": "#E5ECF6",
           "showlakes": true,
           "showland": true,
           "subunitcolor": "white"
          },
          "hoverlabel": {
           "align": "left"
          },
          "hovermode": "closest",
          "mapbox": {
           "style": "light"
          },
          "paper_bgcolor": "white",
          "plot_bgcolor": "#E5ECF6",
          "polar": {
           "angularaxis": {
            "gridcolor": "white",
            "linecolor": "white",
            "ticks": ""
           },
           "bgcolor": "#E5ECF6",
           "radialaxis": {
            "gridcolor": "white",
            "linecolor": "white",
            "ticks": ""
           }
          },
          "scene": {
           "xaxis": {
            "backgroundcolor": "#E5ECF6",
            "gridcolor": "white",
            "gridwidth": 2,
            "linecolor": "white",
            "showbackground": true,
            "ticks": "",
            "zerolinecolor": "white"
           },
           "yaxis": {
            "backgroundcolor": "#E5ECF6",
            "gridcolor": "white",
            "gridwidth": 2,
            "linecolor": "white",
            "showbackground": true,
            "ticks": "",
            "zerolinecolor": "white"
           },
           "zaxis": {
            "backgroundcolor": "#E5ECF6",
            "gridcolor": "white",
            "gridwidth": 2,
            "linecolor": "white",
            "showbackground": true,
            "ticks": "",
            "zerolinecolor": "white"
           }
          },
          "shapedefaults": {
           "line": {
            "color": "#2a3f5f"
           }
          },
          "ternary": {
           "aaxis": {
            "gridcolor": "white",
            "linecolor": "white",
            "ticks": ""
           },
           "baxis": {
            "gridcolor": "white",
            "linecolor": "white",
            "ticks": ""
           },
           "bgcolor": "#E5ECF6",
           "caxis": {
            "gridcolor": "white",
            "linecolor": "white",
            "ticks": ""
           }
          },
          "title": {
           "x": 0.05
          },
          "xaxis": {
           "automargin": true,
           "gridcolor": "white",
           "linecolor": "white",
           "ticks": "",
           "title": {
            "standoff": 15
           },
           "zerolinecolor": "white",
           "zerolinewidth": 2
          },
          "yaxis": {
           "automargin": true,
           "gridcolor": "white",
           "linecolor": "white",
           "ticks": "",
           "title": {
            "standoff": 15
           },
           "zerolinecolor": "white",
           "zerolinewidth": 2
          }
         }
        },
        "title": {
         "text": "Average Daily Visitor Data for Unincorporated Clark County 1950 to 1955",
         "x": 0.5,
         "xanchor": "center"
        },
        "width": 800,
        "xaxis": {
         "anchor": "y",
         "domain": [
          0,
          1
         ],
         "title": {
          "text": "Year"
         }
        },
        "yaxis": {
         "anchor": "x",
         "domain": [
          0,
          1
         ],
         "title": {
          "text": "Population"
         }
        }
       }
      }
     },
     "metadata": {},
     "output_type": "display_data"
    }
   ],
   "source": [
    "Population1950to1955 = Population1950to1955.reset_index()\n",
    "\n",
    "# Reshape wide → long for Plotly (all airlines in one column)\n",
    "df_long = Population1950to1955.melt(id_vars='Year', \n",
    "                           value_vars=['Average Daily Visitors'], \n",
    "                           var_name='Area', value_name='Population')\n",
    "\n",
    "fig = px.line(\n",
    "    df_long,\n",
    "    x='Year', y='Population', color=\"Area\",\n",
    "    title=\"Average Daily Vistors for Unincorporated Clark County 1950 to 1955\",\n",
    "    labels={'Population' : \"Population\"}\n",
    ")\n",
    "\n",
    "fig.update_traces(\n",
    "    hovertemplate=(\n",
    "        \"Area = %{fullData.name}<br>\"\n",
    "        \"Year = %{x}<br>\"\n",
    "        \"Population = %{y:,}\"\n",
    "        \"<extra></extra>\"\n",
    "    )\n",
    ")\n",
    "\n",
    "fig.update_layout(\n",
    "    width=800, height=600,\n",
    "    yaxis_title=\"Population\",\n",
    "    #this puts the legend on the bottom\n",
    "    legend=dict(\n",
    "        title=dict(text=\"\", side='top center'),  # legend title above items\n",
    "        orientation=\"h\",     # horizontal layout\n",
    "        yanchor=\"top\",\n",
    "        y=-0.3,              # push below chart\n",
    "        xanchor=\"center\",\n",
    "        x=0.5\n",
    "    ),\n",
    "    #centers the title\n",
    "    title=dict(\n",
    "        text=\"Average Daily Visitor Data for Unincorporated Clark County 1950 to 1955\",\n",
    "        x=0.5,  # 0=left, 0.5=center, 1=right\n",
    "        xanchor=\"center\"\n",
    "    )\n",
    ")\n",
    "\n",
    "fig.show()\n",
    "Population1950to1955 = Population1950to1955.set_index('Year')"
   ]
  },
  {
   "cell_type": "markdown",
   "id": "8de43876",
   "metadata": {},
   "source": [
    "The number of visitors in 1950 is 6,120 and in 1955 it jumps to 9,120.  Now time for three pop quizzes!  Aren't we evil? 😈"
   ]
  },
  {
   "cell_type": "code",
   "execution_count": 9,
   "id": "f6a74637",
   "metadata": {},
   "outputs": [
    {
     "data": {
      "application/vnd.jupyter.widget-view+json": {
       "model_id": "cf4fbe30db4e4b129e7d86ba1d6b7036",
       "version_major": 2,
       "version_minor": 0
      },
      "text/plain": [
       "HTML(value='<h3>What should we set our intercept b as?</h3>')"
      ]
     },
     "metadata": {},
     "output_type": "display_data"
    },
    {
     "data": {
      "application/vnd.jupyter.widget-view+json": {
       "model_id": "fac7e02c53554f24b1b410178bd27ea2",
       "version_major": 2,
       "version_minor": 0
      },
      "text/plain": [
       "Dropdown(description='Answer:', options=('', '6,120', '1,000,000,000', '9,120', \"I Don't Know!\"), style=Descri…"
      ]
     },
     "metadata": {},
     "output_type": "display_data"
    },
    {
     "data": {
      "application/vnd.jupyter.widget-view+json": {
       "model_id": "81ae6fe1070e44bf9309b52585a3aff3",
       "version_major": 2,
       "version_minor": 0
      },
      "text/plain": [
       "Button(button_style='info', description='Check Answer', style=ButtonStyle())"
      ]
     },
     "metadata": {},
     "output_type": "display_data"
    },
    {
     "data": {
      "application/vnd.jupyter.widget-view+json": {
       "model_id": "30477604a6664b1bb8cf2b3a7d02f8d7",
       "version_major": 2,
       "version_minor": 0
      },
      "text/plain": [
       "Output()"
      ]
     },
     "metadata": {},
     "output_type": "display_data"
    }
   ],
   "source": [
    "make_question(\n",
    "    \"What should we set our intercept b as?\",\n",
    "    [\"6,120\", \"1,000,000,000\", \"9,120\", \"I Don't Know!\"],\n",
    "    \"6,120\"\n",
    ")"
   ]
  },
  {
   "cell_type": "code",
   "execution_count": 10,
   "id": "4c9268f2",
   "metadata": {},
   "outputs": [
    {
     "data": {
      "application/vnd.jupyter.widget-view+json": {
       "model_id": "606b177a447e430bbb4719342120481c",
       "version_major": 2,
       "version_minor": 0
      },
      "text/plain": [
       "HTML(value='<h3>What is the slope of our linear regression equation?</h3>')"
      ]
     },
     "metadata": {},
     "output_type": "display_data"
    },
    {
     "data": {
      "application/vnd.jupyter.widget-view+json": {
       "model_id": "ba6305cbccd4472db9b18ea4b20b117a",
       "version_major": 2,
       "version_minor": 0
      },
      "text/plain": [
       "Dropdown(description='Answer:', options=('', '1,000,000,000', '9,120', '600', \"I Don't Know!\"), style=Descript…"
      ]
     },
     "metadata": {},
     "output_type": "display_data"
    },
    {
     "data": {
      "application/vnd.jupyter.widget-view+json": {
       "model_id": "53a928a5b7e84fc894374cecc8b7c00b",
       "version_major": 2,
       "version_minor": 0
      },
      "text/plain": [
       "Button(button_style='info', description='Check Answer', style=ButtonStyle())"
      ]
     },
     "metadata": {},
     "output_type": "display_data"
    },
    {
     "data": {
      "application/vnd.jupyter.widget-view+json": {
       "model_id": "a37d17acdfb045fb9a7d9eee05e0a175",
       "version_major": 2,
       "version_minor": 0
      },
      "text/plain": [
       "Output()"
      ]
     },
     "metadata": {},
     "output_type": "display_data"
    }
   ],
   "source": [
    "make_question(\n",
    "    \"What is the slope of our linear regression equation?\",\n",
    "    [\"1,000,000,000\", \"9,120\", \"600\", \"I Don't Know!\"],\n",
    "    \"600\"\n",
    ")"
   ]
  },
  {
   "cell_type": "code",
   "execution_count": 11,
   "id": "fc0ebb05",
   "metadata": {},
   "outputs": [
    {
     "data": {
      "application/vnd.jupyter.widget-view+json": {
       "model_id": "da05ac97f7fc4321822370bd1ad1baca",
       "version_major": 2,
       "version_minor": 0
      },
      "text/plain": [
       "HTML(value='<h3>What is the estimated number of daily visitors in 1980?</h3>')"
      ]
     },
     "metadata": {},
     "output_type": "display_data"
    },
    {
     "data": {
      "application/vnd.jupyter.widget-view+json": {
       "model_id": "2683caf3e9eb4baa91ef73b482b4512d",
       "version_major": 2,
       "version_minor": 0
      },
      "text/plain": [
       "Dropdown(description='Answer:', options=('', '🐶', '24,120', '600', \"I Don't Know!\"), style=DescriptionStyle(de…"
      ]
     },
     "metadata": {},
     "output_type": "display_data"
    },
    {
     "data": {
      "application/vnd.jupyter.widget-view+json": {
       "model_id": "b5e01623b1944cc5a7b1f9f2a28e0d85",
       "version_major": 2,
       "version_minor": 0
      },
      "text/plain": [
       "Button(button_style='info', description='Check Answer', style=ButtonStyle())"
      ]
     },
     "metadata": {},
     "output_type": "display_data"
    },
    {
     "data": {
      "application/vnd.jupyter.widget-view+json": {
       "model_id": "7bc1eb6b27b54161ab03b6d6703ea77e",
       "version_major": 2,
       "version_minor": 0
      },
      "text/plain": [
       "Output()"
      ]
     },
     "metadata": {},
     "output_type": "display_data"
    }
   ],
   "source": [
    "make_question(\n",
    "    \"What is the estimated number of daily visitors in 1980?\",\n",
    "    [\"🐶\", \"24,120\", \"600\", \"I Don't Know!\"],\n",
    "    \"24,120\"\n",
    ")"
   ]
  },
  {
   "cell_type": "markdown",
   "id": "4221416d",
   "metadata": {},
   "source": [
    "<h3>Time to Put it all Together!</h3>\n",
    "It's time to visualize your data in graphical form!"
   ]
  },
  {
   "cell_type": "code",
   "execution_count": 12,
   "id": "b51f9c8a",
   "metadata": {},
   "outputs": [],
   "source": [
    "Population1950to1955 = Population1950to1955.reset_index()\n",
    "#common linear regression equation\n",
    "def linear_equation(year,intercept,slope):\n",
    "    return intercept + slope * (year - 1950)  # shift so 1950 = 0\n",
    "\n",
    "years = np.arange(1956, 1981)\n",
    "predicted_1 = [linear_equation(y,10170,1539) for y in years]\n",
    "predicted_2 = [linear_equation(y,6120,600) for y in years]\n",
    "\n",
    "predicted_df = pd.DataFrame({\"Year\": years, \"Unincorporated Clark County\": predicted_1, \"Average Daily Visitors\": predicted_2})\n",
    "Population1950to1955 = Population1950to1955.set_index('Year')\n",
    "predicted_df = predicted_df.set_index(\"Year\")\n",
    "Population1950to1980_Predicted = pd.concat([Population1950to1955, predicted_df])\n",
    "Population1950to1980_Predicted['Total Predicted Unincorporated Clark County'] = Population1950to1980_Predicted['Average Daily Visitors']+Population1950to1980_Predicted['Unincorporated Clark County']"
   ]
  },
  {
   "cell_type": "code",
   "execution_count": 13,
   "id": "2ca21eb0",
   "metadata": {},
   "outputs": [
    {
     "data": {
      "application/vnd.plotly.v1+json": {
       "config": {
        "plotlyServerURL": "https://plot.ly"
       },
       "data": [
        {
         "hovertemplate": "Area = %{fullData.name}<br>Year = %{x}<br>Population = %{y:,}<extra></extra>",
         "legendgroup": "Total Predicted Unincorporated Clark County",
         "line": {
          "color": "#636efa",
          "dash": "solid"
         },
         "marker": {
          "symbol": "circle"
         },
         "mode": "lines",
         "name": "Total Predicted Unincorporated Clark County",
         "orientation": "v",
         "showlegend": true,
         "type": "scatter",
         "x": {
          "bdata": "ngefB6AHoQeiB6MHpAelB6YHpweoB6kHqgerB6wHrQeuB68HsAexB7IHswe0B7UHtge3B7gHuQe6B7sHvAc=",
          "dtype": "i2"
         },
         "xaxis": "x",
         "y": {
          "bdata": "oj8AAOlHAAAuUAAA1lgAAGRhAABqaQAAxHEAAB96AAB6ggAA1YoAADCTAACLmwAA5qMAAEGsAACctAAA97wAAFLFAACtzQAACNYAAGPeAAC+5gAAGe8AAHT3AADP/wAAKggBAIUQAQDgGAEAOyEBAJYpAQDxMQEATDoBAA==",
          "dtype": "i4"
         },
         "yaxis": "y"
        },
        {
         "hovertemplate": "Area = %{fullData.name}<br>Year = %{x}<br>Population = %{y:,}<extra></extra>",
         "legendgroup": "Unincorporated Clark County",
         "line": {
          "color": "#EF553B",
          "dash": "solid"
         },
         "marker": {
          "symbol": "circle"
         },
         "mode": "lines",
         "name": "Unincorporated Clark County",
         "orientation": "v",
         "showlegend": true,
         "type": "scatter",
         "x": {
          "bdata": "ngefB6AHoQeiB6MHpAelB6YHpweoB6kHqgerB6wHrQeuB68HsAexB7IHswe0B7UHtge3B7gHuQe6B7sHvAc=",
          "dtype": "i2"
         },
         "xaxis": "x",
         "y": {
          "bdata": "uicAAKktAACWMwAA5jkAABxAAADKRQAAzEsAAM9RAADSVwAA1V0AANhjAADbaQAA3m8AAOF1AADkewAA54EAAOqHAADtjQAA8JMAAPOZAAD2nwAA+aUAAPyrAAD/sQAAArgAAAW+AAAIxAAAC8oAAA7QAAAR1gAAFNwAAA==",
          "dtype": "i4"
         },
         "yaxis": "y"
        },
        {
         "hovertemplate": "Area = %{fullData.name}<br>Year = %{x}<br>Population = %{y:,}<extra></extra>",
         "legendgroup": "Average Daily Visitors",
         "line": {
          "color": "#00cc96",
          "dash": "solid"
         },
         "marker": {
          "symbol": "circle"
         },
         "mode": "lines",
         "name": "Average Daily Visitors",
         "orientation": "v",
         "showlegend": true,
         "type": "scatter",
         "x": {
          "bdata": "ngefB6AHoQeiB6MHpAelB6YHpweoB6kHqgerB6wHrQeuB68HsAexB7IHswe0B7UHtge3B7gHuQe6B7sHvAc=",
          "dtype": "i2"
         },
         "xaxis": "x",
         "y": {
          "bdata": "6BdAGpgc8B5IIaAj+CVQKKgqAC1YL7AxCDRgNrg4EDtoPcA/GEJwRMhGIEl4S9BNKFCAUthUMFeIWeBbOF4=",
          "dtype": "i2"
         },
         "yaxis": "y"
        }
       ],
       "layout": {
        "height": 600,
        "legend": {
         "orientation": "h",
         "title": {
          "side": "top center",
          "text": ""
         },
         "tracegroupgap": 0,
         "x": 0.5,
         "xanchor": "center",
         "y": -0.3,
         "yanchor": "top"
        },
        "template": {
         "data": {
          "bar": [
           {
            "error_x": {
             "color": "#2a3f5f"
            },
            "error_y": {
             "color": "#2a3f5f"
            },
            "marker": {
             "line": {
              "color": "#E5ECF6",
              "width": 0.5
             },
             "pattern": {
              "fillmode": "overlay",
              "size": 10,
              "solidity": 0.2
             }
            },
            "type": "bar"
           }
          ],
          "barpolar": [
           {
            "marker": {
             "line": {
              "color": "#E5ECF6",
              "width": 0.5
             },
             "pattern": {
              "fillmode": "overlay",
              "size": 10,
              "solidity": 0.2
             }
            },
            "type": "barpolar"
           }
          ],
          "carpet": [
           {
            "aaxis": {
             "endlinecolor": "#2a3f5f",
             "gridcolor": "white",
             "linecolor": "white",
             "minorgridcolor": "white",
             "startlinecolor": "#2a3f5f"
            },
            "baxis": {
             "endlinecolor": "#2a3f5f",
             "gridcolor": "white",
             "linecolor": "white",
             "minorgridcolor": "white",
             "startlinecolor": "#2a3f5f"
            },
            "type": "carpet"
           }
          ],
          "choropleth": [
           {
            "colorbar": {
             "outlinewidth": 0,
             "ticks": ""
            },
            "type": "choropleth"
           }
          ],
          "contour": [
           {
            "colorbar": {
             "outlinewidth": 0,
             "ticks": ""
            },
            "colorscale": [
             [
              0,
              "#0d0887"
             ],
             [
              0.1111111111111111,
              "#46039f"
             ],
             [
              0.2222222222222222,
              "#7201a8"
             ],
             [
              0.3333333333333333,
              "#9c179e"
             ],
             [
              0.4444444444444444,
              "#bd3786"
             ],
             [
              0.5555555555555556,
              "#d8576b"
             ],
             [
              0.6666666666666666,
              "#ed7953"
             ],
             [
              0.7777777777777778,
              "#fb9f3a"
             ],
             [
              0.8888888888888888,
              "#fdca26"
             ],
             [
              1,
              "#f0f921"
             ]
            ],
            "type": "contour"
           }
          ],
          "contourcarpet": [
           {
            "colorbar": {
             "outlinewidth": 0,
             "ticks": ""
            },
            "type": "contourcarpet"
           }
          ],
          "heatmap": [
           {
            "colorbar": {
             "outlinewidth": 0,
             "ticks": ""
            },
            "colorscale": [
             [
              0,
              "#0d0887"
             ],
             [
              0.1111111111111111,
              "#46039f"
             ],
             [
              0.2222222222222222,
              "#7201a8"
             ],
             [
              0.3333333333333333,
              "#9c179e"
             ],
             [
              0.4444444444444444,
              "#bd3786"
             ],
             [
              0.5555555555555556,
              "#d8576b"
             ],
             [
              0.6666666666666666,
              "#ed7953"
             ],
             [
              0.7777777777777778,
              "#fb9f3a"
             ],
             [
              0.8888888888888888,
              "#fdca26"
             ],
             [
              1,
              "#f0f921"
             ]
            ],
            "type": "heatmap"
           }
          ],
          "histogram": [
           {
            "marker": {
             "pattern": {
              "fillmode": "overlay",
              "size": 10,
              "solidity": 0.2
             }
            },
            "type": "histogram"
           }
          ],
          "histogram2d": [
           {
            "colorbar": {
             "outlinewidth": 0,
             "ticks": ""
            },
            "colorscale": [
             [
              0,
              "#0d0887"
             ],
             [
              0.1111111111111111,
              "#46039f"
             ],
             [
              0.2222222222222222,
              "#7201a8"
             ],
             [
              0.3333333333333333,
              "#9c179e"
             ],
             [
              0.4444444444444444,
              "#bd3786"
             ],
             [
              0.5555555555555556,
              "#d8576b"
             ],
             [
              0.6666666666666666,
              "#ed7953"
             ],
             [
              0.7777777777777778,
              "#fb9f3a"
             ],
             [
              0.8888888888888888,
              "#fdca26"
             ],
             [
              1,
              "#f0f921"
             ]
            ],
            "type": "histogram2d"
           }
          ],
          "histogram2dcontour": [
           {
            "colorbar": {
             "outlinewidth": 0,
             "ticks": ""
            },
            "colorscale": [
             [
              0,
              "#0d0887"
             ],
             [
              0.1111111111111111,
              "#46039f"
             ],
             [
              0.2222222222222222,
              "#7201a8"
             ],
             [
              0.3333333333333333,
              "#9c179e"
             ],
             [
              0.4444444444444444,
              "#bd3786"
             ],
             [
              0.5555555555555556,
              "#d8576b"
             ],
             [
              0.6666666666666666,
              "#ed7953"
             ],
             [
              0.7777777777777778,
              "#fb9f3a"
             ],
             [
              0.8888888888888888,
              "#fdca26"
             ],
             [
              1,
              "#f0f921"
             ]
            ],
            "type": "histogram2dcontour"
           }
          ],
          "mesh3d": [
           {
            "colorbar": {
             "outlinewidth": 0,
             "ticks": ""
            },
            "type": "mesh3d"
           }
          ],
          "parcoords": [
           {
            "line": {
             "colorbar": {
              "outlinewidth": 0,
              "ticks": ""
             }
            },
            "type": "parcoords"
           }
          ],
          "pie": [
           {
            "automargin": true,
            "type": "pie"
           }
          ],
          "scatter": [
           {
            "fillpattern": {
             "fillmode": "overlay",
             "size": 10,
             "solidity": 0.2
            },
            "type": "scatter"
           }
          ],
          "scatter3d": [
           {
            "line": {
             "colorbar": {
              "outlinewidth": 0,
              "ticks": ""
             }
            },
            "marker": {
             "colorbar": {
              "outlinewidth": 0,
              "ticks": ""
             }
            },
            "type": "scatter3d"
           }
          ],
          "scattercarpet": [
           {
            "marker": {
             "colorbar": {
              "outlinewidth": 0,
              "ticks": ""
             }
            },
            "type": "scattercarpet"
           }
          ],
          "scattergeo": [
           {
            "marker": {
             "colorbar": {
              "outlinewidth": 0,
              "ticks": ""
             }
            },
            "type": "scattergeo"
           }
          ],
          "scattergl": [
           {
            "marker": {
             "colorbar": {
              "outlinewidth": 0,
              "ticks": ""
             }
            },
            "type": "scattergl"
           }
          ],
          "scattermap": [
           {
            "marker": {
             "colorbar": {
              "outlinewidth": 0,
              "ticks": ""
             }
            },
            "type": "scattermap"
           }
          ],
          "scattermapbox": [
           {
            "marker": {
             "colorbar": {
              "outlinewidth": 0,
              "ticks": ""
             }
            },
            "type": "scattermapbox"
           }
          ],
          "scatterpolar": [
           {
            "marker": {
             "colorbar": {
              "outlinewidth": 0,
              "ticks": ""
             }
            },
            "type": "scatterpolar"
           }
          ],
          "scatterpolargl": [
           {
            "marker": {
             "colorbar": {
              "outlinewidth": 0,
              "ticks": ""
             }
            },
            "type": "scatterpolargl"
           }
          ],
          "scatterternary": [
           {
            "marker": {
             "colorbar": {
              "outlinewidth": 0,
              "ticks": ""
             }
            },
            "type": "scatterternary"
           }
          ],
          "surface": [
           {
            "colorbar": {
             "outlinewidth": 0,
             "ticks": ""
            },
            "colorscale": [
             [
              0,
              "#0d0887"
             ],
             [
              0.1111111111111111,
              "#46039f"
             ],
             [
              0.2222222222222222,
              "#7201a8"
             ],
             [
              0.3333333333333333,
              "#9c179e"
             ],
             [
              0.4444444444444444,
              "#bd3786"
             ],
             [
              0.5555555555555556,
              "#d8576b"
             ],
             [
              0.6666666666666666,
              "#ed7953"
             ],
             [
              0.7777777777777778,
              "#fb9f3a"
             ],
             [
              0.8888888888888888,
              "#fdca26"
             ],
             [
              1,
              "#f0f921"
             ]
            ],
            "type": "surface"
           }
          ],
          "table": [
           {
            "cells": {
             "fill": {
              "color": "#EBF0F8"
             },
             "line": {
              "color": "white"
             }
            },
            "header": {
             "fill": {
              "color": "#C8D4E3"
             },
             "line": {
              "color": "white"
             }
            },
            "type": "table"
           }
          ]
         },
         "layout": {
          "annotationdefaults": {
           "arrowcolor": "#2a3f5f",
           "arrowhead": 0,
           "arrowwidth": 1
          },
          "autotypenumbers": "strict",
          "coloraxis": {
           "colorbar": {
            "outlinewidth": 0,
            "ticks": ""
           }
          },
          "colorscale": {
           "diverging": [
            [
             0,
             "#8e0152"
            ],
            [
             0.1,
             "#c51b7d"
            ],
            [
             0.2,
             "#de77ae"
            ],
            [
             0.3,
             "#f1b6da"
            ],
            [
             0.4,
             "#fde0ef"
            ],
            [
             0.5,
             "#f7f7f7"
            ],
            [
             0.6,
             "#e6f5d0"
            ],
            [
             0.7,
             "#b8e186"
            ],
            [
             0.8,
             "#7fbc41"
            ],
            [
             0.9,
             "#4d9221"
            ],
            [
             1,
             "#276419"
            ]
           ],
           "sequential": [
            [
             0,
             "#0d0887"
            ],
            [
             0.1111111111111111,
             "#46039f"
            ],
            [
             0.2222222222222222,
             "#7201a8"
            ],
            [
             0.3333333333333333,
             "#9c179e"
            ],
            [
             0.4444444444444444,
             "#bd3786"
            ],
            [
             0.5555555555555556,
             "#d8576b"
            ],
            [
             0.6666666666666666,
             "#ed7953"
            ],
            [
             0.7777777777777778,
             "#fb9f3a"
            ],
            [
             0.8888888888888888,
             "#fdca26"
            ],
            [
             1,
             "#f0f921"
            ]
           ],
           "sequentialminus": [
            [
             0,
             "#0d0887"
            ],
            [
             0.1111111111111111,
             "#46039f"
            ],
            [
             0.2222222222222222,
             "#7201a8"
            ],
            [
             0.3333333333333333,
             "#9c179e"
            ],
            [
             0.4444444444444444,
             "#bd3786"
            ],
            [
             0.5555555555555556,
             "#d8576b"
            ],
            [
             0.6666666666666666,
             "#ed7953"
            ],
            [
             0.7777777777777778,
             "#fb9f3a"
            ],
            [
             0.8888888888888888,
             "#fdca26"
            ],
            [
             1,
             "#f0f921"
            ]
           ]
          },
          "colorway": [
           "#636efa",
           "#EF553B",
           "#00cc96",
           "#ab63fa",
           "#FFA15A",
           "#19d3f3",
           "#FF6692",
           "#B6E880",
           "#FF97FF",
           "#FECB52"
          ],
          "font": {
           "color": "#2a3f5f"
          },
          "geo": {
           "bgcolor": "white",
           "lakecolor": "white",
           "landcolor": "#E5ECF6",
           "showlakes": true,
           "showland": true,
           "subunitcolor": "white"
          },
          "hoverlabel": {
           "align": "left"
          },
          "hovermode": "closest",
          "mapbox": {
           "style": "light"
          },
          "paper_bgcolor": "white",
          "plot_bgcolor": "#E5ECF6",
          "polar": {
           "angularaxis": {
            "gridcolor": "white",
            "linecolor": "white",
            "ticks": ""
           },
           "bgcolor": "#E5ECF6",
           "radialaxis": {
            "gridcolor": "white",
            "linecolor": "white",
            "ticks": ""
           }
          },
          "scene": {
           "xaxis": {
            "backgroundcolor": "#E5ECF6",
            "gridcolor": "white",
            "gridwidth": 2,
            "linecolor": "white",
            "showbackground": true,
            "ticks": "",
            "zerolinecolor": "white"
           },
           "yaxis": {
            "backgroundcolor": "#E5ECF6",
            "gridcolor": "white",
            "gridwidth": 2,
            "linecolor": "white",
            "showbackground": true,
            "ticks": "",
            "zerolinecolor": "white"
           },
           "zaxis": {
            "backgroundcolor": "#E5ECF6",
            "gridcolor": "white",
            "gridwidth": 2,
            "linecolor": "white",
            "showbackground": true,
            "ticks": "",
            "zerolinecolor": "white"
           }
          },
          "shapedefaults": {
           "line": {
            "color": "#2a3f5f"
           }
          },
          "ternary": {
           "aaxis": {
            "gridcolor": "white",
            "linecolor": "white",
            "ticks": ""
           },
           "baxis": {
            "gridcolor": "white",
            "linecolor": "white",
            "ticks": ""
           },
           "bgcolor": "#E5ECF6",
           "caxis": {
            "gridcolor": "white",
            "linecolor": "white",
            "ticks": ""
           }
          },
          "title": {
           "x": 0.05
          },
          "xaxis": {
           "automargin": true,
           "gridcolor": "white",
           "linecolor": "white",
           "ticks": "",
           "title": {
            "standoff": 15
           },
           "zerolinecolor": "white",
           "zerolinewidth": 2
          },
          "yaxis": {
           "automargin": true,
           "gridcolor": "white",
           "linecolor": "white",
           "ticks": "",
           "title": {
            "standoff": 15
           },
           "zerolinecolor": "white",
           "zerolinewidth": 2
          }
         }
        },
        "title": {
         "text": "Predicted Population and Average Daily Vistors for Unincorporated Clark County 1950 to 1980",
         "x": 0.5,
         "xanchor": "center"
        },
        "width": 1200,
        "xaxis": {
         "anchor": "y",
         "domain": [
          0,
          1
         ],
         "title": {
          "text": "Year"
         }
        },
        "yaxis": {
         "anchor": "x",
         "domain": [
          0,
          1
         ],
         "title": {
          "text": "Population"
         }
        }
       }
      }
     },
     "metadata": {},
     "output_type": "display_data"
    },
    {
     "data": {
      "text/html": [
       "<div>\n",
       "<style scoped>\n",
       "    .dataframe tbody tr th:only-of-type {\n",
       "        vertical-align: middle;\n",
       "    }\n",
       "\n",
       "    .dataframe tbody tr th {\n",
       "        vertical-align: top;\n",
       "    }\n",
       "\n",
       "    .dataframe thead th {\n",
       "        text-align: right;\n",
       "    }\n",
       "</style>\n",
       "<table border=\"1\" class=\"dataframe\">\n",
       "  <thead>\n",
       "    <tr style=\"text-align: right;\">\n",
       "      <th></th>\n",
       "      <th>Clark County</th>\n",
       "      <th>Las Vegas</th>\n",
       "      <th>Henderson</th>\n",
       "      <th>North Las Vegas</th>\n",
       "      <th>Boulder City</th>\n",
       "      <th>Unincorporated Clark County</th>\n",
       "      <th>Annual Estimated Visitor Volume</th>\n",
       "      <th>Average Daily Visitors</th>\n",
       "      <th>Room Inventory</th>\n",
       "      <th>Years Since 1950</th>\n",
       "      <th>Total Predicted Unincorporated Clark County</th>\n",
       "    </tr>\n",
       "    <tr>\n",
       "      <th>Year</th>\n",
       "      <th></th>\n",
       "      <th></th>\n",
       "      <th></th>\n",
       "      <th></th>\n",
       "      <th></th>\n",
       "      <th></th>\n",
       "      <th></th>\n",
       "      <th></th>\n",
       "      <th></th>\n",
       "      <th></th>\n",
       "      <th></th>\n",
       "    </tr>\n",
       "  </thead>\n",
       "  <tbody>\n",
       "    <tr>\n",
       "      <th>1950</th>\n",
       "      <td>48289.0</td>\n",
       "      <td>24624.0</td>\n",
       "      <td>5717.0</td>\n",
       "      <td>3875.0</td>\n",
       "      <td>3903.0</td>\n",
       "      <td>10170</td>\n",
       "      <td>2233800.0</td>\n",
       "      <td>6120</td>\n",
       "      <td>5100.0</td>\n",
       "      <td>0</td>\n",
       "      <td>16290</td>\n",
       "    </tr>\n",
       "    <tr>\n",
       "      <th>1951</th>\n",
       "      <td>56600.0</td>\n",
       "      <td>28675.0</td>\n",
       "      <td>6243.0</td>\n",
       "      <td>5312.0</td>\n",
       "      <td>3920.0</td>\n",
       "      <td>11689</td>\n",
       "      <td>2452800.0</td>\n",
       "      <td>6720</td>\n",
       "      <td>5600.0</td>\n",
       "      <td>1</td>\n",
       "      <td>18409</td>\n",
       "    </tr>\n",
       "    <tr>\n",
       "      <th>1952</th>\n",
       "      <td>64777.0</td>\n",
       "      <td>32824.0</td>\n",
       "      <td>7040.0</td>\n",
       "      <td>6775.0</td>\n",
       "      <td>3932.0</td>\n",
       "      <td>13206</td>\n",
       "      <td>2671800.0</td>\n",
       "      <td>7320</td>\n",
       "      <td>6100.0</td>\n",
       "      <td>2</td>\n",
       "      <td>20526</td>\n",
       "    </tr>\n",
       "    <tr>\n",
       "      <th>1953</th>\n",
       "      <td>74062.0</td>\n",
       "      <td>36719.0</td>\n",
       "      <td>7565.0</td>\n",
       "      <td>8291.0</td>\n",
       "      <td>3947.0</td>\n",
       "      <td>14822</td>\n",
       "      <td>2890800.0</td>\n",
       "      <td>7920</td>\n",
       "      <td>6600.0</td>\n",
       "      <td>3</td>\n",
       "      <td>22742</td>\n",
       "    </tr>\n",
       "    <tr>\n",
       "      <th>1954</th>\n",
       "      <td>82216.0</td>\n",
       "      <td>40442.0</td>\n",
       "      <td>8197.0</td>\n",
       "      <td>9612.0</td>\n",
       "      <td>3965.0</td>\n",
       "      <td>16412</td>\n",
       "      <td>3109800.0</td>\n",
       "      <td>8520</td>\n",
       "      <td>7100.0</td>\n",
       "      <td>4</td>\n",
       "      <td>24932</td>\n",
       "    </tr>\n",
       "    <tr>\n",
       "      <th>1955</th>\n",
       "      <td>89863.0</td>\n",
       "      <td>44328.0</td>\n",
       "      <td>8728.0</td>\n",
       "      <td>11055.0</td>\n",
       "      <td>3977.0</td>\n",
       "      <td>17866</td>\n",
       "      <td>3328800.0</td>\n",
       "      <td>9120</td>\n",
       "      <td>7600.0</td>\n",
       "      <td>5</td>\n",
       "      <td>26986</td>\n",
       "    </tr>\n",
       "    <tr>\n",
       "      <th>1956</th>\n",
       "      <td>NaN</td>\n",
       "      <td>NaN</td>\n",
       "      <td>NaN</td>\n",
       "      <td>NaN</td>\n",
       "      <td>NaN</td>\n",
       "      <td>19404</td>\n",
       "      <td>NaN</td>\n",
       "      <td>9720</td>\n",
       "      <td>NaN</td>\n",
       "      <td>6</td>\n",
       "      <td>29124</td>\n",
       "    </tr>\n",
       "    <tr>\n",
       "      <th>1957</th>\n",
       "      <td>NaN</td>\n",
       "      <td>NaN</td>\n",
       "      <td>NaN</td>\n",
       "      <td>NaN</td>\n",
       "      <td>NaN</td>\n",
       "      <td>20943</td>\n",
       "      <td>NaN</td>\n",
       "      <td>10320</td>\n",
       "      <td>NaN</td>\n",
       "      <td>7</td>\n",
       "      <td>31263</td>\n",
       "    </tr>\n",
       "    <tr>\n",
       "      <th>1958</th>\n",
       "      <td>NaN</td>\n",
       "      <td>NaN</td>\n",
       "      <td>NaN</td>\n",
       "      <td>NaN</td>\n",
       "      <td>NaN</td>\n",
       "      <td>22482</td>\n",
       "      <td>NaN</td>\n",
       "      <td>10920</td>\n",
       "      <td>NaN</td>\n",
       "      <td>8</td>\n",
       "      <td>33402</td>\n",
       "    </tr>\n",
       "    <tr>\n",
       "      <th>1959</th>\n",
       "      <td>NaN</td>\n",
       "      <td>NaN</td>\n",
       "      <td>NaN</td>\n",
       "      <td>NaN</td>\n",
       "      <td>NaN</td>\n",
       "      <td>24021</td>\n",
       "      <td>NaN</td>\n",
       "      <td>11520</td>\n",
       "      <td>NaN</td>\n",
       "      <td>9</td>\n",
       "      <td>35541</td>\n",
       "    </tr>\n",
       "    <tr>\n",
       "      <th>1960</th>\n",
       "      <td>NaN</td>\n",
       "      <td>NaN</td>\n",
       "      <td>NaN</td>\n",
       "      <td>NaN</td>\n",
       "      <td>NaN</td>\n",
       "      <td>25560</td>\n",
       "      <td>NaN</td>\n",
       "      <td>12120</td>\n",
       "      <td>NaN</td>\n",
       "      <td>10</td>\n",
       "      <td>37680</td>\n",
       "    </tr>\n",
       "    <tr>\n",
       "      <th>1961</th>\n",
       "      <td>NaN</td>\n",
       "      <td>NaN</td>\n",
       "      <td>NaN</td>\n",
       "      <td>NaN</td>\n",
       "      <td>NaN</td>\n",
       "      <td>27099</td>\n",
       "      <td>NaN</td>\n",
       "      <td>12720</td>\n",
       "      <td>NaN</td>\n",
       "      <td>11</td>\n",
       "      <td>39819</td>\n",
       "    </tr>\n",
       "    <tr>\n",
       "      <th>1962</th>\n",
       "      <td>NaN</td>\n",
       "      <td>NaN</td>\n",
       "      <td>NaN</td>\n",
       "      <td>NaN</td>\n",
       "      <td>NaN</td>\n",
       "      <td>28638</td>\n",
       "      <td>NaN</td>\n",
       "      <td>13320</td>\n",
       "      <td>NaN</td>\n",
       "      <td>12</td>\n",
       "      <td>41958</td>\n",
       "    </tr>\n",
       "    <tr>\n",
       "      <th>1963</th>\n",
       "      <td>NaN</td>\n",
       "      <td>NaN</td>\n",
       "      <td>NaN</td>\n",
       "      <td>NaN</td>\n",
       "      <td>NaN</td>\n",
       "      <td>30177</td>\n",
       "      <td>NaN</td>\n",
       "      <td>13920</td>\n",
       "      <td>NaN</td>\n",
       "      <td>13</td>\n",
       "      <td>44097</td>\n",
       "    </tr>\n",
       "    <tr>\n",
       "      <th>1964</th>\n",
       "      <td>NaN</td>\n",
       "      <td>NaN</td>\n",
       "      <td>NaN</td>\n",
       "      <td>NaN</td>\n",
       "      <td>NaN</td>\n",
       "      <td>31716</td>\n",
       "      <td>NaN</td>\n",
       "      <td>14520</td>\n",
       "      <td>NaN</td>\n",
       "      <td>14</td>\n",
       "      <td>46236</td>\n",
       "    </tr>\n",
       "    <tr>\n",
       "      <th>1965</th>\n",
       "      <td>NaN</td>\n",
       "      <td>NaN</td>\n",
       "      <td>NaN</td>\n",
       "      <td>NaN</td>\n",
       "      <td>NaN</td>\n",
       "      <td>33255</td>\n",
       "      <td>NaN</td>\n",
       "      <td>15120</td>\n",
       "      <td>NaN</td>\n",
       "      <td>15</td>\n",
       "      <td>48375</td>\n",
       "    </tr>\n",
       "    <tr>\n",
       "      <th>1966</th>\n",
       "      <td>NaN</td>\n",
       "      <td>NaN</td>\n",
       "      <td>NaN</td>\n",
       "      <td>NaN</td>\n",
       "      <td>NaN</td>\n",
       "      <td>34794</td>\n",
       "      <td>NaN</td>\n",
       "      <td>15720</td>\n",
       "      <td>NaN</td>\n",
       "      <td>16</td>\n",
       "      <td>50514</td>\n",
       "    </tr>\n",
       "    <tr>\n",
       "      <th>1967</th>\n",
       "      <td>NaN</td>\n",
       "      <td>NaN</td>\n",
       "      <td>NaN</td>\n",
       "      <td>NaN</td>\n",
       "      <td>NaN</td>\n",
       "      <td>36333</td>\n",
       "      <td>NaN</td>\n",
       "      <td>16320</td>\n",
       "      <td>NaN</td>\n",
       "      <td>17</td>\n",
       "      <td>52653</td>\n",
       "    </tr>\n",
       "    <tr>\n",
       "      <th>1968</th>\n",
       "      <td>NaN</td>\n",
       "      <td>NaN</td>\n",
       "      <td>NaN</td>\n",
       "      <td>NaN</td>\n",
       "      <td>NaN</td>\n",
       "      <td>37872</td>\n",
       "      <td>NaN</td>\n",
       "      <td>16920</td>\n",
       "      <td>NaN</td>\n",
       "      <td>18</td>\n",
       "      <td>54792</td>\n",
       "    </tr>\n",
       "    <tr>\n",
       "      <th>1969</th>\n",
       "      <td>NaN</td>\n",
       "      <td>NaN</td>\n",
       "      <td>NaN</td>\n",
       "      <td>NaN</td>\n",
       "      <td>NaN</td>\n",
       "      <td>39411</td>\n",
       "      <td>NaN</td>\n",
       "      <td>17520</td>\n",
       "      <td>NaN</td>\n",
       "      <td>19</td>\n",
       "      <td>56931</td>\n",
       "    </tr>\n",
       "    <tr>\n",
       "      <th>1970</th>\n",
       "      <td>NaN</td>\n",
       "      <td>NaN</td>\n",
       "      <td>NaN</td>\n",
       "      <td>NaN</td>\n",
       "      <td>NaN</td>\n",
       "      <td>40950</td>\n",
       "      <td>NaN</td>\n",
       "      <td>18120</td>\n",
       "      <td>NaN</td>\n",
       "      <td>20</td>\n",
       "      <td>59070</td>\n",
       "    </tr>\n",
       "    <tr>\n",
       "      <th>1971</th>\n",
       "      <td>NaN</td>\n",
       "      <td>NaN</td>\n",
       "      <td>NaN</td>\n",
       "      <td>NaN</td>\n",
       "      <td>NaN</td>\n",
       "      <td>42489</td>\n",
       "      <td>NaN</td>\n",
       "      <td>18720</td>\n",
       "      <td>NaN</td>\n",
       "      <td>21</td>\n",
       "      <td>61209</td>\n",
       "    </tr>\n",
       "    <tr>\n",
       "      <th>1972</th>\n",
       "      <td>NaN</td>\n",
       "      <td>NaN</td>\n",
       "      <td>NaN</td>\n",
       "      <td>NaN</td>\n",
       "      <td>NaN</td>\n",
       "      <td>44028</td>\n",
       "      <td>NaN</td>\n",
       "      <td>19320</td>\n",
       "      <td>NaN</td>\n",
       "      <td>22</td>\n",
       "      <td>63348</td>\n",
       "    </tr>\n",
       "    <tr>\n",
       "      <th>1973</th>\n",
       "      <td>NaN</td>\n",
       "      <td>NaN</td>\n",
       "      <td>NaN</td>\n",
       "      <td>NaN</td>\n",
       "      <td>NaN</td>\n",
       "      <td>45567</td>\n",
       "      <td>NaN</td>\n",
       "      <td>19920</td>\n",
       "      <td>NaN</td>\n",
       "      <td>23</td>\n",
       "      <td>65487</td>\n",
       "    </tr>\n",
       "    <tr>\n",
       "      <th>1974</th>\n",
       "      <td>NaN</td>\n",
       "      <td>NaN</td>\n",
       "      <td>NaN</td>\n",
       "      <td>NaN</td>\n",
       "      <td>NaN</td>\n",
       "      <td>47106</td>\n",
       "      <td>NaN</td>\n",
       "      <td>20520</td>\n",
       "      <td>NaN</td>\n",
       "      <td>24</td>\n",
       "      <td>67626</td>\n",
       "    </tr>\n",
       "    <tr>\n",
       "      <th>1975</th>\n",
       "      <td>NaN</td>\n",
       "      <td>NaN</td>\n",
       "      <td>NaN</td>\n",
       "      <td>NaN</td>\n",
       "      <td>NaN</td>\n",
       "      <td>48645</td>\n",
       "      <td>NaN</td>\n",
       "      <td>21120</td>\n",
       "      <td>NaN</td>\n",
       "      <td>25</td>\n",
       "      <td>69765</td>\n",
       "    </tr>\n",
       "    <tr>\n",
       "      <th>1976</th>\n",
       "      <td>NaN</td>\n",
       "      <td>NaN</td>\n",
       "      <td>NaN</td>\n",
       "      <td>NaN</td>\n",
       "      <td>NaN</td>\n",
       "      <td>50184</td>\n",
       "      <td>NaN</td>\n",
       "      <td>21720</td>\n",
       "      <td>NaN</td>\n",
       "      <td>26</td>\n",
       "      <td>71904</td>\n",
       "    </tr>\n",
       "    <tr>\n",
       "      <th>1977</th>\n",
       "      <td>NaN</td>\n",
       "      <td>NaN</td>\n",
       "      <td>NaN</td>\n",
       "      <td>NaN</td>\n",
       "      <td>NaN</td>\n",
       "      <td>51723</td>\n",
       "      <td>NaN</td>\n",
       "      <td>22320</td>\n",
       "      <td>NaN</td>\n",
       "      <td>27</td>\n",
       "      <td>74043</td>\n",
       "    </tr>\n",
       "    <tr>\n",
       "      <th>1978</th>\n",
       "      <td>NaN</td>\n",
       "      <td>NaN</td>\n",
       "      <td>NaN</td>\n",
       "      <td>NaN</td>\n",
       "      <td>NaN</td>\n",
       "      <td>53262</td>\n",
       "      <td>NaN</td>\n",
       "      <td>22920</td>\n",
       "      <td>NaN</td>\n",
       "      <td>28</td>\n",
       "      <td>76182</td>\n",
       "    </tr>\n",
       "    <tr>\n",
       "      <th>1979</th>\n",
       "      <td>NaN</td>\n",
       "      <td>NaN</td>\n",
       "      <td>NaN</td>\n",
       "      <td>NaN</td>\n",
       "      <td>NaN</td>\n",
       "      <td>54801</td>\n",
       "      <td>NaN</td>\n",
       "      <td>23520</td>\n",
       "      <td>NaN</td>\n",
       "      <td>29</td>\n",
       "      <td>78321</td>\n",
       "    </tr>\n",
       "    <tr>\n",
       "      <th>1980</th>\n",
       "      <td>NaN</td>\n",
       "      <td>NaN</td>\n",
       "      <td>NaN</td>\n",
       "      <td>NaN</td>\n",
       "      <td>NaN</td>\n",
       "      <td>56340</td>\n",
       "      <td>NaN</td>\n",
       "      <td>24120</td>\n",
       "      <td>NaN</td>\n",
       "      <td>30</td>\n",
       "      <td>80460</td>\n",
       "    </tr>\n",
       "  </tbody>\n",
       "</table>\n",
       "</div>"
      ],
      "text/plain": [
       "      Clark County  Las Vegas  Henderson  North Las Vegas  Boulder City  \\\n",
       "Year                                                                      \n",
       "1950       48289.0    24624.0     5717.0           3875.0        3903.0   \n",
       "1951       56600.0    28675.0     6243.0           5312.0        3920.0   \n",
       "1952       64777.0    32824.0     7040.0           6775.0        3932.0   \n",
       "1953       74062.0    36719.0     7565.0           8291.0        3947.0   \n",
       "1954       82216.0    40442.0     8197.0           9612.0        3965.0   \n",
       "1955       89863.0    44328.0     8728.0          11055.0        3977.0   \n",
       "1956           NaN        NaN        NaN              NaN           NaN   \n",
       "1957           NaN        NaN        NaN              NaN           NaN   \n",
       "1958           NaN        NaN        NaN              NaN           NaN   \n",
       "1959           NaN        NaN        NaN              NaN           NaN   \n",
       "1960           NaN        NaN        NaN              NaN           NaN   \n",
       "1961           NaN        NaN        NaN              NaN           NaN   \n",
       "1962           NaN        NaN        NaN              NaN           NaN   \n",
       "1963           NaN        NaN        NaN              NaN           NaN   \n",
       "1964           NaN        NaN        NaN              NaN           NaN   \n",
       "1965           NaN        NaN        NaN              NaN           NaN   \n",
       "1966           NaN        NaN        NaN              NaN           NaN   \n",
       "1967           NaN        NaN        NaN              NaN           NaN   \n",
       "1968           NaN        NaN        NaN              NaN           NaN   \n",
       "1969           NaN        NaN        NaN              NaN           NaN   \n",
       "1970           NaN        NaN        NaN              NaN           NaN   \n",
       "1971           NaN        NaN        NaN              NaN           NaN   \n",
       "1972           NaN        NaN        NaN              NaN           NaN   \n",
       "1973           NaN        NaN        NaN              NaN           NaN   \n",
       "1974           NaN        NaN        NaN              NaN           NaN   \n",
       "1975           NaN        NaN        NaN              NaN           NaN   \n",
       "1976           NaN        NaN        NaN              NaN           NaN   \n",
       "1977           NaN        NaN        NaN              NaN           NaN   \n",
       "1978           NaN        NaN        NaN              NaN           NaN   \n",
       "1979           NaN        NaN        NaN              NaN           NaN   \n",
       "1980           NaN        NaN        NaN              NaN           NaN   \n",
       "\n",
       "      Unincorporated Clark County  Annual Estimated Visitor Volume  \\\n",
       "Year                                                                 \n",
       "1950                        10170                        2233800.0   \n",
       "1951                        11689                        2452800.0   \n",
       "1952                        13206                        2671800.0   \n",
       "1953                        14822                        2890800.0   \n",
       "1954                        16412                        3109800.0   \n",
       "1955                        17866                        3328800.0   \n",
       "1956                        19404                              NaN   \n",
       "1957                        20943                              NaN   \n",
       "1958                        22482                              NaN   \n",
       "1959                        24021                              NaN   \n",
       "1960                        25560                              NaN   \n",
       "1961                        27099                              NaN   \n",
       "1962                        28638                              NaN   \n",
       "1963                        30177                              NaN   \n",
       "1964                        31716                              NaN   \n",
       "1965                        33255                              NaN   \n",
       "1966                        34794                              NaN   \n",
       "1967                        36333                              NaN   \n",
       "1968                        37872                              NaN   \n",
       "1969                        39411                              NaN   \n",
       "1970                        40950                              NaN   \n",
       "1971                        42489                              NaN   \n",
       "1972                        44028                              NaN   \n",
       "1973                        45567                              NaN   \n",
       "1974                        47106                              NaN   \n",
       "1975                        48645                              NaN   \n",
       "1976                        50184                              NaN   \n",
       "1977                        51723                              NaN   \n",
       "1978                        53262                              NaN   \n",
       "1979                        54801                              NaN   \n",
       "1980                        56340                              NaN   \n",
       "\n",
       "      Average Daily Visitors  Room Inventory  Years Since 1950  \\\n",
       "Year                                                             \n",
       "1950                    6120          5100.0                 0   \n",
       "1951                    6720          5600.0                 1   \n",
       "1952                    7320          6100.0                 2   \n",
       "1953                    7920          6600.0                 3   \n",
       "1954                    8520          7100.0                 4   \n",
       "1955                    9120          7600.0                 5   \n",
       "1956                    9720             NaN                 6   \n",
       "1957                   10320             NaN                 7   \n",
       "1958                   10920             NaN                 8   \n",
       "1959                   11520             NaN                 9   \n",
       "1960                   12120             NaN                10   \n",
       "1961                   12720             NaN                11   \n",
       "1962                   13320             NaN                12   \n",
       "1963                   13920             NaN                13   \n",
       "1964                   14520             NaN                14   \n",
       "1965                   15120             NaN                15   \n",
       "1966                   15720             NaN                16   \n",
       "1967                   16320             NaN                17   \n",
       "1968                   16920             NaN                18   \n",
       "1969                   17520             NaN                19   \n",
       "1970                   18120             NaN                20   \n",
       "1971                   18720             NaN                21   \n",
       "1972                   19320             NaN                22   \n",
       "1973                   19920             NaN                23   \n",
       "1974                   20520             NaN                24   \n",
       "1975                   21120             NaN                25   \n",
       "1976                   21720             NaN                26   \n",
       "1977                   22320             NaN                27   \n",
       "1978                   22920             NaN                28   \n",
       "1979                   23520             NaN                29   \n",
       "1980                   24120             NaN                30   \n",
       "\n",
       "      Total Predicted Unincorporated Clark County  \n",
       "Year                                               \n",
       "1950                                        16290  \n",
       "1951                                        18409  \n",
       "1952                                        20526  \n",
       "1953                                        22742  \n",
       "1954                                        24932  \n",
       "1955                                        26986  \n",
       "1956                                        29124  \n",
       "1957                                        31263  \n",
       "1958                                        33402  \n",
       "1959                                        35541  \n",
       "1960                                        37680  \n",
       "1961                                        39819  \n",
       "1962                                        41958  \n",
       "1963                                        44097  \n",
       "1964                                        46236  \n",
       "1965                                        48375  \n",
       "1966                                        50514  \n",
       "1967                                        52653  \n",
       "1968                                        54792  \n",
       "1969                                        56931  \n",
       "1970                                        59070  \n",
       "1971                                        61209  \n",
       "1972                                        63348  \n",
       "1973                                        65487  \n",
       "1974                                        67626  \n",
       "1975                                        69765  \n",
       "1976                                        71904  \n",
       "1977                                        74043  \n",
       "1978                                        76182  \n",
       "1979                                        78321  \n",
       "1980                                        80460  "
      ]
     },
     "execution_count": 13,
     "metadata": {},
     "output_type": "execute_result"
    }
   ],
   "source": [
    "Population1950to1980_Predicted = Population1950to1980_Predicted.reset_index()\n",
    "\n",
    "# Reshape wide → long for Plotly (all airlines in one column)\n",
    "df_long = Population1950to1980_Predicted.melt(id_vars='Year', \n",
    "                           value_vars=['Total Predicted Unincorporated Clark County','Unincorporated Clark County','Average Daily Visitors'], \n",
    "                           var_name='Area', value_name='Population')\n",
    "\n",
    "fig = px.line(\n",
    "    df_long,\n",
    "    x='Year', y='Population', color=\"Area\",\n",
    "    title=\"Predicted Population and Average Daily Vistors for Unincorporated Clark County 1950 to 1980\",\n",
    "    labels={'Population' : \"Population\"}\n",
    ")\n",
    "\n",
    "fig.update_traces(\n",
    "    hovertemplate=(\n",
    "        \"Area = %{fullData.name}<br>\"\n",
    "        \"Year = %{x}<br>\"\n",
    "        \"Population = %{y:,}\"\n",
    "        \"<extra></extra>\"\n",
    "    )\n",
    ")\n",
    "\n",
    "fig.update_layout(\n",
    "    width=1200, height=600,\n",
    "    yaxis_title=\"Population\",\n",
    "    #this puts the legend on the bottom\n",
    "    legend=dict(\n",
    "        title=dict(text=\"\", side='top center'),  # legend title above items\n",
    "        orientation=\"h\",     # horizontal layout\n",
    "        yanchor=\"top\",\n",
    "        y=-0.3,              # push below chart\n",
    "        xanchor=\"center\",\n",
    "        x=0.5\n",
    "    ),\n",
    "    #centers the title\n",
    "    title=dict(\n",
    "        text=\"Predicted Population and Average Daily Vistors for Unincorporated Clark County 1950 to 1980\",\n",
    "        x=0.5,  # 0=left, 0.5=center, 1=right\n",
    "        xanchor=\"center\"\n",
    "    )\n",
    ")\n",
    "\n",
    "fig.show()\n",
    "Population1950to1980_Predicted['Years Since 1950']=np.arange(len(Population1950to1980_Predicted))\n",
    "Population1950to1980_Predicted = Population1950to1980_Predicted.set_index('Year')\n",
    "Population1950to1980_Predicted"
   ]
  },
  {
   "cell_type": "markdown",
   "id": "ebf802f7",
   "metadata": {},
   "source": [
    "Now for the real question since we live in mondern times.  How does this compare to the actual data?  Thankfully we have that data!\n",
    "<h3>A Comparison to the Real Data!</h3>"
   ]
  },
  {
   "cell_type": "code",
   "execution_count": 14,
   "id": "decdffdf",
   "metadata": {},
   "outputs": [],
   "source": [
    "# Step 1: Read Excel with Year as a normal column\n",
    "Population1950to1980 = pd.read_excel('Population Data - 1950 to 1980.xlsx',sheet_name='Sheet1')\n",
    "Population1950to1980_Predicted = Population1950to1980_Predicted.rename(columns={\"Unincorporated Clark County\": \"Predicted Unincorporated Clark County\"})\n",
    "Population1950to1980_Predicted = Population1950to1980_Predicted.rename(columns={'Average Daily Visitors': 'Predicted Average Daily Visitors'})"
   ]
  },
  {
   "cell_type": "code",
   "execution_count": 15,
   "id": "8c113f2c",
   "metadata": {},
   "outputs": [
    {
     "data": {
      "application/vnd.plotly.v1+json": {
       "config": {
        "plotlyServerURL": "https://plot.ly"
       },
       "data": [
        {
         "hovertemplate": "Area = %{fullData.name}<br>Year = %{x}<br>Population = %{y:,}<extra></extra>",
         "legendgroup": "Predicted Unincorporated Clark County",
         "line": {
          "color": "#636efa",
          "dash": "solid"
         },
         "marker": {
          "symbol": "circle"
         },
         "mode": "lines",
         "name": "Predicted Unincorporated Clark County",
         "orientation": "v",
         "showlegend": true,
         "type": "scatter",
         "x": {
          "bdata": "ngefB6AHoQeiB6MHpAelB6YHpweoB6kHqgerB6wHrQeuB68HsAexB7IHswe0B7UHtge3B7gHuQe6B7sHvAc=",
          "dtype": "i2"
         },
         "xaxis": "x",
         "y": {
          "bdata": "uicAAKktAACWMwAA5jkAABxAAADKRQAAzEsAAM9RAADSVwAA1V0AANhjAADbaQAA3m8AAOF1AADkewAA54EAAOqHAADtjQAA8JMAAPOZAAD2nwAA+aUAAPyrAAD/sQAAArgAAAW+AAAIxAAAC8oAAA7QAAAR1gAAFNwAAA==",
          "dtype": "i4"
         },
         "yaxis": "y"
        },
        {
         "hovertemplate": "Area = %{fullData.name}<br>Year = %{x}<br>Population = %{y:,}<extra></extra>",
         "legendgroup": "Actual Unincorporated Clark County",
         "line": {
          "color": "#EF553B",
          "dash": "solid"
         },
         "marker": {
          "symbol": "circle"
         },
         "mode": "lines",
         "name": "Actual Unincorporated Clark County",
         "orientation": "v",
         "showlegend": true,
         "type": "scatter",
         "x": {
          "bdata": "ngefB6AHoQeiB6MHpAelB6YHpweoB6kHqgerB6wHrQeuB68HsAexB7IHswe0B7UHtge3B7gHuQe6B7sHvAc=",
          "dtype": "i2"
         },
         "xaxis": "x",
         "y": {
          "bdata": "uicAAKktAACWMwAA5jkAABxAAADKRQAANk0AAPpSAACPWAAAL14AANVrAAB/ggAAppsAAHOzAAAbygAAwOAAALX5AAA1EgEAjCgBAORAAQBDXgEAyZABAMLKAQAFBAIA3zgCAFVpAgDalgIAiMcCAET8AgCDLAMAGWIDAA==",
          "dtype": "i4"
         },
         "yaxis": "y"
        },
        {
         "hovertemplate": "Area = %{fullData.name}<br>Year = %{x}<br>Population = %{y:,}<extra></extra>",
         "legendgroup": "Predicted Average Daily Visitors",
         "line": {
          "color": "#00cc96",
          "dash": "solid"
         },
         "marker": {
          "symbol": "circle"
         },
         "mode": "lines",
         "name": "Predicted Average Daily Visitors",
         "orientation": "v",
         "showlegend": true,
         "type": "scatter",
         "x": {
          "bdata": "ngefB6AHoQeiB6MHpAelB6YHpweoB6kHqgerB6wHrQeuB68HsAexB7IHswe0B7UHtge3B7gHuQe6B7sHvAc=",
          "dtype": "i2"
         },
         "xaxis": "x",
         "y": {
          "bdata": "6BdAGpgc8B5IIaAj+CVQKKgqAC1YL7AxCDRgNrg4EDtoPcA/GEJwRMhGIEl4S9BNKFCAUthUMFeIWeBbOF4=",
          "dtype": "i2"
         },
         "yaxis": "y"
        },
        {
         "hovertemplate": "Area = %{fullData.name}<br>Year = %{x}<br>Population = %{y:,}<extra></extra>",
         "legendgroup": "Actual Average Daily Visitors",
         "line": {
          "color": "#ab63fa",
          "dash": "solid"
         },
         "marker": {
          "symbol": "circle"
         },
         "mode": "lines",
         "name": "Actual Average Daily Visitors",
         "orientation": "v",
         "showlegend": true,
         "type": "scatter",
         "x": {
          "bdata": "ngefB6AHoQeiB6MHpAelB6YHpweoB6kHqgerB6wHrQeuB68HsAexB7IHswe0B7UHtge3B7gHuQe6B7sHvAc=",
          "dtype": "i2"
         },
         "xaxis": "x",
         "y": {
          "bdata": "6BdAGpgc8B5IIaAj+CVQKKgqAC1YL7AxCDRgNrg4EDtoPcA/GEJwRKRIyU7mVLJau1zwYURofWyhdyx9c38=",
          "dtype": "i2"
         },
         "yaxis": "y"
        }
       ],
       "layout": {
        "height": 600,
        "legend": {
         "orientation": "h",
         "title": {
          "side": "top center",
          "text": ""
         },
         "tracegroupgap": 0,
         "x": 0.5,
         "xanchor": "center",
         "y": -0.3,
         "yanchor": "top"
        },
        "template": {
         "data": {
          "bar": [
           {
            "error_x": {
             "color": "#2a3f5f"
            },
            "error_y": {
             "color": "#2a3f5f"
            },
            "marker": {
             "line": {
              "color": "#E5ECF6",
              "width": 0.5
             },
             "pattern": {
              "fillmode": "overlay",
              "size": 10,
              "solidity": 0.2
             }
            },
            "type": "bar"
           }
          ],
          "barpolar": [
           {
            "marker": {
             "line": {
              "color": "#E5ECF6",
              "width": 0.5
             },
             "pattern": {
              "fillmode": "overlay",
              "size": 10,
              "solidity": 0.2
             }
            },
            "type": "barpolar"
           }
          ],
          "carpet": [
           {
            "aaxis": {
             "endlinecolor": "#2a3f5f",
             "gridcolor": "white",
             "linecolor": "white",
             "minorgridcolor": "white",
             "startlinecolor": "#2a3f5f"
            },
            "baxis": {
             "endlinecolor": "#2a3f5f",
             "gridcolor": "white",
             "linecolor": "white",
             "minorgridcolor": "white",
             "startlinecolor": "#2a3f5f"
            },
            "type": "carpet"
           }
          ],
          "choropleth": [
           {
            "colorbar": {
             "outlinewidth": 0,
             "ticks": ""
            },
            "type": "choropleth"
           }
          ],
          "contour": [
           {
            "colorbar": {
             "outlinewidth": 0,
             "ticks": ""
            },
            "colorscale": [
             [
              0,
              "#0d0887"
             ],
             [
              0.1111111111111111,
              "#46039f"
             ],
             [
              0.2222222222222222,
              "#7201a8"
             ],
             [
              0.3333333333333333,
              "#9c179e"
             ],
             [
              0.4444444444444444,
              "#bd3786"
             ],
             [
              0.5555555555555556,
              "#d8576b"
             ],
             [
              0.6666666666666666,
              "#ed7953"
             ],
             [
              0.7777777777777778,
              "#fb9f3a"
             ],
             [
              0.8888888888888888,
              "#fdca26"
             ],
             [
              1,
              "#f0f921"
             ]
            ],
            "type": "contour"
           }
          ],
          "contourcarpet": [
           {
            "colorbar": {
             "outlinewidth": 0,
             "ticks": ""
            },
            "type": "contourcarpet"
           }
          ],
          "heatmap": [
           {
            "colorbar": {
             "outlinewidth": 0,
             "ticks": ""
            },
            "colorscale": [
             [
              0,
              "#0d0887"
             ],
             [
              0.1111111111111111,
              "#46039f"
             ],
             [
              0.2222222222222222,
              "#7201a8"
             ],
             [
              0.3333333333333333,
              "#9c179e"
             ],
             [
              0.4444444444444444,
              "#bd3786"
             ],
             [
              0.5555555555555556,
              "#d8576b"
             ],
             [
              0.6666666666666666,
              "#ed7953"
             ],
             [
              0.7777777777777778,
              "#fb9f3a"
             ],
             [
              0.8888888888888888,
              "#fdca26"
             ],
             [
              1,
              "#f0f921"
             ]
            ],
            "type": "heatmap"
           }
          ],
          "histogram": [
           {
            "marker": {
             "pattern": {
              "fillmode": "overlay",
              "size": 10,
              "solidity": 0.2
             }
            },
            "type": "histogram"
           }
          ],
          "histogram2d": [
           {
            "colorbar": {
             "outlinewidth": 0,
             "ticks": ""
            },
            "colorscale": [
             [
              0,
              "#0d0887"
             ],
             [
              0.1111111111111111,
              "#46039f"
             ],
             [
              0.2222222222222222,
              "#7201a8"
             ],
             [
              0.3333333333333333,
              "#9c179e"
             ],
             [
              0.4444444444444444,
              "#bd3786"
             ],
             [
              0.5555555555555556,
              "#d8576b"
             ],
             [
              0.6666666666666666,
              "#ed7953"
             ],
             [
              0.7777777777777778,
              "#fb9f3a"
             ],
             [
              0.8888888888888888,
              "#fdca26"
             ],
             [
              1,
              "#f0f921"
             ]
            ],
            "type": "histogram2d"
           }
          ],
          "histogram2dcontour": [
           {
            "colorbar": {
             "outlinewidth": 0,
             "ticks": ""
            },
            "colorscale": [
             [
              0,
              "#0d0887"
             ],
             [
              0.1111111111111111,
              "#46039f"
             ],
             [
              0.2222222222222222,
              "#7201a8"
             ],
             [
              0.3333333333333333,
              "#9c179e"
             ],
             [
              0.4444444444444444,
              "#bd3786"
             ],
             [
              0.5555555555555556,
              "#d8576b"
             ],
             [
              0.6666666666666666,
              "#ed7953"
             ],
             [
              0.7777777777777778,
              "#fb9f3a"
             ],
             [
              0.8888888888888888,
              "#fdca26"
             ],
             [
              1,
              "#f0f921"
             ]
            ],
            "type": "histogram2dcontour"
           }
          ],
          "mesh3d": [
           {
            "colorbar": {
             "outlinewidth": 0,
             "ticks": ""
            },
            "type": "mesh3d"
           }
          ],
          "parcoords": [
           {
            "line": {
             "colorbar": {
              "outlinewidth": 0,
              "ticks": ""
             }
            },
            "type": "parcoords"
           }
          ],
          "pie": [
           {
            "automargin": true,
            "type": "pie"
           }
          ],
          "scatter": [
           {
            "fillpattern": {
             "fillmode": "overlay",
             "size": 10,
             "solidity": 0.2
            },
            "type": "scatter"
           }
          ],
          "scatter3d": [
           {
            "line": {
             "colorbar": {
              "outlinewidth": 0,
              "ticks": ""
             }
            },
            "marker": {
             "colorbar": {
              "outlinewidth": 0,
              "ticks": ""
             }
            },
            "type": "scatter3d"
           }
          ],
          "scattercarpet": [
           {
            "marker": {
             "colorbar": {
              "outlinewidth": 0,
              "ticks": ""
             }
            },
            "type": "scattercarpet"
           }
          ],
          "scattergeo": [
           {
            "marker": {
             "colorbar": {
              "outlinewidth": 0,
              "ticks": ""
             }
            },
            "type": "scattergeo"
           }
          ],
          "scattergl": [
           {
            "marker": {
             "colorbar": {
              "outlinewidth": 0,
              "ticks": ""
             }
            },
            "type": "scattergl"
           }
          ],
          "scattermap": [
           {
            "marker": {
             "colorbar": {
              "outlinewidth": 0,
              "ticks": ""
             }
            },
            "type": "scattermap"
           }
          ],
          "scattermapbox": [
           {
            "marker": {
             "colorbar": {
              "outlinewidth": 0,
              "ticks": ""
             }
            },
            "type": "scattermapbox"
           }
          ],
          "scatterpolar": [
           {
            "marker": {
             "colorbar": {
              "outlinewidth": 0,
              "ticks": ""
             }
            },
            "type": "scatterpolar"
           }
          ],
          "scatterpolargl": [
           {
            "marker": {
             "colorbar": {
              "outlinewidth": 0,
              "ticks": ""
             }
            },
            "type": "scatterpolargl"
           }
          ],
          "scatterternary": [
           {
            "marker": {
             "colorbar": {
              "outlinewidth": 0,
              "ticks": ""
             }
            },
            "type": "scatterternary"
           }
          ],
          "surface": [
           {
            "colorbar": {
             "outlinewidth": 0,
             "ticks": ""
            },
            "colorscale": [
             [
              0,
              "#0d0887"
             ],
             [
              0.1111111111111111,
              "#46039f"
             ],
             [
              0.2222222222222222,
              "#7201a8"
             ],
             [
              0.3333333333333333,
              "#9c179e"
             ],
             [
              0.4444444444444444,
              "#bd3786"
             ],
             [
              0.5555555555555556,
              "#d8576b"
             ],
             [
              0.6666666666666666,
              "#ed7953"
             ],
             [
              0.7777777777777778,
              "#fb9f3a"
             ],
             [
              0.8888888888888888,
              "#fdca26"
             ],
             [
              1,
              "#f0f921"
             ]
            ],
            "type": "surface"
           }
          ],
          "table": [
           {
            "cells": {
             "fill": {
              "color": "#EBF0F8"
             },
             "line": {
              "color": "white"
             }
            },
            "header": {
             "fill": {
              "color": "#C8D4E3"
             },
             "line": {
              "color": "white"
             }
            },
            "type": "table"
           }
          ]
         },
         "layout": {
          "annotationdefaults": {
           "arrowcolor": "#2a3f5f",
           "arrowhead": 0,
           "arrowwidth": 1
          },
          "autotypenumbers": "strict",
          "coloraxis": {
           "colorbar": {
            "outlinewidth": 0,
            "ticks": ""
           }
          },
          "colorscale": {
           "diverging": [
            [
             0,
             "#8e0152"
            ],
            [
             0.1,
             "#c51b7d"
            ],
            [
             0.2,
             "#de77ae"
            ],
            [
             0.3,
             "#f1b6da"
            ],
            [
             0.4,
             "#fde0ef"
            ],
            [
             0.5,
             "#f7f7f7"
            ],
            [
             0.6,
             "#e6f5d0"
            ],
            [
             0.7,
             "#b8e186"
            ],
            [
             0.8,
             "#7fbc41"
            ],
            [
             0.9,
             "#4d9221"
            ],
            [
             1,
             "#276419"
            ]
           ],
           "sequential": [
            [
             0,
             "#0d0887"
            ],
            [
             0.1111111111111111,
             "#46039f"
            ],
            [
             0.2222222222222222,
             "#7201a8"
            ],
            [
             0.3333333333333333,
             "#9c179e"
            ],
            [
             0.4444444444444444,
             "#bd3786"
            ],
            [
             0.5555555555555556,
             "#d8576b"
            ],
            [
             0.6666666666666666,
             "#ed7953"
            ],
            [
             0.7777777777777778,
             "#fb9f3a"
            ],
            [
             0.8888888888888888,
             "#fdca26"
            ],
            [
             1,
             "#f0f921"
            ]
           ],
           "sequentialminus": [
            [
             0,
             "#0d0887"
            ],
            [
             0.1111111111111111,
             "#46039f"
            ],
            [
             0.2222222222222222,
             "#7201a8"
            ],
            [
             0.3333333333333333,
             "#9c179e"
            ],
            [
             0.4444444444444444,
             "#bd3786"
            ],
            [
             0.5555555555555556,
             "#d8576b"
            ],
            [
             0.6666666666666666,
             "#ed7953"
            ],
            [
             0.7777777777777778,
             "#fb9f3a"
            ],
            [
             0.8888888888888888,
             "#fdca26"
            ],
            [
             1,
             "#f0f921"
            ]
           ]
          },
          "colorway": [
           "#636efa",
           "#EF553B",
           "#00cc96",
           "#ab63fa",
           "#FFA15A",
           "#19d3f3",
           "#FF6692",
           "#B6E880",
           "#FF97FF",
           "#FECB52"
          ],
          "font": {
           "color": "#2a3f5f"
          },
          "geo": {
           "bgcolor": "white",
           "lakecolor": "white",
           "landcolor": "#E5ECF6",
           "showlakes": true,
           "showland": true,
           "subunitcolor": "white"
          },
          "hoverlabel": {
           "align": "left"
          },
          "hovermode": "closest",
          "mapbox": {
           "style": "light"
          },
          "paper_bgcolor": "white",
          "plot_bgcolor": "#E5ECF6",
          "polar": {
           "angularaxis": {
            "gridcolor": "white",
            "linecolor": "white",
            "ticks": ""
           },
           "bgcolor": "#E5ECF6",
           "radialaxis": {
            "gridcolor": "white",
            "linecolor": "white",
            "ticks": ""
           }
          },
          "scene": {
           "xaxis": {
            "backgroundcolor": "#E5ECF6",
            "gridcolor": "white",
            "gridwidth": 2,
            "linecolor": "white",
            "showbackground": true,
            "ticks": "",
            "zerolinecolor": "white"
           },
           "yaxis": {
            "backgroundcolor": "#E5ECF6",
            "gridcolor": "white",
            "gridwidth": 2,
            "linecolor": "white",
            "showbackground": true,
            "ticks": "",
            "zerolinecolor": "white"
           },
           "zaxis": {
            "backgroundcolor": "#E5ECF6",
            "gridcolor": "white",
            "gridwidth": 2,
            "linecolor": "white",
            "showbackground": true,
            "ticks": "",
            "zerolinecolor": "white"
           }
          },
          "shapedefaults": {
           "line": {
            "color": "#2a3f5f"
           }
          },
          "ternary": {
           "aaxis": {
            "gridcolor": "white",
            "linecolor": "white",
            "ticks": ""
           },
           "baxis": {
            "gridcolor": "white",
            "linecolor": "white",
            "ticks": ""
           },
           "bgcolor": "#E5ECF6",
           "caxis": {
            "gridcolor": "white",
            "linecolor": "white",
            "ticks": ""
           }
          },
          "title": {
           "x": 0.05
          },
          "xaxis": {
           "automargin": true,
           "gridcolor": "white",
           "linecolor": "white",
           "ticks": "",
           "title": {
            "standoff": 15
           },
           "zerolinecolor": "white",
           "zerolinewidth": 2
          },
          "yaxis": {
           "automargin": true,
           "gridcolor": "white",
           "linecolor": "white",
           "ticks": "",
           "title": {
            "standoff": 15
           },
           "zerolinecolor": "white",
           "zerolinewidth": 2
          }
         }
        },
        "title": {
         "text": "Predicted and Actual Population and Average Daily Vistors for Unincorporated Clark County 1950 to 1980",
         "x": 0.5,
         "xanchor": "center"
        },
        "width": 1200,
        "xaxis": {
         "anchor": "y",
         "domain": [
          0,
          1
         ],
         "title": {
          "text": "Year"
         }
        },
        "yaxis": {
         "anchor": "x",
         "domain": [
          0,
          1
         ],
         "title": {
          "text": "Population"
         }
        }
       }
      }
     },
     "metadata": {},
     "output_type": "display_data"
    }
   ],
   "source": [
    "Population1950to1980_Merged = pd.merge(\n",
    "    Population1950to1980_Predicted.reset_index(),\n",
    "    Population1950to1980.reset_index(),\n",
    "    on=\"Year\",\n",
    "    how=\"outer\"   # or 'inner' depending on whether you want all years or only common years\n",
    ")\n",
    "# Reshape wide → long for Plotly (all airlines in one column)\n",
    "df_long = Population1950to1980_Merged.melt(id_vars='Year', \n",
    "                           value_vars=['Predicted Unincorporated Clark County',\n",
    "                                       'Actual Unincorporated Clark County','Predicted Average Daily Visitors', 'Actual Average Daily Visitors'], \n",
    "                           var_name='Area', value_name='Population')\n",
    "\n",
    "fig = px.line(\n",
    "    df_long,\n",
    "    x='Year', y='Population', color=\"Area\",\n",
    "    title=\"Predicted and Actual Population and Average Daily Vistors for Unincorporated Clark County 1950 to 1980\",\n",
    "    labels={'Population' : \"Population\"}\n",
    ")\n",
    "\n",
    "fig.update_traces(\n",
    "    hovertemplate=(\n",
    "        \"Area = %{fullData.name}<br>\"\n",
    "        \"Year = %{x}<br>\"\n",
    "        \"Population = %{y:,}\"\n",
    "        \"<extra></extra>\"\n",
    "    )\n",
    ")\n",
    "\n",
    "fig.update_layout(\n",
    "    width=1200, height=600,\n",
    "    yaxis_title=\"Population\",\n",
    "    #this puts the legend on the bottom\n",
    "    legend=dict(\n",
    "        title=dict(text=\"\", side='top center'),  # legend title above items\n",
    "        orientation=\"h\",     # horizontal layout\n",
    "        yanchor=\"top\",\n",
    "        y=-0.3,              # push below chart\n",
    "        xanchor=\"center\",\n",
    "        x=0.5\n",
    "    ),\n",
    "    #centers the title\n",
    "    title=dict(\n",
    "        text=\"Predicted and Actual Population and Average Daily Vistors for Unincorporated Clark County 1950 to 1980\",\n",
    "        x=0.5,  # 0=left, 0.5=center, 1=right\n",
    "        xanchor=\"center\"\n",
    "    )\n",
    ")\n",
    "\n",
    "\n",
    "fig.show()\n",
    "#Population1950to1955\n"
   ]
  },
  {
   "cell_type": "markdown",
   "id": "1588317a",
   "metadata": {},
   "source": [
    "In the figure above try comparing the total populations for each category, in particular the values for the daily visitors and Unincorporated Clark County Population... <br>\n",
    "As you can see the daily visitors are underestimated by as much as 33% and the Unincorporated Clark County Population was underestimated by a factor of four!  <br>\n",
    "What happened?  This is one of the biggest challenges of planning for any type of utility or improvement related to population is that what was linear at first can change with time or simply increase more per year than we had initially predicted.  <b>This is normal and this is why our estimates always need to be verified and updated when new data arises to make sure our facilities are adequately sized! Our original assumptions could very well have happened had our area not experienced explosive growth.</b>\n",
    "<br><br>Thankfully we have modern tools and much more access to data, so it is easier to update these estimates.  We also now have access to modern computers to assist us in this process!"
   ]
  },
  {
   "cell_type": "code",
   "execution_count": 16,
   "id": "2444f15f",
   "metadata": {},
   "outputs": [],
   "source": [
    "import plotly.graph_objects as go\n",
    "\n",
    "# If 'Year' is the index, bring it back first (safe to call even if it's already a column)\n",
    "#Population1950to1955 = Population1950to1955.set_index('Year')\n",
    "#Population1950to1955 = Population1950to1955.set_index('Year')\n",
    "df = Population1950to1955.reset_index()\n",
    "\n",
    "col_to_fit = \"Average Daily Visitors\"   # <-- change this if needed\n",
    "\n",
    "# 1) Use only 1950–1955 data (and positive values for log fit)\n",
    "fit_slice = df[(df[\"Year\"] >= 1950) & (df[\"Year\"] <= 1955)][[\"Year\", col_to_fit]].dropna()\n",
    "fit_slice = fit_slice[fit_slice[col_to_fit] > 0]\n",
    "\n",
    "# 2) Fit ln(y) = ln(a) + b*(x - x0) to improve numerical stability (x0 = first year in slice)\n",
    "x0 = int(fit_slice[\"Year\"].min())\n",
    "X_fit = (fit_slice[\"Year\"] - x0).to_numpy(dtype=float)\n",
    "y_fit = fit_slice[col_to_fit].to_numpy(dtype=float)\n",
    "\n",
    "slope, intercept = np.polyfit(X_fit, np.log(y_fit), 1)\n",
    "a = np.exp(intercept)\n",
    "b = slope  # note: model is y = a * exp(b * (x - x0))\n",
    "\n",
    "# 3) Build smooth curve over 1950–1955 (or extend further if you want)\n",
    "years_curve = np.arange(1950, 1955 + 0.1, 0.1)  # smooth line within the fit window\n",
    "y_curve = a * np.exp(b * (years_curve - x0))\n",
    "\n",
    "Population1950to1980_Predicted['Exponential Predicted Average Daily Visitors'] = (\n",
    "    a * np.exp(b * (Population1950to1980_Predicted.index.to_numpy(dtype=int) - x0))\n",
    ").astype(\"int64\")\n",
    "\n",
    "#Population1950to1955 = Population1950to1955.set_index('Year')\n",
    "# (Optional) show fitted parameters in console\n",
    "#print(f\"Fitted model for '{col_to_fit}': y = {a:.3g} * exp({b:.3g} * (Year - {x0}))\")\n",
    "#Population1950to1980_Predicted"
   ]
  },
  {
   "cell_type": "code",
   "execution_count": 17,
   "id": "b4c6fab0",
   "metadata": {},
   "outputs": [],
   "source": [
    "# If 'Year' is the index, bring it back first (safe to call even if it's already a column)\n",
    "df = Population1950to1955.reset_index()\n",
    "\n",
    "col_to_fit = \"Unincorporated Clark County\"   # <-- change this if needed\n",
    "\n",
    "# 1) Use only 1950–1955 data (and positive values for log fit)\n",
    "fit_slice = df[(df[\"Year\"] >= 1950) & (df[\"Year\"] <= 1955)][[\"Year\", col_to_fit]].dropna()\n",
    "fit_slice = fit_slice[fit_slice[col_to_fit] > 0]\n",
    "\n",
    "# 2) Fit ln(y) = ln(a) + b*(x - x0) to improve numerical stability (x0 = first year in slice)\n",
    "x0 = int(fit_slice[\"Year\"].min())\n",
    "X_fit = (fit_slice[\"Year\"] - x0).to_numpy(dtype=float)\n",
    "y_fit = fit_slice[col_to_fit].to_numpy(dtype=float)\n",
    "\n",
    "slope, intercept = np.polyfit(X_fit, np.log(y_fit), 1)\n",
    "a = np.exp(intercept)\n",
    "b = slope  # note: model is y = a * exp(b * (x - x0))\n",
    "\n",
    "# 3) Build smooth curve over 1950–1955 (or extend further if you want)\n",
    "years_curve = np.arange(1950, 1955 + 0.1, 0.1)  # smooth line within the fit window\n",
    "y_curve = a * np.exp(b * (years_curve - x0))\n",
    "\n",
    "Population1950to1980_Predicted['Exponential Predicted Unincorporated Clark County'] = (\n",
    "    a * np.exp(b * (Population1950to1980_Predicted.index.to_numpy(dtype=int) - x0))\n",
    ").astype(\"int64\")\n",
    "\n",
    "#Population1950to1955 = Population1950to1955.set_index('Year')\n",
    "#Population1950to1980_Predicted"
   ]
  },
  {
   "cell_type": "markdown",
   "id": "c941d975",
   "metadata": {},
   "source": [
    "\n",
    "Here is a graph showing an exponential comparison to the data."
   ]
  },
  {
   "cell_type": "code",
   "execution_count": 18,
   "id": "17fbf7a4",
   "metadata": {},
   "outputs": [
    {
     "data": {
      "application/vnd.plotly.v1+json": {
       "config": {
        "plotlyServerURL": "https://plot.ly"
       },
       "data": [
        {
         "hovertemplate": "Area = %{fullData.name}<br>Year = %{x}<br>Population = %{y:,}<extra></extra>",
         "legendgroup": "Exponential Predicted Unincorporated Clark County",
         "line": {
          "color": "#636efa",
          "dash": "solid"
         },
         "marker": {
          "symbol": "circle"
         },
         "mode": "lines",
         "name": "Exponential Predicted Unincorporated Clark County",
         "orientation": "v",
         "showlegend": true,
         "type": "scatter",
         "x": {
          "bdata": "ngefB6AHoQeiB6MHpAelB6YHpweoB6kHqgerB6wHrQeuB68HsAexB7IHswe0B7UHtge3B7gHuQe6B7sHvAc=",
          "dtype": "i2"
         },
         "xaxis": "x",
         "y": {
          "bdata": "kSgAAGotAADYMgAA6zgAALg/AABWRwAA3E8AAGdZAAAWZAAADHAAAHB9AABtjAAANZ0AAP6vAAAGxQAAkdwAAO32AABvFAEAeDUBAHNaAQDZgwEAMrIBABXmAQArIAIAMmECAP6pAgB++wIAulYDAN28AwA1LwQAN68EAA==",
          "dtype": "i4"
         },
         "yaxis": "y"
        },
        {
         "hovertemplate": "Area = %{fullData.name}<br>Year = %{x}<br>Population = %{y:,}<extra></extra>",
         "legendgroup": "Actual Unincorporated Clark County",
         "line": {
          "color": "#EF553B",
          "dash": "solid"
         },
         "marker": {
          "symbol": "circle"
         },
         "mode": "lines",
         "name": "Actual Unincorporated Clark County",
         "orientation": "v",
         "showlegend": true,
         "type": "scatter",
         "x": {
          "bdata": "ngefB6AHoQeiB6MHpAelB6YHpweoB6kHqgerB6wHrQeuB68HsAexB7IHswe0B7UHtge3B7gHuQe6B7sHvAc=",
          "dtype": "i2"
         },
         "xaxis": "x",
         "y": {
          "bdata": "uicAAKktAACWMwAA5jkAABxAAADKRQAANk0AAPpSAACPWAAAL14AANVrAAB/ggAAppsAAHOzAAAbygAAwOAAALX5AAA1EgEAjCgBAORAAQBDXgEAyZABAMLKAQAFBAIA3zgCAFVpAgDalgIAiMcCAET8AgCDLAMAGWIDAA==",
          "dtype": "i4"
         },
         "yaxis": "y"
        },
        {
         "hovertemplate": "Area = %{fullData.name}<br>Year = %{x}<br>Population = %{y:,}<extra></extra>",
         "legendgroup": "Exponential Predicted Average Daily Visitors",
         "line": {
          "color": "#00cc96",
          "dash": "solid"
         },
         "marker": {
          "symbol": "circle"
         },
         "mode": "lines",
         "name": "Exponential Predicted Average Daily Visitors",
         "orientation": "v",
         "showlegend": true,
         "type": "scatter",
         "x": {
          "bdata": "ngefB6AHoQeiB6MHpAelB6YHpweoB6kHqgerB6wHrQeuB68HsAexB7IHswe0B7UHtge3B7gHuQe6B7sHvAc=",
          "dtype": "i2"
         },
         "xaxis": "x",
         "y": {
          "bdata": "LBgAACwaAABXHAAAsB4AADshAAD8IwAA9yYAADEqAACwLQAAeTEAAJI1AAACOgAA0D4AAAREAACmSQAAwE8AAFtWAACCXQAAQWUAAKRtAAC5dgAAj4AAADWLAAC9lgAAOqMAAL+wAABjvwAAPc8AAGjgAAD+8gAAHwcBAA==",
          "dtype": "i4"
         },
         "yaxis": "y"
        },
        {
         "hovertemplate": "Area = %{fullData.name}<br>Year = %{x}<br>Population = %{y:,}<extra></extra>",
         "legendgroup": "Actual Average Daily Visitors",
         "line": {
          "color": "#ab63fa",
          "dash": "solid"
         },
         "marker": {
          "symbol": "circle"
         },
         "mode": "lines",
         "name": "Actual Average Daily Visitors",
         "orientation": "v",
         "showlegend": true,
         "type": "scatter",
         "x": {
          "bdata": "ngefB6AHoQeiB6MHpAelB6YHpweoB6kHqgerB6wHrQeuB68HsAexB7IHswe0B7UHtge3B7gHuQe6B7sHvAc=",
          "dtype": "i2"
         },
         "xaxis": "x",
         "y": {
          "bdata": "6BdAGpgc8B5IIaAj+CVQKKgqAC1YL7AxCDRgNrg4EDtoPcA/GEJwRKRIyU7mVLJau1zwYURofWyhdyx9c38=",
          "dtype": "i2"
         },
         "yaxis": "y"
        }
       ],
       "layout": {
        "height": 600,
        "legend": {
         "orientation": "h",
         "title": {
          "side": "top center",
          "text": ""
         },
         "tracegroupgap": 0,
         "x": 0.5,
         "xanchor": "center",
         "y": -0.3,
         "yanchor": "top"
        },
        "template": {
         "data": {
          "bar": [
           {
            "error_x": {
             "color": "#2a3f5f"
            },
            "error_y": {
             "color": "#2a3f5f"
            },
            "marker": {
             "line": {
              "color": "#E5ECF6",
              "width": 0.5
             },
             "pattern": {
              "fillmode": "overlay",
              "size": 10,
              "solidity": 0.2
             }
            },
            "type": "bar"
           }
          ],
          "barpolar": [
           {
            "marker": {
             "line": {
              "color": "#E5ECF6",
              "width": 0.5
             },
             "pattern": {
              "fillmode": "overlay",
              "size": 10,
              "solidity": 0.2
             }
            },
            "type": "barpolar"
           }
          ],
          "carpet": [
           {
            "aaxis": {
             "endlinecolor": "#2a3f5f",
             "gridcolor": "white",
             "linecolor": "white",
             "minorgridcolor": "white",
             "startlinecolor": "#2a3f5f"
            },
            "baxis": {
             "endlinecolor": "#2a3f5f",
             "gridcolor": "white",
             "linecolor": "white",
             "minorgridcolor": "white",
             "startlinecolor": "#2a3f5f"
            },
            "type": "carpet"
           }
          ],
          "choropleth": [
           {
            "colorbar": {
             "outlinewidth": 0,
             "ticks": ""
            },
            "type": "choropleth"
           }
          ],
          "contour": [
           {
            "colorbar": {
             "outlinewidth": 0,
             "ticks": ""
            },
            "colorscale": [
             [
              0,
              "#0d0887"
             ],
             [
              0.1111111111111111,
              "#46039f"
             ],
             [
              0.2222222222222222,
              "#7201a8"
             ],
             [
              0.3333333333333333,
              "#9c179e"
             ],
             [
              0.4444444444444444,
              "#bd3786"
             ],
             [
              0.5555555555555556,
              "#d8576b"
             ],
             [
              0.6666666666666666,
              "#ed7953"
             ],
             [
              0.7777777777777778,
              "#fb9f3a"
             ],
             [
              0.8888888888888888,
              "#fdca26"
             ],
             [
              1,
              "#f0f921"
             ]
            ],
            "type": "contour"
           }
          ],
          "contourcarpet": [
           {
            "colorbar": {
             "outlinewidth": 0,
             "ticks": ""
            },
            "type": "contourcarpet"
           }
          ],
          "heatmap": [
           {
            "colorbar": {
             "outlinewidth": 0,
             "ticks": ""
            },
            "colorscale": [
             [
              0,
              "#0d0887"
             ],
             [
              0.1111111111111111,
              "#46039f"
             ],
             [
              0.2222222222222222,
              "#7201a8"
             ],
             [
              0.3333333333333333,
              "#9c179e"
             ],
             [
              0.4444444444444444,
              "#bd3786"
             ],
             [
              0.5555555555555556,
              "#d8576b"
             ],
             [
              0.6666666666666666,
              "#ed7953"
             ],
             [
              0.7777777777777778,
              "#fb9f3a"
             ],
             [
              0.8888888888888888,
              "#fdca26"
             ],
             [
              1,
              "#f0f921"
             ]
            ],
            "type": "heatmap"
           }
          ],
          "histogram": [
           {
            "marker": {
             "pattern": {
              "fillmode": "overlay",
              "size": 10,
              "solidity": 0.2
             }
            },
            "type": "histogram"
           }
          ],
          "histogram2d": [
           {
            "colorbar": {
             "outlinewidth": 0,
             "ticks": ""
            },
            "colorscale": [
             [
              0,
              "#0d0887"
             ],
             [
              0.1111111111111111,
              "#46039f"
             ],
             [
              0.2222222222222222,
              "#7201a8"
             ],
             [
              0.3333333333333333,
              "#9c179e"
             ],
             [
              0.4444444444444444,
              "#bd3786"
             ],
             [
              0.5555555555555556,
              "#d8576b"
             ],
             [
              0.6666666666666666,
              "#ed7953"
             ],
             [
              0.7777777777777778,
              "#fb9f3a"
             ],
             [
              0.8888888888888888,
              "#fdca26"
             ],
             [
              1,
              "#f0f921"
             ]
            ],
            "type": "histogram2d"
           }
          ],
          "histogram2dcontour": [
           {
            "colorbar": {
             "outlinewidth": 0,
             "ticks": ""
            },
            "colorscale": [
             [
              0,
              "#0d0887"
             ],
             [
              0.1111111111111111,
              "#46039f"
             ],
             [
              0.2222222222222222,
              "#7201a8"
             ],
             [
              0.3333333333333333,
              "#9c179e"
             ],
             [
              0.4444444444444444,
              "#bd3786"
             ],
             [
              0.5555555555555556,
              "#d8576b"
             ],
             [
              0.6666666666666666,
              "#ed7953"
             ],
             [
              0.7777777777777778,
              "#fb9f3a"
             ],
             [
              0.8888888888888888,
              "#fdca26"
             ],
             [
              1,
              "#f0f921"
             ]
            ],
            "type": "histogram2dcontour"
           }
          ],
          "mesh3d": [
           {
            "colorbar": {
             "outlinewidth": 0,
             "ticks": ""
            },
            "type": "mesh3d"
           }
          ],
          "parcoords": [
           {
            "line": {
             "colorbar": {
              "outlinewidth": 0,
              "ticks": ""
             }
            },
            "type": "parcoords"
           }
          ],
          "pie": [
           {
            "automargin": true,
            "type": "pie"
           }
          ],
          "scatter": [
           {
            "fillpattern": {
             "fillmode": "overlay",
             "size": 10,
             "solidity": 0.2
            },
            "type": "scatter"
           }
          ],
          "scatter3d": [
           {
            "line": {
             "colorbar": {
              "outlinewidth": 0,
              "ticks": ""
             }
            },
            "marker": {
             "colorbar": {
              "outlinewidth": 0,
              "ticks": ""
             }
            },
            "type": "scatter3d"
           }
          ],
          "scattercarpet": [
           {
            "marker": {
             "colorbar": {
              "outlinewidth": 0,
              "ticks": ""
             }
            },
            "type": "scattercarpet"
           }
          ],
          "scattergeo": [
           {
            "marker": {
             "colorbar": {
              "outlinewidth": 0,
              "ticks": ""
             }
            },
            "type": "scattergeo"
           }
          ],
          "scattergl": [
           {
            "marker": {
             "colorbar": {
              "outlinewidth": 0,
              "ticks": ""
             }
            },
            "type": "scattergl"
           }
          ],
          "scattermap": [
           {
            "marker": {
             "colorbar": {
              "outlinewidth": 0,
              "ticks": ""
             }
            },
            "type": "scattermap"
           }
          ],
          "scattermapbox": [
           {
            "marker": {
             "colorbar": {
              "outlinewidth": 0,
              "ticks": ""
             }
            },
            "type": "scattermapbox"
           }
          ],
          "scatterpolar": [
           {
            "marker": {
             "colorbar": {
              "outlinewidth": 0,
              "ticks": ""
             }
            },
            "type": "scatterpolar"
           }
          ],
          "scatterpolargl": [
           {
            "marker": {
             "colorbar": {
              "outlinewidth": 0,
              "ticks": ""
             }
            },
            "type": "scatterpolargl"
           }
          ],
          "scatterternary": [
           {
            "marker": {
             "colorbar": {
              "outlinewidth": 0,
              "ticks": ""
             }
            },
            "type": "scatterternary"
           }
          ],
          "surface": [
           {
            "colorbar": {
             "outlinewidth": 0,
             "ticks": ""
            },
            "colorscale": [
             [
              0,
              "#0d0887"
             ],
             [
              0.1111111111111111,
              "#46039f"
             ],
             [
              0.2222222222222222,
              "#7201a8"
             ],
             [
              0.3333333333333333,
              "#9c179e"
             ],
             [
              0.4444444444444444,
              "#bd3786"
             ],
             [
              0.5555555555555556,
              "#d8576b"
             ],
             [
              0.6666666666666666,
              "#ed7953"
             ],
             [
              0.7777777777777778,
              "#fb9f3a"
             ],
             [
              0.8888888888888888,
              "#fdca26"
             ],
             [
              1,
              "#f0f921"
             ]
            ],
            "type": "surface"
           }
          ],
          "table": [
           {
            "cells": {
             "fill": {
              "color": "#EBF0F8"
             },
             "line": {
              "color": "white"
             }
            },
            "header": {
             "fill": {
              "color": "#C8D4E3"
             },
             "line": {
              "color": "white"
             }
            },
            "type": "table"
           }
          ]
         },
         "layout": {
          "annotationdefaults": {
           "arrowcolor": "#2a3f5f",
           "arrowhead": 0,
           "arrowwidth": 1
          },
          "autotypenumbers": "strict",
          "coloraxis": {
           "colorbar": {
            "outlinewidth": 0,
            "ticks": ""
           }
          },
          "colorscale": {
           "diverging": [
            [
             0,
             "#8e0152"
            ],
            [
             0.1,
             "#c51b7d"
            ],
            [
             0.2,
             "#de77ae"
            ],
            [
             0.3,
             "#f1b6da"
            ],
            [
             0.4,
             "#fde0ef"
            ],
            [
             0.5,
             "#f7f7f7"
            ],
            [
             0.6,
             "#e6f5d0"
            ],
            [
             0.7,
             "#b8e186"
            ],
            [
             0.8,
             "#7fbc41"
            ],
            [
             0.9,
             "#4d9221"
            ],
            [
             1,
             "#276419"
            ]
           ],
           "sequential": [
            [
             0,
             "#0d0887"
            ],
            [
             0.1111111111111111,
             "#46039f"
            ],
            [
             0.2222222222222222,
             "#7201a8"
            ],
            [
             0.3333333333333333,
             "#9c179e"
            ],
            [
             0.4444444444444444,
             "#bd3786"
            ],
            [
             0.5555555555555556,
             "#d8576b"
            ],
            [
             0.6666666666666666,
             "#ed7953"
            ],
            [
             0.7777777777777778,
             "#fb9f3a"
            ],
            [
             0.8888888888888888,
             "#fdca26"
            ],
            [
             1,
             "#f0f921"
            ]
           ],
           "sequentialminus": [
            [
             0,
             "#0d0887"
            ],
            [
             0.1111111111111111,
             "#46039f"
            ],
            [
             0.2222222222222222,
             "#7201a8"
            ],
            [
             0.3333333333333333,
             "#9c179e"
            ],
            [
             0.4444444444444444,
             "#bd3786"
            ],
            [
             0.5555555555555556,
             "#d8576b"
            ],
            [
             0.6666666666666666,
             "#ed7953"
            ],
            [
             0.7777777777777778,
             "#fb9f3a"
            ],
            [
             0.8888888888888888,
             "#fdca26"
            ],
            [
             1,
             "#f0f921"
            ]
           ]
          },
          "colorway": [
           "#636efa",
           "#EF553B",
           "#00cc96",
           "#ab63fa",
           "#FFA15A",
           "#19d3f3",
           "#FF6692",
           "#B6E880",
           "#FF97FF",
           "#FECB52"
          ],
          "font": {
           "color": "#2a3f5f"
          },
          "geo": {
           "bgcolor": "white",
           "lakecolor": "white",
           "landcolor": "#E5ECF6",
           "showlakes": true,
           "showland": true,
           "subunitcolor": "white"
          },
          "hoverlabel": {
           "align": "left"
          },
          "hovermode": "closest",
          "mapbox": {
           "style": "light"
          },
          "paper_bgcolor": "white",
          "plot_bgcolor": "#E5ECF6",
          "polar": {
           "angularaxis": {
            "gridcolor": "white",
            "linecolor": "white",
            "ticks": ""
           },
           "bgcolor": "#E5ECF6",
           "radialaxis": {
            "gridcolor": "white",
            "linecolor": "white",
            "ticks": ""
           }
          },
          "scene": {
           "xaxis": {
            "backgroundcolor": "#E5ECF6",
            "gridcolor": "white",
            "gridwidth": 2,
            "linecolor": "white",
            "showbackground": true,
            "ticks": "",
            "zerolinecolor": "white"
           },
           "yaxis": {
            "backgroundcolor": "#E5ECF6",
            "gridcolor": "white",
            "gridwidth": 2,
            "linecolor": "white",
            "showbackground": true,
            "ticks": "",
            "zerolinecolor": "white"
           },
           "zaxis": {
            "backgroundcolor": "#E5ECF6",
            "gridcolor": "white",
            "gridwidth": 2,
            "linecolor": "white",
            "showbackground": true,
            "ticks": "",
            "zerolinecolor": "white"
           }
          },
          "shapedefaults": {
           "line": {
            "color": "#2a3f5f"
           }
          },
          "ternary": {
           "aaxis": {
            "gridcolor": "white",
            "linecolor": "white",
            "ticks": ""
           },
           "baxis": {
            "gridcolor": "white",
            "linecolor": "white",
            "ticks": ""
           },
           "bgcolor": "#E5ECF6",
           "caxis": {
            "gridcolor": "white",
            "linecolor": "white",
            "ticks": ""
           }
          },
          "title": {
           "x": 0.05
          },
          "xaxis": {
           "automargin": true,
           "gridcolor": "white",
           "linecolor": "white",
           "ticks": "",
           "title": {
            "standoff": 15
           },
           "zerolinecolor": "white",
           "zerolinewidth": 2
          },
          "yaxis": {
           "automargin": true,
           "gridcolor": "white",
           "linecolor": "white",
           "ticks": "",
           "title": {
            "standoff": 15
           },
           "zerolinecolor": "white",
           "zerolinewidth": 2
          }
         }
        },
        "title": {
         "text": "Predicted and Actual Population and Average Daily Vistors for Unincorporated Clark County 1950 to 1980",
         "x": 0.5,
         "xanchor": "center"
        },
        "width": 1200,
        "xaxis": {
         "anchor": "y",
         "domain": [
          0,
          1
         ],
         "title": {
          "text": "Year"
         }
        },
        "yaxis": {
         "anchor": "x",
         "domain": [
          0,
          1
         ],
         "title": {
          "text": "Population"
         }
        }
       }
      }
     },
     "metadata": {},
     "output_type": "display_data"
    }
   ],
   "source": [
    "Population1950to1980_Merged = pd.merge(\n",
    "    Population1950to1980_Predicted.reset_index(),\n",
    "    Population1950to1980.reset_index(),\n",
    "    on=\"Year\",\n",
    "    how=\"outer\"   # or 'inner' depending on whether you want all years or only common years\n",
    ")\n",
    "# Reshape wide → long for Plotly (all airlines in one column)\n",
    "df_long = Population1950to1980_Merged.melt(id_vars='Year', \n",
    "                           value_vars=['Exponential Predicted Unincorporated Clark County',\n",
    "                                       'Actual Unincorporated Clark County','Exponential Predicted Average Daily Visitors', 'Actual Average Daily Visitors'], \n",
    "                           var_name='Area', value_name='Population')\n",
    "\n",
    "fig = px.line(\n",
    "    df_long,\n",
    "    x='Year', y='Population', color=\"Area\",\n",
    "    title=\"Predicted and Actual Population and Average Daily Vistors for Unincorporated Clark County 1950 to 1980\",\n",
    "    labels={'Population' : \"Population\"}\n",
    ")\n",
    "\n",
    "fig.update_traces(\n",
    "    hovertemplate=(\n",
    "        \"Area = %{fullData.name}<br>\"\n",
    "        \"Year = %{x}<br>\"\n",
    "        \"Population = %{y:,}\"\n",
    "        \"<extra></extra>\"\n",
    "    )\n",
    ")\n",
    "\n",
    "fig.update_layout(\n",
    "    width=1200, height=600,\n",
    "    yaxis_title=\"Population\",\n",
    "    #this puts the legend on the bottom\n",
    "    legend=dict(\n",
    "        title=dict(text=\"\", side='top center'),  # legend title above items\n",
    "        orientation=\"h\",     # horizontal layout\n",
    "        yanchor=\"top\",\n",
    "        y=-0.3,              # push below chart\n",
    "        xanchor=\"center\",\n",
    "        x=0.5\n",
    "    ),\n",
    "    #centers the title\n",
    "    title=dict(\n",
    "        text=\"Predicted and Actual Population and Average Daily Vistors for Unincorporated Clark County 1950 to 1980\",\n",
    "        x=0.5,  # 0=left, 0.5=center, 1=right\n",
    "        xanchor=\"center\"\n",
    "    )\n",
    ")\n",
    "\n",
    "\n",
    "fig.show()\n",
    "#Population1950to1955"
   ]
  },
  {
   "cell_type": "markdown",
   "id": "76299fae",
   "metadata": {},
   "source": [
    "This predicts the overall trend much better between 1955 and 1975 for the Unincorporated Clark County data as it predicts 174,590 versus 158,037 observed which is within 10% and is considered a good prediction.  After 1975, however, it falls apart and grossly overpredicts population.  For the visitor volumes, however, it quickly deviates beyond 1960 and overestimates the data.\n",
    "<br><br><b>The final graph below shows the effects of planners and engineers periodically updating their estimates.  The final results are much better, but obviously not perfect. </b>"
   ]
  },
  {
   "cell_type": "code",
   "execution_count": 19,
   "id": "e0e1fdc4",
   "metadata": {},
   "outputs": [
    {
     "data": {
      "application/vnd.plotly.v1+json": {
       "config": {
        "plotlyServerURL": "https://plot.ly"
       },
       "data": [
        {
         "hovertemplate": "Area = %{fullData.name}<br>Year = %{x}<br>Population = %{y:,}<extra></extra>",
         "legendgroup": "Actual Unincorporated Clark County",
         "line": {
          "color": "#636efa",
          "dash": "solid"
         },
         "marker": {
          "symbol": "circle"
         },
         "mode": "lines",
         "name": "Actual Unincorporated Clark County",
         "orientation": "v",
         "showlegend": true,
         "type": "scatter",
         "x": {
          "bdata": "ngefB6AHoQeiB6MHpAelB6YHpweoB6kHqgerB6wHrQeuB68HsAexB7IHswe0B7UHtge3B7gHuQe6B7sHvAc=",
          "dtype": "i2"
         },
         "xaxis": "x",
         "y": {
          "bdata": "uicAAKktAACWMwAA5jkAABxAAADKRQAANk0AAPpSAACPWAAAL14AANVrAAB/ggAAppsAAHOzAAAbygAAwOAAALX5AAA1EgEAjCgBAORAAQBDXgEAyZABAMLKAQAFBAIA3zgCAFVpAgDalgIAiMcCAET8AgCDLAMAGWIDAA==",
          "dtype": "i4"
         },
         "yaxis": "y"
        },
        {
         "hovertemplate": "Area = %{fullData.name}<br>Year = %{x}<br>Population = %{y:,}<extra></extra>",
         "legendgroup": "Actual Average Daily Visitors",
         "line": {
          "color": "#EF553B",
          "dash": "solid"
         },
         "marker": {
          "symbol": "circle"
         },
         "mode": "lines",
         "name": "Actual Average Daily Visitors",
         "orientation": "v",
         "showlegend": true,
         "type": "scatter",
         "x": {
          "bdata": "ngefB6AHoQeiB6MHpAelB6YHpweoB6kHqgerB6wHrQeuB68HsAexB7IHswe0B7UHtge3B7gHuQe6B7sHvAc=",
          "dtype": "i2"
         },
         "xaxis": "x",
         "y": {
          "bdata": "6BdAGpgc8B5IIaAj+CVQKKgqAC1YL7AxCDRgNrg4EDtoPcA/GEJwRKRIyU7mVLJau1zwYURofWyhdyx9c38=",
          "dtype": "i2"
         },
         "yaxis": "y"
        },
        {
         "hovertemplate": "Area = %{fullData.name}<br>Year = %{x}<br>Population = %{y:,}<extra></extra>",
         "legendgroup": "Unincorporated Clark County (Rolling LinReg 5-yr)",
         "line": {
          "color": "#00cc96",
          "dash": "dash",
          "width": 3
         },
         "marker": {
          "symbol": "circle"
         },
         "mode": "lines",
         "name": "Unincorporated Clark County (Rolling LinReg 5-yr)",
         "orientation": "v",
         "showlegend": true,
         "type": "scatter",
         "x": {
          "bdata": "ngefB6AHoQeiB6MHpAelB6YHpweoB6kHqgerB6wHrQeuB68HsAexB7IHswe0B7UHtge3B7gHuQe6B7sHvAc=",
          "dtype": "i2"
         },
         "xaxis": "x",
         "y": {
          "bdata": "AAAAAAAA+H8AAAAAAAD4fwAAAAAAAPh/AAAAAAAA+H8AAAAAgP/PQAAAAADAfdFAAAAAAMAv00AAAAAAAMPUQAAAAACAPNZAAAAAAICk10AAAAAAACnaQAAAAAAA695AAAAAACCu4kAAAAAAICbmQAAAAABgU+lAAAAAAIAv7EAAAAAAgCDvQAAAAACAF/FAAAAAACCS8kAAAAAAsBD0QAAAAAAgvvVAAAAAAKBe+EAAAAAAAOX7QAAAAACA0f9AAAAAAHDLAUEAAAAA+GcDQQAAAABY1QRBAAAAAJBCBkEAAAAAwM8HQQAAAABwYAlBAAAAAJAHC0E=",
          "dtype": "f8"
         },
         "yaxis": "y"
        },
        {
         "hovertemplate": "Area = %{fullData.name}<br>Year = %{x}<br>Population = %{y:,}<extra></extra>",
         "legendgroup": "Average Daily Visitors (Rolling LinReg 5-yr)",
         "line": {
          "color": "#ab63fa",
          "dash": "dash",
          "width": 3
         },
         "marker": {
          "symbol": "circle"
         },
         "mode": "lines",
         "name": "Average Daily Visitors (Rolling LinReg 5-yr)",
         "orientation": "v",
         "showlegend": true,
         "type": "scatter",
         "x": {
          "bdata": "ngefB6AHoQeiB6MHpAelB6YHpweoB6kHqgerB6wHrQeuB68HsAexB7IHswe0B7UHtge3B7gHuQe6B7sHvAc=",
          "dtype": "i2"
         },
         "xaxis": "x",
         "y": {
          "bdata": "AAAAAAAA+H8AAAAAAAD4fwAAAAAAAPh/AAAAAAAA+H8AAAAAAKTAQAAAAAAA0MFAAAAAAAD8wkAAAAAAACjEQAAAAAAAVMVAAAAAAACAxkAAAAAAAKzHQAAAAAAA2MhAAAAAAAAEykAAAAAAADDLQAAAAAAAXMxAAAAAAACIzUAAAAAAALTOQAAAAAAA4M9AAAAAAACG0EAAAAAAABzRQAAAAACA+dFAAAAAAABR00AAAAAAwPDUQAAAAACAnNZAAAAAAICX10AAAAAAQI/YQAAAAABA09lAAAAAAMAP20AAAAAAwF7dQAAAAABARN9AAAAAAIAz4EA=",
          "dtype": "f8"
         },
         "yaxis": "y"
        }
       ],
       "layout": {
        "height": 600,
        "legend": {
         "orientation": "h",
         "title": {
          "side": "top center",
          "text": ""
         },
         "tracegroupgap": 0,
         "x": 0.5,
         "xanchor": "center",
         "y": -0.3,
         "yanchor": "top"
        },
        "template": {
         "data": {
          "bar": [
           {
            "error_x": {
             "color": "#2a3f5f"
            },
            "error_y": {
             "color": "#2a3f5f"
            },
            "marker": {
             "line": {
              "color": "#E5ECF6",
              "width": 0.5
             },
             "pattern": {
              "fillmode": "overlay",
              "size": 10,
              "solidity": 0.2
             }
            },
            "type": "bar"
           }
          ],
          "barpolar": [
           {
            "marker": {
             "line": {
              "color": "#E5ECF6",
              "width": 0.5
             },
             "pattern": {
              "fillmode": "overlay",
              "size": 10,
              "solidity": 0.2
             }
            },
            "type": "barpolar"
           }
          ],
          "carpet": [
           {
            "aaxis": {
             "endlinecolor": "#2a3f5f",
             "gridcolor": "white",
             "linecolor": "white",
             "minorgridcolor": "white",
             "startlinecolor": "#2a3f5f"
            },
            "baxis": {
             "endlinecolor": "#2a3f5f",
             "gridcolor": "white",
             "linecolor": "white",
             "minorgridcolor": "white",
             "startlinecolor": "#2a3f5f"
            },
            "type": "carpet"
           }
          ],
          "choropleth": [
           {
            "colorbar": {
             "outlinewidth": 0,
             "ticks": ""
            },
            "type": "choropleth"
           }
          ],
          "contour": [
           {
            "colorbar": {
             "outlinewidth": 0,
             "ticks": ""
            },
            "colorscale": [
             [
              0,
              "#0d0887"
             ],
             [
              0.1111111111111111,
              "#46039f"
             ],
             [
              0.2222222222222222,
              "#7201a8"
             ],
             [
              0.3333333333333333,
              "#9c179e"
             ],
             [
              0.4444444444444444,
              "#bd3786"
             ],
             [
              0.5555555555555556,
              "#d8576b"
             ],
             [
              0.6666666666666666,
              "#ed7953"
             ],
             [
              0.7777777777777778,
              "#fb9f3a"
             ],
             [
              0.8888888888888888,
              "#fdca26"
             ],
             [
              1,
              "#f0f921"
             ]
            ],
            "type": "contour"
           }
          ],
          "contourcarpet": [
           {
            "colorbar": {
             "outlinewidth": 0,
             "ticks": ""
            },
            "type": "contourcarpet"
           }
          ],
          "heatmap": [
           {
            "colorbar": {
             "outlinewidth": 0,
             "ticks": ""
            },
            "colorscale": [
             [
              0,
              "#0d0887"
             ],
             [
              0.1111111111111111,
              "#46039f"
             ],
             [
              0.2222222222222222,
              "#7201a8"
             ],
             [
              0.3333333333333333,
              "#9c179e"
             ],
             [
              0.4444444444444444,
              "#bd3786"
             ],
             [
              0.5555555555555556,
              "#d8576b"
             ],
             [
              0.6666666666666666,
              "#ed7953"
             ],
             [
              0.7777777777777778,
              "#fb9f3a"
             ],
             [
              0.8888888888888888,
              "#fdca26"
             ],
             [
              1,
              "#f0f921"
             ]
            ],
            "type": "heatmap"
           }
          ],
          "histogram": [
           {
            "marker": {
             "pattern": {
              "fillmode": "overlay",
              "size": 10,
              "solidity": 0.2
             }
            },
            "type": "histogram"
           }
          ],
          "histogram2d": [
           {
            "colorbar": {
             "outlinewidth": 0,
             "ticks": ""
            },
            "colorscale": [
             [
              0,
              "#0d0887"
             ],
             [
              0.1111111111111111,
              "#46039f"
             ],
             [
              0.2222222222222222,
              "#7201a8"
             ],
             [
              0.3333333333333333,
              "#9c179e"
             ],
             [
              0.4444444444444444,
              "#bd3786"
             ],
             [
              0.5555555555555556,
              "#d8576b"
             ],
             [
              0.6666666666666666,
              "#ed7953"
             ],
             [
              0.7777777777777778,
              "#fb9f3a"
             ],
             [
              0.8888888888888888,
              "#fdca26"
             ],
             [
              1,
              "#f0f921"
             ]
            ],
            "type": "histogram2d"
           }
          ],
          "histogram2dcontour": [
           {
            "colorbar": {
             "outlinewidth": 0,
             "ticks": ""
            },
            "colorscale": [
             [
              0,
              "#0d0887"
             ],
             [
              0.1111111111111111,
              "#46039f"
             ],
             [
              0.2222222222222222,
              "#7201a8"
             ],
             [
              0.3333333333333333,
              "#9c179e"
             ],
             [
              0.4444444444444444,
              "#bd3786"
             ],
             [
              0.5555555555555556,
              "#d8576b"
             ],
             [
              0.6666666666666666,
              "#ed7953"
             ],
             [
              0.7777777777777778,
              "#fb9f3a"
             ],
             [
              0.8888888888888888,
              "#fdca26"
             ],
             [
              1,
              "#f0f921"
             ]
            ],
            "type": "histogram2dcontour"
           }
          ],
          "mesh3d": [
           {
            "colorbar": {
             "outlinewidth": 0,
             "ticks": ""
            },
            "type": "mesh3d"
           }
          ],
          "parcoords": [
           {
            "line": {
             "colorbar": {
              "outlinewidth": 0,
              "ticks": ""
             }
            },
            "type": "parcoords"
           }
          ],
          "pie": [
           {
            "automargin": true,
            "type": "pie"
           }
          ],
          "scatter": [
           {
            "fillpattern": {
             "fillmode": "overlay",
             "size": 10,
             "solidity": 0.2
            },
            "type": "scatter"
           }
          ],
          "scatter3d": [
           {
            "line": {
             "colorbar": {
              "outlinewidth": 0,
              "ticks": ""
             }
            },
            "marker": {
             "colorbar": {
              "outlinewidth": 0,
              "ticks": ""
             }
            },
            "type": "scatter3d"
           }
          ],
          "scattercarpet": [
           {
            "marker": {
             "colorbar": {
              "outlinewidth": 0,
              "ticks": ""
             }
            },
            "type": "scattercarpet"
           }
          ],
          "scattergeo": [
           {
            "marker": {
             "colorbar": {
              "outlinewidth": 0,
              "ticks": ""
             }
            },
            "type": "scattergeo"
           }
          ],
          "scattergl": [
           {
            "marker": {
             "colorbar": {
              "outlinewidth": 0,
              "ticks": ""
             }
            },
            "type": "scattergl"
           }
          ],
          "scattermap": [
           {
            "marker": {
             "colorbar": {
              "outlinewidth": 0,
              "ticks": ""
             }
            },
            "type": "scattermap"
           }
          ],
          "scattermapbox": [
           {
            "marker": {
             "colorbar": {
              "outlinewidth": 0,
              "ticks": ""
             }
            },
            "type": "scattermapbox"
           }
          ],
          "scatterpolar": [
           {
            "marker": {
             "colorbar": {
              "outlinewidth": 0,
              "ticks": ""
             }
            },
            "type": "scatterpolar"
           }
          ],
          "scatterpolargl": [
           {
            "marker": {
             "colorbar": {
              "outlinewidth": 0,
              "ticks": ""
             }
            },
            "type": "scatterpolargl"
           }
          ],
          "scatterternary": [
           {
            "marker": {
             "colorbar": {
              "outlinewidth": 0,
              "ticks": ""
             }
            },
            "type": "scatterternary"
           }
          ],
          "surface": [
           {
            "colorbar": {
             "outlinewidth": 0,
             "ticks": ""
            },
            "colorscale": [
             [
              0,
              "#0d0887"
             ],
             [
              0.1111111111111111,
              "#46039f"
             ],
             [
              0.2222222222222222,
              "#7201a8"
             ],
             [
              0.3333333333333333,
              "#9c179e"
             ],
             [
              0.4444444444444444,
              "#bd3786"
             ],
             [
              0.5555555555555556,
              "#d8576b"
             ],
             [
              0.6666666666666666,
              "#ed7953"
             ],
             [
              0.7777777777777778,
              "#fb9f3a"
             ],
             [
              0.8888888888888888,
              "#fdca26"
             ],
             [
              1,
              "#f0f921"
             ]
            ],
            "type": "surface"
           }
          ],
          "table": [
           {
            "cells": {
             "fill": {
              "color": "#EBF0F8"
             },
             "line": {
              "color": "white"
             }
            },
            "header": {
             "fill": {
              "color": "#C8D4E3"
             },
             "line": {
              "color": "white"
             }
            },
            "type": "table"
           }
          ]
         },
         "layout": {
          "annotationdefaults": {
           "arrowcolor": "#2a3f5f",
           "arrowhead": 0,
           "arrowwidth": 1
          },
          "autotypenumbers": "strict",
          "coloraxis": {
           "colorbar": {
            "outlinewidth": 0,
            "ticks": ""
           }
          },
          "colorscale": {
           "diverging": [
            [
             0,
             "#8e0152"
            ],
            [
             0.1,
             "#c51b7d"
            ],
            [
             0.2,
             "#de77ae"
            ],
            [
             0.3,
             "#f1b6da"
            ],
            [
             0.4,
             "#fde0ef"
            ],
            [
             0.5,
             "#f7f7f7"
            ],
            [
             0.6,
             "#e6f5d0"
            ],
            [
             0.7,
             "#b8e186"
            ],
            [
             0.8,
             "#7fbc41"
            ],
            [
             0.9,
             "#4d9221"
            ],
            [
             1,
             "#276419"
            ]
           ],
           "sequential": [
            [
             0,
             "#0d0887"
            ],
            [
             0.1111111111111111,
             "#46039f"
            ],
            [
             0.2222222222222222,
             "#7201a8"
            ],
            [
             0.3333333333333333,
             "#9c179e"
            ],
            [
             0.4444444444444444,
             "#bd3786"
            ],
            [
             0.5555555555555556,
             "#d8576b"
            ],
            [
             0.6666666666666666,
             "#ed7953"
            ],
            [
             0.7777777777777778,
             "#fb9f3a"
            ],
            [
             0.8888888888888888,
             "#fdca26"
            ],
            [
             1,
             "#f0f921"
            ]
           ],
           "sequentialminus": [
            [
             0,
             "#0d0887"
            ],
            [
             0.1111111111111111,
             "#46039f"
            ],
            [
             0.2222222222222222,
             "#7201a8"
            ],
            [
             0.3333333333333333,
             "#9c179e"
            ],
            [
             0.4444444444444444,
             "#bd3786"
            ],
            [
             0.5555555555555556,
             "#d8576b"
            ],
            [
             0.6666666666666666,
             "#ed7953"
            ],
            [
             0.7777777777777778,
             "#fb9f3a"
            ],
            [
             0.8888888888888888,
             "#fdca26"
            ],
            [
             1,
             "#f0f921"
            ]
           ]
          },
          "colorway": [
           "#636efa",
           "#EF553B",
           "#00cc96",
           "#ab63fa",
           "#FFA15A",
           "#19d3f3",
           "#FF6692",
           "#B6E880",
           "#FF97FF",
           "#FECB52"
          ],
          "font": {
           "color": "#2a3f5f"
          },
          "geo": {
           "bgcolor": "white",
           "lakecolor": "white",
           "landcolor": "#E5ECF6",
           "showlakes": true,
           "showland": true,
           "subunitcolor": "white"
          },
          "hoverlabel": {
           "align": "left"
          },
          "hovermode": "closest",
          "mapbox": {
           "style": "light"
          },
          "paper_bgcolor": "white",
          "plot_bgcolor": "#E5ECF6",
          "polar": {
           "angularaxis": {
            "gridcolor": "white",
            "linecolor": "white",
            "ticks": ""
           },
           "bgcolor": "#E5ECF6",
           "radialaxis": {
            "gridcolor": "white",
            "linecolor": "white",
            "ticks": ""
           }
          },
          "scene": {
           "xaxis": {
            "backgroundcolor": "#E5ECF6",
            "gridcolor": "white",
            "gridwidth": 2,
            "linecolor": "white",
            "showbackground": true,
            "ticks": "",
            "zerolinecolor": "white"
           },
           "yaxis": {
            "backgroundcolor": "#E5ECF6",
            "gridcolor": "white",
            "gridwidth": 2,
            "linecolor": "white",
            "showbackground": true,
            "ticks": "",
            "zerolinecolor": "white"
           },
           "zaxis": {
            "backgroundcolor": "#E5ECF6",
            "gridcolor": "white",
            "gridwidth": 2,
            "linecolor": "white",
            "showbackground": true,
            "ticks": "",
            "zerolinecolor": "white"
           }
          },
          "shapedefaults": {
           "line": {
            "color": "#2a3f5f"
           }
          },
          "ternary": {
           "aaxis": {
            "gridcolor": "white",
            "linecolor": "white",
            "ticks": ""
           },
           "baxis": {
            "gridcolor": "white",
            "linecolor": "white",
            "ticks": ""
           },
           "bgcolor": "#E5ECF6",
           "caxis": {
            "gridcolor": "white",
            "linecolor": "white",
            "ticks": ""
           }
          },
          "title": {
           "x": 0.05
          },
          "xaxis": {
           "automargin": true,
           "gridcolor": "white",
           "linecolor": "white",
           "ticks": "",
           "title": {
            "standoff": 15
           },
           "zerolinecolor": "white",
           "zerolinewidth": 2
          },
          "yaxis": {
           "automargin": true,
           "gridcolor": "white",
           "linecolor": "white",
           "ticks": "",
           "title": {
            "standoff": 15
           },
           "zerolinecolor": "white",
           "zerolinewidth": 2
          }
         }
        },
        "title": {
         "text": "Actual vs Rolling Linear Regression (1950–1980)",
         "x": 0.5,
         "xanchor": "center"
        },
        "width": 1200,
        "xaxis": {
         "anchor": "y",
         "domain": [
          0,
          1
         ],
         "title": {
          "text": "Year"
         }
        },
        "yaxis": {
         "anchor": "x",
         "domain": [
          0,
          1
         ],
         "title": {
          "text": "Population"
         }
        }
       }
      }
     },
     "metadata": {},
     "output_type": "display_data"
    }
   ],
   "source": [
    "import numpy as np\n",
    "import pandas as pd\n",
    "import statsmodels.api as sm\n",
    "from statsmodels.regression.rolling import RollingOLS\n",
    "\n",
    "def rolling_linreg_end_pred(df, ycol, window):\n",
    "    # Design matrix and target\n",
    "    X_full = sm.add_constant(df[\"Year\"].to_numpy(dtype=float))\n",
    "    y_full = pd.to_numeric(df[ycol], errors=\"coerce\").to_numpy(dtype=float)\n",
    "\n",
    "    # Keep only rows with finite y (and finite X)\n",
    "    mask = np.isfinite(y_full) & np.isfinite(X_full).all(axis=1)\n",
    "    X = X_full[mask]\n",
    "    y = y_full[mask]\n",
    "\n",
    "    pred_full = np.full(df.shape[0], np.nan, dtype=float)\n",
    "    if X.shape[0] < window:\n",
    "        return pd.Series(pred_full, index=df.index)\n",
    "\n",
    "    res = RollingOLS(y, X, window=window).fit()\n",
    "\n",
    "    # 1) Prefer fittedvalues if available (end-of-window fit)\n",
    "    pred_subset = getattr(res, \"fittedvalues\", None)\n",
    "\n",
    "    if pred_subset is None:\n",
    "        # 2) Compute from rolling params (intercept + slope * x_t)\n",
    "        params = res.params\n",
    "        if isinstance(params, pd.DataFrame):\n",
    "            b0 = (params[\"const\"] if \"const\" in params else params.iloc[:, 0]).to_numpy()\n",
    "            b1 = (params[\"Year\"]  if \"Year\"  in params else params.iloc[:, 1]).to_numpy()\n",
    "        else:\n",
    "            P = np.asarray(params)\n",
    "            # Try shapes (n_obs, k) or (k, n_obs)\n",
    "            if P.ndim == 2 and P.shape[1] == X.shape[1]:\n",
    "                b0, b1 = P[:, 0], P[:, 1]\n",
    "            elif P.ndim == 2 and P.shape[0] == X.shape[1]:\n",
    "                b0, b1 = P[0, :], P[1, :]\n",
    "            else:\n",
    "                # last resort: y - resid\n",
    "                pred_subset = y - res.resid\n",
    "\n",
    "        if pred_subset is None:\n",
    "            pred_subset = b0 + b1 * X[:, 1]\n",
    "\n",
    "    # Re-embed into full index\n",
    "    pred_full[np.where(mask)[0]] = np.asarray(pred_subset).reshape(-1)\n",
    "    return pd.Series(pred_full, index=df.index)\n",
    "\n",
    "\n",
    "# ---- choose window (years) ----\n",
    "w = 5  # change to 2/3/etc. if you want a shorter window\n",
    "\n",
    "# ---- compute rolling linear-reg predictions ----\n",
    "col_uninc = 'Actual Unincorporated Clark County'\n",
    "col_visit = 'Actual Average Daily Visitors'\n",
    "\n",
    "rlr_name_uninc = f'Unincorporated Clark County (Rolling LinReg {w}-yr)'\n",
    "rlr_name_visit = f'Average Daily Visitors (Rolling LinReg {w}-yr)'\n",
    "\n",
    "Population1950to1980_Merged[rlr_name_uninc] = rolling_linreg_end_pred(\n",
    "    Population1950to1980_Merged, col_uninc, window=w\n",
    ")\n",
    "Population1950to1980_Merged[rlr_name_visit] = rolling_linreg_end_pred(\n",
    "    Population1950to1980_Merged, col_visit, window=w\n",
    ")\n",
    "\n",
    "# (Optional) make them integers for display/storage\n",
    "Population1950to1980_Merged[rlr_name_uninc] = (\n",
    "    Population1950to1980_Merged[rlr_name_uninc].round().astype(\"Int64\")\n",
    ")\n",
    "Population1950to1980_Merged[rlr_name_visit] = (\n",
    "    Population1950to1980_Merged[rlr_name_visit].round().astype(\"Int64\")\n",
    ")\n",
    "\n",
    "# ---- melt to long for plotting ----\n",
    "df_long = Population1950to1980_Merged.melt(\n",
    "    id_vars='Year', \n",
    "    value_vars=[\n",
    "        'Actual Unincorporated Clark County',\n",
    "        'Actual Average Daily Visitors',\n",
    "        rlr_name_uninc,\n",
    "        rlr_name_visit\n",
    "    ],\n",
    "    var_name='Area', value_name='Population'\n",
    ")\n",
    "\n",
    "# ---- plot ----\n",
    "fig = px.line(\n",
    "    df_long,\n",
    "    x='Year', y='Population', color=\"Area\",\n",
    "    title=\"Actual vs Rolling Linear Regression (Unincorporated Clark County & Average Daily Visitors, 1950–1980)\",\n",
    "    labels={'Population': \"Population\"}\n",
    ")\n",
    "\n",
    "fig.update_traces(\n",
    "    hovertemplate=\"Area = %{fullData.name}<br>Year = %{x}<br>Population = %{y:,}<extra></extra>\"\n",
    ")\n",
    "\n",
    "fig.update_layout(\n",
    "    width=1200, height=600,\n",
    "    yaxis_title=\"Population\",\n",
    "    legend=dict(\n",
    "        title=dict(text=\"\", side='top center'),\n",
    "        orientation=\"h\", yanchor=\"top\", y=-0.3, xanchor=\"center\", x=0.5\n",
    "    ),\n",
    "    title=dict(text=\"Actual vs Rolling Linear Regression (1950–1980)\", x=0.5, xanchor=\"center\")\n",
    ")\n",
    "\n",
    "# Style the rolling-regression lines as dashed & thicker\n",
    "fig.update_traces(selector=dict(name=rlr_name_uninc), line=dict(dash=\"dash\", width=3))\n",
    "fig.update_traces(selector=dict(name=rlr_name_visit), line=dict(dash=\"dash\", width=3))\n",
    "\n",
    "fig.show()\n"
   ]
  }
 ],
 "metadata": {
  "kernelspec": {
   "display_name": ".venv",
   "language": "python",
   "name": "python3"
  },
  "language_info": {
   "codemirror_mode": {
    "name": "ipython",
    "version": 3
   },
   "file_extension": ".py",
   "mimetype": "text/x-python",
   "name": "python",
   "nbconvert_exporter": "python",
   "pygments_lexer": "ipython3",
   "version": "3.12.10"
  }
 },
 "nbformat": 4,
 "nbformat_minor": 5
}
