{
 "cells": [
  {
   "cell_type": "code",
   "execution_count": 99,
   "id": "67919b0e",
   "metadata": {},
   "outputs": [],
   "source": [
    "import pandas as pd\n",
    "import plotly.express as px\n",
    "pd.plotting.register_matplotlib_converters()\n",
    "import matplotlib.pyplot as plt\n",
    "%matplotlib inline\n",
    "import seaborn as sns\n",
    "import numpy as np\n",
    "import sklearn\n",
    "from sklearn.linear_model import LinearRegression\n",
    "from sklearn.model_selection import train_test_split\n",
    "from sklearn.metrics import mean_squared_error, r2_score\n",
    "import ipywidgets as widgets\n",
    "from IPython.display import display\n",
    "import ipywidgets as widgets\n",
    "from IPython.display import display, clear_output\n",
    "import plotly.graph_objects as go\n",
    "import numpy as np\n",
    "import pandas as pd\n",
    "import statsmodels.api as sm\n",
    "from statsmodels.regression.rolling import RollingOLS\n",
    "import os\n",
    "import io\n",
    "import time\n",
    "import ipywidgets as widgets\n",
    "from IPython.display import display, clear_output, HTML\n",
    "from PIL import Image as PILImage\n",
    "import pandas as pd\n"
   ]
  },
  {
   "cell_type": "code",
   "execution_count": 100,
   "id": "533e2bfc",
   "metadata": {},
   "outputs": [
    {
     "data": {
      "application/vnd.jupyter.widget-view+json": {
       "model_id": "7044883bbaba482b9d11460612cff8a2",
       "version_major": 2,
       "version_minor": 0
      },
      "text/plain": [
       "HBox(children=(Label(value='', layout=Layout(width='0px')), Audio(value=b'RIFF$0u\\x00WAVEfmt \\x10\\x00\\x00\\x00\\…"
      ]
     },
     "metadata": {},
     "output_type": "display_data"
    }
   ],
   "source": [
    "# Load the audio file\n",
    "audio = widgets.Audio.from_file(\"casino_loop_snes.wav\")\n",
    "audio.loop = True\n",
    "audio.autoplay = False   # browsers usually block autoplay until first click\n",
    "audio.layout = widgets.Layout(width=\"200px\")  # shrink the player bar\n",
    "\n",
    "# Label + audio side by side\n",
    "box = widgets.HBox([\n",
    "    widgets.Label(\"\", layout=widgets.Layout(width=\"0px\")),\n",
    "    audio\n",
    "])\n",
    "\n",
    "display(box)\n",
    "#src = Path(\"Soundtrack\\loop_1min.wav\")"
   ]
  },
  {
   "cell_type": "markdown",
   "id": "49ca3c55",
   "metadata": {},
   "source": [
    "<br><center>[Return to Introduction](./01_Introduction.ipynb)</center>"
   ]
  },
  {
   "cell_type": "markdown",
   "id": "70d3a52e",
   "metadata": {},
   "source": [
    "<h1>Planning</h1>\n",
    "The first step in any big endeavor like this is to plan just how large of facilities are required.  To do this, engineers and planners first have to estimate the amount of wastewater that will enter a sewer collections system and wastewater treatment plant. <b>This is a critical step as we do not want either too large or too small of facilities.</b>\n",
    "<br>To figure out how much flow is entering our facility we will figure out the population of our service area and project it from 1955 to 1980.  As you will soon see, population directly translates to wastewater flows.  We are lucky in that we have recent data from 1950 to 1955 that we can use for Unicorporated Clark County and the other local areas, as well as room and visitor information.<br><b>In Engineering and Planning please note that daily visitors to an area are considered additional population.</b>\n"
   ]
  },
  {
   "cell_type": "code",
   "execution_count": 101,
   "id": "b0e2f93c",
   "metadata": {},
   "outputs": [
    {
     "data": {
      "text/html": [
       "<div>\n",
       "<style scoped>\n",
       "    .dataframe tbody tr th:only-of-type {\n",
       "        vertical-align: middle;\n",
       "    }\n",
       "\n",
       "    .dataframe tbody tr th {\n",
       "        vertical-align: top;\n",
       "    }\n",
       "\n",
       "    .dataframe thead th {\n",
       "        text-align: right;\n",
       "    }\n",
       "</style>\n",
       "<table border=\"1\" class=\"dataframe\">\n",
       "  <thead>\n",
       "    <tr style=\"text-align: right;\">\n",
       "      <th></th>\n",
       "      <th>Year</th>\n",
       "      <th>Clark County</th>\n",
       "      <th>Las Vegas</th>\n",
       "      <th>Henderson</th>\n",
       "      <th>North Las Vegas</th>\n",
       "      <th>Boulder City</th>\n",
       "      <th>Unincorporated Clark County</th>\n",
       "      <th>Annual Estimated Visitor Volume</th>\n",
       "      <th>Average Daily Visitors</th>\n",
       "      <th>Room Inventory</th>\n",
       "    </tr>\n",
       "  </thead>\n",
       "  <tbody>\n",
       "    <tr>\n",
       "      <th>0</th>\n",
       "      <td>1950</td>\n",
       "      <td>48289</td>\n",
       "      <td>24624</td>\n",
       "      <td>5717</td>\n",
       "      <td>3875</td>\n",
       "      <td>3903</td>\n",
       "      <td>10170</td>\n",
       "      <td>2233800</td>\n",
       "      <td>6120</td>\n",
       "      <td>5100</td>\n",
       "    </tr>\n",
       "    <tr>\n",
       "      <th>1</th>\n",
       "      <td>1951</td>\n",
       "      <td>56600</td>\n",
       "      <td>28675</td>\n",
       "      <td>6243</td>\n",
       "      <td>5312</td>\n",
       "      <td>3920</td>\n",
       "      <td>11689</td>\n",
       "      <td>2452800</td>\n",
       "      <td>6720</td>\n",
       "      <td>5600</td>\n",
       "    </tr>\n",
       "    <tr>\n",
       "      <th>2</th>\n",
       "      <td>1952</td>\n",
       "      <td>64777</td>\n",
       "      <td>32824</td>\n",
       "      <td>7040</td>\n",
       "      <td>6775</td>\n",
       "      <td>3932</td>\n",
       "      <td>13206</td>\n",
       "      <td>2671800</td>\n",
       "      <td>7320</td>\n",
       "      <td>6100</td>\n",
       "    </tr>\n",
       "    <tr>\n",
       "      <th>3</th>\n",
       "      <td>1953</td>\n",
       "      <td>74062</td>\n",
       "      <td>36719</td>\n",
       "      <td>7565</td>\n",
       "      <td>8291</td>\n",
       "      <td>3947</td>\n",
       "      <td>14822</td>\n",
       "      <td>2890800</td>\n",
       "      <td>7920</td>\n",
       "      <td>6600</td>\n",
       "    </tr>\n",
       "    <tr>\n",
       "      <th>4</th>\n",
       "      <td>1954</td>\n",
       "      <td>82216</td>\n",
       "      <td>40442</td>\n",
       "      <td>8197</td>\n",
       "      <td>9612</td>\n",
       "      <td>3965</td>\n",
       "      <td>16412</td>\n",
       "      <td>3109800</td>\n",
       "      <td>8520</td>\n",
       "      <td>7100</td>\n",
       "    </tr>\n",
       "    <tr>\n",
       "      <th>5</th>\n",
       "      <td>1955</td>\n",
       "      <td>89863</td>\n",
       "      <td>44328</td>\n",
       "      <td>8728</td>\n",
       "      <td>11055</td>\n",
       "      <td>3977</td>\n",
       "      <td>17866</td>\n",
       "      <td>3328800</td>\n",
       "      <td>9120</td>\n",
       "      <td>7600</td>\n",
       "    </tr>\n",
       "  </tbody>\n",
       "</table>\n",
       "</div>"
      ],
      "text/plain": [
       "   Year  Clark County  Las Vegas  Henderson  North Las Vegas  Boulder City  \\\n",
       "0  1950         48289      24624       5717             3875          3903   \n",
       "1  1951         56600      28675       6243             5312          3920   \n",
       "2  1952         64777      32824       7040             6775          3932   \n",
       "3  1953         74062      36719       7565             8291          3947   \n",
       "4  1954         82216      40442       8197             9612          3965   \n",
       "5  1955         89863      44328       8728            11055          3977   \n",
       "\n",
       "   Unincorporated Clark County  Annual Estimated Visitor Volume  \\\n",
       "0                        10170                          2233800   \n",
       "1                        11689                          2452800   \n",
       "2                        13206                          2671800   \n",
       "3                        14822                          2890800   \n",
       "4                        16412                          3109800   \n",
       "5                        17866                          3328800   \n",
       "\n",
       "   Average Daily Visitors  Room Inventory  \n",
       "0                    6120            5100  \n",
       "1                    6720            5600  \n",
       "2                    7320            6100  \n",
       "3                    7920            6600  \n",
       "4                    8520            7100  \n",
       "5                    9120            7600  "
      ]
     },
     "metadata": {},
     "output_type": "display_data"
    }
   ],
   "source": [
    "# Step 1: Read Excel with Year as a normal column\n",
    "Population1950to1955 = pd.read_csv('Population Data - 1950 to 1955.csv')\n",
    "\n",
    "# Step 2: Apply comma formatting (but skip Year)\n",
    "#Population1950to1955_formatted = Population1950to1955.copy()\n",
    "'''for col in Population1950to1955_formatted.columns:\n",
    "    if col != \"Year\":\n",
    "        Population1950to1955_formatted[col] = Population1950to1955_formatted[col].apply(\n",
    "            lambda x: f\"{x:,}\" if isinstance(x, (int, float)) else x\n",
    "        )\n",
    "\n",
    "# Step 3: Style for display\n",
    "styled = (\n",
    "    Population1950to1955_formatted\n",
    "    .style.hide(axis=\"index\")   # no index column\n",
    "    .set_properties(\n",
    "        subset=Population1950to1955_formatted.columns[1:],  # center all except Year\n",
    "        **{\"text-align\": \"center\"}\n",
    "    )\n",
    ")\n",
    "\n",
    "#display(styled)'''\n",
    "display(Population1950to1955)\n",
    "Population1950to1955 = Population1950to1955.set_index('Year')\n",
    "#print(Population1950to1955.dtypes)\n"
   ]
  },
  {
   "cell_type": "markdown",
   "id": "87fd580e",
   "metadata": {},
   "source": [
    "<h3>Time to Figure out Unincorporated Clark County Population Growth to 1980!</h3>\n",
    "In graphical form our data looks like this for just Unincorporated Clark County without including an visitor information."
   ]
  },
  {
   "cell_type": "code",
   "execution_count": 102,
   "id": "a0a01d3f",
   "metadata": {},
   "outputs": [
    {
     "data": {
      "application/vnd.plotly.v1+json": {
       "config": {
        "plotlyServerURL": "https://plot.ly"
       },
       "data": [
        {
         "hovertemplate": "Area = %{fullData.name}<br>Year = %{x}<br>Population = %{y:,}<extra></extra>",
         "legendgroup": "Unincorporated Clark County",
         "line": {
          "color": "#636efa",
          "dash": "solid"
         },
         "marker": {
          "symbol": "circle"
         },
         "mode": "lines",
         "name": "Unincorporated Clark County",
         "orientation": "v",
         "showlegend": true,
         "type": "scatter",
         "x": {
          "bdata": "ngefB6AHoQeiB6MH",
          "dtype": "i2"
         },
         "xaxis": "x",
         "y": {
          "bdata": "uiepLZYz5jkcQMpF",
          "dtype": "i2"
         },
         "yaxis": "y"
        }
       ],
       "layout": {
        "height": 600,
        "legend": {
         "orientation": "h",
         "title": {
          "side": "top center",
          "text": ""
         },
         "tracegroupgap": 0,
         "x": 0.5,
         "xanchor": "center",
         "y": -0.3,
         "yanchor": "top"
        },
        "template": {
         "data": {
          "bar": [
           {
            "error_x": {
             "color": "#2a3f5f"
            },
            "error_y": {
             "color": "#2a3f5f"
            },
            "marker": {
             "line": {
              "color": "#E5ECF6",
              "width": 0.5
             },
             "pattern": {
              "fillmode": "overlay",
              "size": 10,
              "solidity": 0.2
             }
            },
            "type": "bar"
           }
          ],
          "barpolar": [
           {
            "marker": {
             "line": {
              "color": "#E5ECF6",
              "width": 0.5
             },
             "pattern": {
              "fillmode": "overlay",
              "size": 10,
              "solidity": 0.2
             }
            },
            "type": "barpolar"
           }
          ],
          "carpet": [
           {
            "aaxis": {
             "endlinecolor": "#2a3f5f",
             "gridcolor": "white",
             "linecolor": "white",
             "minorgridcolor": "white",
             "startlinecolor": "#2a3f5f"
            },
            "baxis": {
             "endlinecolor": "#2a3f5f",
             "gridcolor": "white",
             "linecolor": "white",
             "minorgridcolor": "white",
             "startlinecolor": "#2a3f5f"
            },
            "type": "carpet"
           }
          ],
          "choropleth": [
           {
            "colorbar": {
             "outlinewidth": 0,
             "ticks": ""
            },
            "type": "choropleth"
           }
          ],
          "contour": [
           {
            "colorbar": {
             "outlinewidth": 0,
             "ticks": ""
            },
            "colorscale": [
             [
              0,
              "#0d0887"
             ],
             [
              0.1111111111111111,
              "#46039f"
             ],
             [
              0.2222222222222222,
              "#7201a8"
             ],
             [
              0.3333333333333333,
              "#9c179e"
             ],
             [
              0.4444444444444444,
              "#bd3786"
             ],
             [
              0.5555555555555556,
              "#d8576b"
             ],
             [
              0.6666666666666666,
              "#ed7953"
             ],
             [
              0.7777777777777778,
              "#fb9f3a"
             ],
             [
              0.8888888888888888,
              "#fdca26"
             ],
             [
              1,
              "#f0f921"
             ]
            ],
            "type": "contour"
           }
          ],
          "contourcarpet": [
           {
            "colorbar": {
             "outlinewidth": 0,
             "ticks": ""
            },
            "type": "contourcarpet"
           }
          ],
          "heatmap": [
           {
            "colorbar": {
             "outlinewidth": 0,
             "ticks": ""
            },
            "colorscale": [
             [
              0,
              "#0d0887"
             ],
             [
              0.1111111111111111,
              "#46039f"
             ],
             [
              0.2222222222222222,
              "#7201a8"
             ],
             [
              0.3333333333333333,
              "#9c179e"
             ],
             [
              0.4444444444444444,
              "#bd3786"
             ],
             [
              0.5555555555555556,
              "#d8576b"
             ],
             [
              0.6666666666666666,
              "#ed7953"
             ],
             [
              0.7777777777777778,
              "#fb9f3a"
             ],
             [
              0.8888888888888888,
              "#fdca26"
             ],
             [
              1,
              "#f0f921"
             ]
            ],
            "type": "heatmap"
           }
          ],
          "histogram": [
           {
            "marker": {
             "pattern": {
              "fillmode": "overlay",
              "size": 10,
              "solidity": 0.2
             }
            },
            "type": "histogram"
           }
          ],
          "histogram2d": [
           {
            "colorbar": {
             "outlinewidth": 0,
             "ticks": ""
            },
            "colorscale": [
             [
              0,
              "#0d0887"
             ],
             [
              0.1111111111111111,
              "#46039f"
             ],
             [
              0.2222222222222222,
              "#7201a8"
             ],
             [
              0.3333333333333333,
              "#9c179e"
             ],
             [
              0.4444444444444444,
              "#bd3786"
             ],
             [
              0.5555555555555556,
              "#d8576b"
             ],
             [
              0.6666666666666666,
              "#ed7953"
             ],
             [
              0.7777777777777778,
              "#fb9f3a"
             ],
             [
              0.8888888888888888,
              "#fdca26"
             ],
             [
              1,
              "#f0f921"
             ]
            ],
            "type": "histogram2d"
           }
          ],
          "histogram2dcontour": [
           {
            "colorbar": {
             "outlinewidth": 0,
             "ticks": ""
            },
            "colorscale": [
             [
              0,
              "#0d0887"
             ],
             [
              0.1111111111111111,
              "#46039f"
             ],
             [
              0.2222222222222222,
              "#7201a8"
             ],
             [
              0.3333333333333333,
              "#9c179e"
             ],
             [
              0.4444444444444444,
              "#bd3786"
             ],
             [
              0.5555555555555556,
              "#d8576b"
             ],
             [
              0.6666666666666666,
              "#ed7953"
             ],
             [
              0.7777777777777778,
              "#fb9f3a"
             ],
             [
              0.8888888888888888,
              "#fdca26"
             ],
             [
              1,
              "#f0f921"
             ]
            ],
            "type": "histogram2dcontour"
           }
          ],
          "mesh3d": [
           {
            "colorbar": {
             "outlinewidth": 0,
             "ticks": ""
            },
            "type": "mesh3d"
           }
          ],
          "parcoords": [
           {
            "line": {
             "colorbar": {
              "outlinewidth": 0,
              "ticks": ""
             }
            },
            "type": "parcoords"
           }
          ],
          "pie": [
           {
            "automargin": true,
            "type": "pie"
           }
          ],
          "scatter": [
           {
            "fillpattern": {
             "fillmode": "overlay",
             "size": 10,
             "solidity": 0.2
            },
            "type": "scatter"
           }
          ],
          "scatter3d": [
           {
            "line": {
             "colorbar": {
              "outlinewidth": 0,
              "ticks": ""
             }
            },
            "marker": {
             "colorbar": {
              "outlinewidth": 0,
              "ticks": ""
             }
            },
            "type": "scatter3d"
           }
          ],
          "scattercarpet": [
           {
            "marker": {
             "colorbar": {
              "outlinewidth": 0,
              "ticks": ""
             }
            },
            "type": "scattercarpet"
           }
          ],
          "scattergeo": [
           {
            "marker": {
             "colorbar": {
              "outlinewidth": 0,
              "ticks": ""
             }
            },
            "type": "scattergeo"
           }
          ],
          "scattergl": [
           {
            "marker": {
             "colorbar": {
              "outlinewidth": 0,
              "ticks": ""
             }
            },
            "type": "scattergl"
           }
          ],
          "scattermap": [
           {
            "marker": {
             "colorbar": {
              "outlinewidth": 0,
              "ticks": ""
             }
            },
            "type": "scattermap"
           }
          ],
          "scattermapbox": [
           {
            "marker": {
             "colorbar": {
              "outlinewidth": 0,
              "ticks": ""
             }
            },
            "type": "scattermapbox"
           }
          ],
          "scatterpolar": [
           {
            "marker": {
             "colorbar": {
              "outlinewidth": 0,
              "ticks": ""
             }
            },
            "type": "scatterpolar"
           }
          ],
          "scatterpolargl": [
           {
            "marker": {
             "colorbar": {
              "outlinewidth": 0,
              "ticks": ""
             }
            },
            "type": "scatterpolargl"
           }
          ],
          "scatterternary": [
           {
            "marker": {
             "colorbar": {
              "outlinewidth": 0,
              "ticks": ""
             }
            },
            "type": "scatterternary"
           }
          ],
          "surface": [
           {
            "colorbar": {
             "outlinewidth": 0,
             "ticks": ""
            },
            "colorscale": [
             [
              0,
              "#0d0887"
             ],
             [
              0.1111111111111111,
              "#46039f"
             ],
             [
              0.2222222222222222,
              "#7201a8"
             ],
             [
              0.3333333333333333,
              "#9c179e"
             ],
             [
              0.4444444444444444,
              "#bd3786"
             ],
             [
              0.5555555555555556,
              "#d8576b"
             ],
             [
              0.6666666666666666,
              "#ed7953"
             ],
             [
              0.7777777777777778,
              "#fb9f3a"
             ],
             [
              0.8888888888888888,
              "#fdca26"
             ],
             [
              1,
              "#f0f921"
             ]
            ],
            "type": "surface"
           }
          ],
          "table": [
           {
            "cells": {
             "fill": {
              "color": "#EBF0F8"
             },
             "line": {
              "color": "white"
             }
            },
            "header": {
             "fill": {
              "color": "#C8D4E3"
             },
             "line": {
              "color": "white"
             }
            },
            "type": "table"
           }
          ]
         },
         "layout": {
          "annotationdefaults": {
           "arrowcolor": "#2a3f5f",
           "arrowhead": 0,
           "arrowwidth": 1
          },
          "autotypenumbers": "strict",
          "coloraxis": {
           "colorbar": {
            "outlinewidth": 0,
            "ticks": ""
           }
          },
          "colorscale": {
           "diverging": [
            [
             0,
             "#8e0152"
            ],
            [
             0.1,
             "#c51b7d"
            ],
            [
             0.2,
             "#de77ae"
            ],
            [
             0.3,
             "#f1b6da"
            ],
            [
             0.4,
             "#fde0ef"
            ],
            [
             0.5,
             "#f7f7f7"
            ],
            [
             0.6,
             "#e6f5d0"
            ],
            [
             0.7,
             "#b8e186"
            ],
            [
             0.8,
             "#7fbc41"
            ],
            [
             0.9,
             "#4d9221"
            ],
            [
             1,
             "#276419"
            ]
           ],
           "sequential": [
            [
             0,
             "#0d0887"
            ],
            [
             0.1111111111111111,
             "#46039f"
            ],
            [
             0.2222222222222222,
             "#7201a8"
            ],
            [
             0.3333333333333333,
             "#9c179e"
            ],
            [
             0.4444444444444444,
             "#bd3786"
            ],
            [
             0.5555555555555556,
             "#d8576b"
            ],
            [
             0.6666666666666666,
             "#ed7953"
            ],
            [
             0.7777777777777778,
             "#fb9f3a"
            ],
            [
             0.8888888888888888,
             "#fdca26"
            ],
            [
             1,
             "#f0f921"
            ]
           ],
           "sequentialminus": [
            [
             0,
             "#0d0887"
            ],
            [
             0.1111111111111111,
             "#46039f"
            ],
            [
             0.2222222222222222,
             "#7201a8"
            ],
            [
             0.3333333333333333,
             "#9c179e"
            ],
            [
             0.4444444444444444,
             "#bd3786"
            ],
            [
             0.5555555555555556,
             "#d8576b"
            ],
            [
             0.6666666666666666,
             "#ed7953"
            ],
            [
             0.7777777777777778,
             "#fb9f3a"
            ],
            [
             0.8888888888888888,
             "#fdca26"
            ],
            [
             1,
             "#f0f921"
            ]
           ]
          },
          "colorway": [
           "#636efa",
           "#EF553B",
           "#00cc96",
           "#ab63fa",
           "#FFA15A",
           "#19d3f3",
           "#FF6692",
           "#B6E880",
           "#FF97FF",
           "#FECB52"
          ],
          "font": {
           "color": "#2a3f5f"
          },
          "geo": {
           "bgcolor": "white",
           "lakecolor": "white",
           "landcolor": "#E5ECF6",
           "showlakes": true,
           "showland": true,
           "subunitcolor": "white"
          },
          "hoverlabel": {
           "align": "left"
          },
          "hovermode": "closest",
          "mapbox": {
           "style": "light"
          },
          "paper_bgcolor": "white",
          "plot_bgcolor": "#E5ECF6",
          "polar": {
           "angularaxis": {
            "gridcolor": "white",
            "linecolor": "white",
            "ticks": ""
           },
           "bgcolor": "#E5ECF6",
           "radialaxis": {
            "gridcolor": "white",
            "linecolor": "white",
            "ticks": ""
           }
          },
          "scene": {
           "xaxis": {
            "backgroundcolor": "#E5ECF6",
            "gridcolor": "white",
            "gridwidth": 2,
            "linecolor": "white",
            "showbackground": true,
            "ticks": "",
            "zerolinecolor": "white"
           },
           "yaxis": {
            "backgroundcolor": "#E5ECF6",
            "gridcolor": "white",
            "gridwidth": 2,
            "linecolor": "white",
            "showbackground": true,
            "ticks": "",
            "zerolinecolor": "white"
           },
           "zaxis": {
            "backgroundcolor": "#E5ECF6",
            "gridcolor": "white",
            "gridwidth": 2,
            "linecolor": "white",
            "showbackground": true,
            "ticks": "",
            "zerolinecolor": "white"
           }
          },
          "shapedefaults": {
           "line": {
            "color": "#2a3f5f"
           }
          },
          "ternary": {
           "aaxis": {
            "gridcolor": "white",
            "linecolor": "white",
            "ticks": ""
           },
           "baxis": {
            "gridcolor": "white",
            "linecolor": "white",
            "ticks": ""
           },
           "bgcolor": "#E5ECF6",
           "caxis": {
            "gridcolor": "white",
            "linecolor": "white",
            "ticks": ""
           }
          },
          "title": {
           "x": 0.05
          },
          "xaxis": {
           "automargin": true,
           "gridcolor": "white",
           "linecolor": "white",
           "ticks": "",
           "title": {
            "standoff": 15
           },
           "zerolinecolor": "white",
           "zerolinewidth": 2
          },
          "yaxis": {
           "automargin": true,
           "gridcolor": "white",
           "linecolor": "white",
           "ticks": "",
           "title": {
            "standoff": 15
           },
           "zerolinecolor": "white",
           "zerolinewidth": 2
          }
         }
        },
        "title": {
         "text": "Population Data for Unincorporated Clark County 1950 to 1955",
         "x": 0.5,
         "xanchor": "center"
        },
        "width": 800,
        "xaxis": {
         "anchor": "y",
         "domain": [
          0,
          1
         ],
         "title": {
          "text": "Year"
         }
        },
        "yaxis": {
         "anchor": "x",
         "domain": [
          0,
          1
         ],
         "title": {
          "text": "Population"
         }
        }
       }
      }
     },
     "metadata": {},
     "output_type": "display_data"
    }
   ],
   "source": [
    "\n",
    "Population1950to1955 = Population1950to1955.reset_index()\n",
    "\n",
    "# Reshape wide → long for Plotly (all airlines in one column)\n",
    "df_long = Population1950to1955.melt(id_vars='Year', \n",
    "                           value_vars=['Unincorporated Clark County'], \n",
    "                           var_name='Area', value_name='Population')\n",
    "\n",
    "fig = px.line(\n",
    "    df_long,\n",
    "    x='Year', y='Population', color=\"Area\",\n",
    "    title=\"Population Data for Unincorporated Clark County 1950 to 1955\",\n",
    "    labels={'Population' : \"Population\"}\n",
    ")\n",
    "\n",
    "fig.update_traces(\n",
    "    hovertemplate=(\n",
    "        \"Area = %{fullData.name}<br>\"\n",
    "        \"Year = %{x}<br>\"\n",
    "        \"Population = %{y:,}\"\n",
    "        \"<extra></extra>\"\n",
    "    )\n",
    ")\n",
    "\n",
    "fig.update_layout(\n",
    "    width=800, height=600,\n",
    "    yaxis_title=\"Population\",\n",
    "    #this puts the legend on the bottom\n",
    "    legend=dict(\n",
    "        title=dict(text=\"\", side='top center'),  # legend title above items\n",
    "        orientation=\"h\",     # horizontal layout\n",
    "        yanchor=\"top\",\n",
    "        y=-0.3,              # push below chart\n",
    "        xanchor=\"center\",\n",
    "        x=0.5\n",
    "    ),\n",
    "    #centers the title\n",
    "    title=dict(\n",
    "        text=\"Population Data for Unincorporated Clark County 1950 to 1955\",\n",
    "        x=0.5,  # 0=left, 0.5=center, 1=right\n",
    "        xanchor=\"center\"\n",
    "    )\n",
    ")\n",
    "\n",
    "fig.show()\n",
    "Population1950to1955 = Population1950to1955.set_index('Year')"
   ]
  },
  {
   "cell_type": "code",
   "execution_count": 103,
   "id": "483d9d26",
   "metadata": {},
   "outputs": [],
   "source": [
    "Population1950to1955['Years Since 1950']=np.arange(len(Population1950to1955))\n",
    "#Population1950to1955.head()"
   ]
  },
  {
   "cell_type": "markdown",
   "id": "8b95e373",
   "metadata": {},
   "source": [
    "Do you see a linear trend to the population growth in Unincorporated Clark County?  \n",
    "It certainly looks that way from the data thus far! Over 5 years, our population increase from 10,170 to 17,866.  \n",
    "This allows us to come up with a good linear equation to predict future population growth!\n",
    "\n",
    "Unfortunately now it's time for some boring math... 😞 where we need to start with a linear regression equation... 🤔\n",
    "\n",
    "y=mx+b\n",
    "\n",
    "where y is the predicted population,  \n",
    "m is the slope of our data,  \n",
    "x is the number of years since 1950,  \n",
    "and b is the intercept of 10,170 which is our starting population in 1950.  \n",
    "\n",
    "You will be walked through this one but you will be doing the linear regression for daily visitors!  \n",
    "\n",
    "Let us first start with the slope m, to get a slope you need rise over run which in this case the rise would be the population growth and the run would be the number of years.  \n",
    "\n",
    "Therefore our rise is:\n",
    "\n",
    "17,866-10,170=7,696\n",
    "\n",
    "and the run is just 5 since it's five years. Therefore our slope is:\n",
    "\n",
    "7,696/5=1,539.2\n",
    "\n",
    "What exactly does this mean? It means that our population increases by about 1,539 persons per year for Unincorporated Clark County!  \n",
    "\n",
    "Believe it or not, but you now have the entire equation you need to predict the population between now and 1980:  \n",
    "\n",
    "y=1,539x + 10,170\n",
    "\n",
    "Now it's time for a quiz. Please tell us what the estimated population of Unincorporated Clark County would be in the year 1980?\n",
    "\n"
   ]
  },
  {
   "cell_type": "code",
   "execution_count": 104,
   "id": "f3c8fd0e",
   "metadata": {},
   "outputs": [],
   "source": [
    "\n",
    "\n",
    "def make_question(question_text, options, correct_answer):\n",
    "    # Widgets\n",
    "    dropdown = widgets.Dropdown(\n",
    "        options=[\"\"] + options,   # ensure \"\" starts blank\n",
    "        value=\"\",\n",
    "        description=\"Answer:\",\n",
    "        style={'description_width': 'initial'}\n",
    "    )\n",
    "\n",
    "    button = widgets.Button(\n",
    "        description=\"Check Answer\",\n",
    "        button_style=\"info\"\n",
    "    )\n",
    "\n",
    "    output = widgets.Output()\n",
    "\n",
    "    # Callback (closes over dropdown, output, correct_answer)\n",
    "    def check_answer(b):\n",
    "        with output:\n",
    "            clear_output()\n",
    "            if dropdown.value == \"\":\n",
    "                print(\"Please select an answer!\")\n",
    "            elif dropdown.value == correct_answer:\n",
    "                print(\"✅ Correct!\")\n",
    "            else:\n",
    "                print(f\"❌ Incorrect. The correct answer is {correct_answer}.\")\n",
    "\n",
    "    button.on_click(check_answer)\n",
    "\n",
    "    # Display\n",
    "    display(widgets.HTML(f\"<h3>{question_text}</h3>\"))\n",
    "    display(dropdown, button, output)"
   ]
  },
  {
   "cell_type": "code",
   "execution_count": 105,
   "id": "64f9fe96",
   "metadata": {},
   "outputs": [
    {
     "data": {
      "application/vnd.jupyter.widget-view+json": {
       "model_id": "b4d4842305064b75ba92728db6caa858",
       "version_major": 2,
       "version_minor": 0
      },
      "text/plain": [
       "HTML(value='<h3>What is the estimated population of Unincorporated Clark County in 1980?</h3>')"
      ]
     },
     "metadata": {},
     "output_type": "display_data"
    },
    {
     "data": {
      "application/vnd.jupyter.widget-view+json": {
       "model_id": "147c0333ce7d480795df6dc1fd23b93d",
       "version_major": 2,
       "version_minor": 0
      },
      "text/plain": [
       "Dropdown(description='Answer:', options=('', '10,170', '1,000,000', '56,340', \"I Don't Know!\"), style=Descript…"
      ]
     },
     "metadata": {},
     "output_type": "display_data"
    },
    {
     "data": {
      "application/vnd.jupyter.widget-view+json": {
       "model_id": "518639161ee3441697aa450391d99148",
       "version_major": 2,
       "version_minor": 0
      },
      "text/plain": [
       "Button(button_style='info', description='Check Answer', style=ButtonStyle())"
      ]
     },
     "metadata": {},
     "output_type": "display_data"
    },
    {
     "data": {
      "application/vnd.jupyter.widget-view+json": {
       "model_id": "33050d95c4864542a49a855ff0c5f10d",
       "version_major": 2,
       "version_minor": 0
      },
      "text/plain": [
       "Output()"
      ]
     },
     "metadata": {},
     "output_type": "display_data"
    }
   ],
   "source": [
    "make_question(\n",
    "    \"What is the estimated population of Unincorporated Clark County in 1980?\",\n",
    "    [\"10,170\", \"1,000,000\", \"56,340\", \"I Don't Know!\"],\n",
    "    \"56,340\"\n",
    ")"
   ]
  },
  {
   "cell_type": "markdown",
   "id": "f4f5acb1",
   "metadata": {},
   "source": [
    "<h3>Time to Figure out Visitor Growth to 1980!</h3>\n",
    "You will now repeat the same process that you completed for the Unincorporated Clark County Population with the Visitor Data.  <b>Recall that Engineers and planners consider daily visitors as additional population to a service area. </b>"
   ]
  },
  {
   "cell_type": "code",
   "execution_count": 106,
   "id": "c36c7405",
   "metadata": {},
   "outputs": [
    {
     "data": {
      "application/vnd.plotly.v1+json": {
       "config": {
        "plotlyServerURL": "https://plot.ly"
       },
       "data": [
        {
         "hovertemplate": "Area = %{fullData.name}<br>Year = %{x}<br>Population = %{y:,}<extra></extra>",
         "legendgroup": "Average Daily Visitors",
         "line": {
          "color": "#636efa",
          "dash": "solid"
         },
         "marker": {
          "symbol": "circle"
         },
         "mode": "lines",
         "name": "Average Daily Visitors",
         "orientation": "v",
         "showlegend": true,
         "type": "scatter",
         "x": {
          "bdata": "ngefB6AHoQeiB6MH",
          "dtype": "i2"
         },
         "xaxis": "x",
         "y": {
          "bdata": "6BdAGpgc8B5IIaAj",
          "dtype": "i2"
         },
         "yaxis": "y"
        }
       ],
       "layout": {
        "height": 600,
        "legend": {
         "orientation": "h",
         "title": {
          "side": "top center",
          "text": ""
         },
         "tracegroupgap": 0,
         "x": 0.5,
         "xanchor": "center",
         "y": -0.3,
         "yanchor": "top"
        },
        "template": {
         "data": {
          "bar": [
           {
            "error_x": {
             "color": "#2a3f5f"
            },
            "error_y": {
             "color": "#2a3f5f"
            },
            "marker": {
             "line": {
              "color": "#E5ECF6",
              "width": 0.5
             },
             "pattern": {
              "fillmode": "overlay",
              "size": 10,
              "solidity": 0.2
             }
            },
            "type": "bar"
           }
          ],
          "barpolar": [
           {
            "marker": {
             "line": {
              "color": "#E5ECF6",
              "width": 0.5
             },
             "pattern": {
              "fillmode": "overlay",
              "size": 10,
              "solidity": 0.2
             }
            },
            "type": "barpolar"
           }
          ],
          "carpet": [
           {
            "aaxis": {
             "endlinecolor": "#2a3f5f",
             "gridcolor": "white",
             "linecolor": "white",
             "minorgridcolor": "white",
             "startlinecolor": "#2a3f5f"
            },
            "baxis": {
             "endlinecolor": "#2a3f5f",
             "gridcolor": "white",
             "linecolor": "white",
             "minorgridcolor": "white",
             "startlinecolor": "#2a3f5f"
            },
            "type": "carpet"
           }
          ],
          "choropleth": [
           {
            "colorbar": {
             "outlinewidth": 0,
             "ticks": ""
            },
            "type": "choropleth"
           }
          ],
          "contour": [
           {
            "colorbar": {
             "outlinewidth": 0,
             "ticks": ""
            },
            "colorscale": [
             [
              0,
              "#0d0887"
             ],
             [
              0.1111111111111111,
              "#46039f"
             ],
             [
              0.2222222222222222,
              "#7201a8"
             ],
             [
              0.3333333333333333,
              "#9c179e"
             ],
             [
              0.4444444444444444,
              "#bd3786"
             ],
             [
              0.5555555555555556,
              "#d8576b"
             ],
             [
              0.6666666666666666,
              "#ed7953"
             ],
             [
              0.7777777777777778,
              "#fb9f3a"
             ],
             [
              0.8888888888888888,
              "#fdca26"
             ],
             [
              1,
              "#f0f921"
             ]
            ],
            "type": "contour"
           }
          ],
          "contourcarpet": [
           {
            "colorbar": {
             "outlinewidth": 0,
             "ticks": ""
            },
            "type": "contourcarpet"
           }
          ],
          "heatmap": [
           {
            "colorbar": {
             "outlinewidth": 0,
             "ticks": ""
            },
            "colorscale": [
             [
              0,
              "#0d0887"
             ],
             [
              0.1111111111111111,
              "#46039f"
             ],
             [
              0.2222222222222222,
              "#7201a8"
             ],
             [
              0.3333333333333333,
              "#9c179e"
             ],
             [
              0.4444444444444444,
              "#bd3786"
             ],
             [
              0.5555555555555556,
              "#d8576b"
             ],
             [
              0.6666666666666666,
              "#ed7953"
             ],
             [
              0.7777777777777778,
              "#fb9f3a"
             ],
             [
              0.8888888888888888,
              "#fdca26"
             ],
             [
              1,
              "#f0f921"
             ]
            ],
            "type": "heatmap"
           }
          ],
          "histogram": [
           {
            "marker": {
             "pattern": {
              "fillmode": "overlay",
              "size": 10,
              "solidity": 0.2
             }
            },
            "type": "histogram"
           }
          ],
          "histogram2d": [
           {
            "colorbar": {
             "outlinewidth": 0,
             "ticks": ""
            },
            "colorscale": [
             [
              0,
              "#0d0887"
             ],
             [
              0.1111111111111111,
              "#46039f"
             ],
             [
              0.2222222222222222,
              "#7201a8"
             ],
             [
              0.3333333333333333,
              "#9c179e"
             ],
             [
              0.4444444444444444,
              "#bd3786"
             ],
             [
              0.5555555555555556,
              "#d8576b"
             ],
             [
              0.6666666666666666,
              "#ed7953"
             ],
             [
              0.7777777777777778,
              "#fb9f3a"
             ],
             [
              0.8888888888888888,
              "#fdca26"
             ],
             [
              1,
              "#f0f921"
             ]
            ],
            "type": "histogram2d"
           }
          ],
          "histogram2dcontour": [
           {
            "colorbar": {
             "outlinewidth": 0,
             "ticks": ""
            },
            "colorscale": [
             [
              0,
              "#0d0887"
             ],
             [
              0.1111111111111111,
              "#46039f"
             ],
             [
              0.2222222222222222,
              "#7201a8"
             ],
             [
              0.3333333333333333,
              "#9c179e"
             ],
             [
              0.4444444444444444,
              "#bd3786"
             ],
             [
              0.5555555555555556,
              "#d8576b"
             ],
             [
              0.6666666666666666,
              "#ed7953"
             ],
             [
              0.7777777777777778,
              "#fb9f3a"
             ],
             [
              0.8888888888888888,
              "#fdca26"
             ],
             [
              1,
              "#f0f921"
             ]
            ],
            "type": "histogram2dcontour"
           }
          ],
          "mesh3d": [
           {
            "colorbar": {
             "outlinewidth": 0,
             "ticks": ""
            },
            "type": "mesh3d"
           }
          ],
          "parcoords": [
           {
            "line": {
             "colorbar": {
              "outlinewidth": 0,
              "ticks": ""
             }
            },
            "type": "parcoords"
           }
          ],
          "pie": [
           {
            "automargin": true,
            "type": "pie"
           }
          ],
          "scatter": [
           {
            "fillpattern": {
             "fillmode": "overlay",
             "size": 10,
             "solidity": 0.2
            },
            "type": "scatter"
           }
          ],
          "scatter3d": [
           {
            "line": {
             "colorbar": {
              "outlinewidth": 0,
              "ticks": ""
             }
            },
            "marker": {
             "colorbar": {
              "outlinewidth": 0,
              "ticks": ""
             }
            },
            "type": "scatter3d"
           }
          ],
          "scattercarpet": [
           {
            "marker": {
             "colorbar": {
              "outlinewidth": 0,
              "ticks": ""
             }
            },
            "type": "scattercarpet"
           }
          ],
          "scattergeo": [
           {
            "marker": {
             "colorbar": {
              "outlinewidth": 0,
              "ticks": ""
             }
            },
            "type": "scattergeo"
           }
          ],
          "scattergl": [
           {
            "marker": {
             "colorbar": {
              "outlinewidth": 0,
              "ticks": ""
             }
            },
            "type": "scattergl"
           }
          ],
          "scattermap": [
           {
            "marker": {
             "colorbar": {
              "outlinewidth": 0,
              "ticks": ""
             }
            },
            "type": "scattermap"
           }
          ],
          "scattermapbox": [
           {
            "marker": {
             "colorbar": {
              "outlinewidth": 0,
              "ticks": ""
             }
            },
            "type": "scattermapbox"
           }
          ],
          "scatterpolar": [
           {
            "marker": {
             "colorbar": {
              "outlinewidth": 0,
              "ticks": ""
             }
            },
            "type": "scatterpolar"
           }
          ],
          "scatterpolargl": [
           {
            "marker": {
             "colorbar": {
              "outlinewidth": 0,
              "ticks": ""
             }
            },
            "type": "scatterpolargl"
           }
          ],
          "scatterternary": [
           {
            "marker": {
             "colorbar": {
              "outlinewidth": 0,
              "ticks": ""
             }
            },
            "type": "scatterternary"
           }
          ],
          "surface": [
           {
            "colorbar": {
             "outlinewidth": 0,
             "ticks": ""
            },
            "colorscale": [
             [
              0,
              "#0d0887"
             ],
             [
              0.1111111111111111,
              "#46039f"
             ],
             [
              0.2222222222222222,
              "#7201a8"
             ],
             [
              0.3333333333333333,
              "#9c179e"
             ],
             [
              0.4444444444444444,
              "#bd3786"
             ],
             [
              0.5555555555555556,
              "#d8576b"
             ],
             [
              0.6666666666666666,
              "#ed7953"
             ],
             [
              0.7777777777777778,
              "#fb9f3a"
             ],
             [
              0.8888888888888888,
              "#fdca26"
             ],
             [
              1,
              "#f0f921"
             ]
            ],
            "type": "surface"
           }
          ],
          "table": [
           {
            "cells": {
             "fill": {
              "color": "#EBF0F8"
             },
             "line": {
              "color": "white"
             }
            },
            "header": {
             "fill": {
              "color": "#C8D4E3"
             },
             "line": {
              "color": "white"
             }
            },
            "type": "table"
           }
          ]
         },
         "layout": {
          "annotationdefaults": {
           "arrowcolor": "#2a3f5f",
           "arrowhead": 0,
           "arrowwidth": 1
          },
          "autotypenumbers": "strict",
          "coloraxis": {
           "colorbar": {
            "outlinewidth": 0,
            "ticks": ""
           }
          },
          "colorscale": {
           "diverging": [
            [
             0,
             "#8e0152"
            ],
            [
             0.1,
             "#c51b7d"
            ],
            [
             0.2,
             "#de77ae"
            ],
            [
             0.3,
             "#f1b6da"
            ],
            [
             0.4,
             "#fde0ef"
            ],
            [
             0.5,
             "#f7f7f7"
            ],
            [
             0.6,
             "#e6f5d0"
            ],
            [
             0.7,
             "#b8e186"
            ],
            [
             0.8,
             "#7fbc41"
            ],
            [
             0.9,
             "#4d9221"
            ],
            [
             1,
             "#276419"
            ]
           ],
           "sequential": [
            [
             0,
             "#0d0887"
            ],
            [
             0.1111111111111111,
             "#46039f"
            ],
            [
             0.2222222222222222,
             "#7201a8"
            ],
            [
             0.3333333333333333,
             "#9c179e"
            ],
            [
             0.4444444444444444,
             "#bd3786"
            ],
            [
             0.5555555555555556,
             "#d8576b"
            ],
            [
             0.6666666666666666,
             "#ed7953"
            ],
            [
             0.7777777777777778,
             "#fb9f3a"
            ],
            [
             0.8888888888888888,
             "#fdca26"
            ],
            [
             1,
             "#f0f921"
            ]
           ],
           "sequentialminus": [
            [
             0,
             "#0d0887"
            ],
            [
             0.1111111111111111,
             "#46039f"
            ],
            [
             0.2222222222222222,
             "#7201a8"
            ],
            [
             0.3333333333333333,
             "#9c179e"
            ],
            [
             0.4444444444444444,
             "#bd3786"
            ],
            [
             0.5555555555555556,
             "#d8576b"
            ],
            [
             0.6666666666666666,
             "#ed7953"
            ],
            [
             0.7777777777777778,
             "#fb9f3a"
            ],
            [
             0.8888888888888888,
             "#fdca26"
            ],
            [
             1,
             "#f0f921"
            ]
           ]
          },
          "colorway": [
           "#636efa",
           "#EF553B",
           "#00cc96",
           "#ab63fa",
           "#FFA15A",
           "#19d3f3",
           "#FF6692",
           "#B6E880",
           "#FF97FF",
           "#FECB52"
          ],
          "font": {
           "color": "#2a3f5f"
          },
          "geo": {
           "bgcolor": "white",
           "lakecolor": "white",
           "landcolor": "#E5ECF6",
           "showlakes": true,
           "showland": true,
           "subunitcolor": "white"
          },
          "hoverlabel": {
           "align": "left"
          },
          "hovermode": "closest",
          "mapbox": {
           "style": "light"
          },
          "paper_bgcolor": "white",
          "plot_bgcolor": "#E5ECF6",
          "polar": {
           "angularaxis": {
            "gridcolor": "white",
            "linecolor": "white",
            "ticks": ""
           },
           "bgcolor": "#E5ECF6",
           "radialaxis": {
            "gridcolor": "white",
            "linecolor": "white",
            "ticks": ""
           }
          },
          "scene": {
           "xaxis": {
            "backgroundcolor": "#E5ECF6",
            "gridcolor": "white",
            "gridwidth": 2,
            "linecolor": "white",
            "showbackground": true,
            "ticks": "",
            "zerolinecolor": "white"
           },
           "yaxis": {
            "backgroundcolor": "#E5ECF6",
            "gridcolor": "white",
            "gridwidth": 2,
            "linecolor": "white",
            "showbackground": true,
            "ticks": "",
            "zerolinecolor": "white"
           },
           "zaxis": {
            "backgroundcolor": "#E5ECF6",
            "gridcolor": "white",
            "gridwidth": 2,
            "linecolor": "white",
            "showbackground": true,
            "ticks": "",
            "zerolinecolor": "white"
           }
          },
          "shapedefaults": {
           "line": {
            "color": "#2a3f5f"
           }
          },
          "ternary": {
           "aaxis": {
            "gridcolor": "white",
            "linecolor": "white",
            "ticks": ""
           },
           "baxis": {
            "gridcolor": "white",
            "linecolor": "white",
            "ticks": ""
           },
           "bgcolor": "#E5ECF6",
           "caxis": {
            "gridcolor": "white",
            "linecolor": "white",
            "ticks": ""
           }
          },
          "title": {
           "x": 0.05
          },
          "xaxis": {
           "automargin": true,
           "gridcolor": "white",
           "linecolor": "white",
           "ticks": "",
           "title": {
            "standoff": 15
           },
           "zerolinecolor": "white",
           "zerolinewidth": 2
          },
          "yaxis": {
           "automargin": true,
           "gridcolor": "white",
           "linecolor": "white",
           "ticks": "",
           "title": {
            "standoff": 15
           },
           "zerolinecolor": "white",
           "zerolinewidth": 2
          }
         }
        },
        "title": {
         "text": "Average Daily Visitor Data for Unincorporated Clark County 1950 to 1955",
         "x": 0.5,
         "xanchor": "center"
        },
        "width": 800,
        "xaxis": {
         "anchor": "y",
         "domain": [
          0,
          1
         ],
         "title": {
          "text": "Year"
         }
        },
        "yaxis": {
         "anchor": "x",
         "domain": [
          0,
          1
         ],
         "title": {
          "text": "Population"
         }
        }
       }
      }
     },
     "metadata": {},
     "output_type": "display_data"
    }
   ],
   "source": [
    "Population1950to1955 = Population1950to1955.reset_index()\n",
    "\n",
    "# Reshape wide → long for Plotly (all airlines in one column)\n",
    "df_long = Population1950to1955.melt(id_vars='Year', \n",
    "                           value_vars=['Average Daily Visitors'], \n",
    "                           var_name='Area', value_name='Population')\n",
    "\n",
    "fig = px.line(\n",
    "    df_long,\n",
    "    x='Year', y='Population', color=\"Area\",\n",
    "    title=\"Average Daily Vistors for Unincorporated Clark County 1950 to 1955\",\n",
    "    labels={'Population' : \"Population\"}\n",
    ")\n",
    "\n",
    "fig.update_traces(\n",
    "    hovertemplate=(\n",
    "        \"Area = %{fullData.name}<br>\"\n",
    "        \"Year = %{x}<br>\"\n",
    "        \"Population = %{y:,}\"\n",
    "        \"<extra></extra>\"\n",
    "    )\n",
    ")\n",
    "\n",
    "fig.update_layout(\n",
    "    width=800, height=600,\n",
    "    yaxis_title=\"Population\",\n",
    "    #this puts the legend on the bottom\n",
    "    legend=dict(\n",
    "        title=dict(text=\"\", side='top center'),  # legend title above items\n",
    "        orientation=\"h\",     # horizontal layout\n",
    "        yanchor=\"top\",\n",
    "        y=-0.3,              # push below chart\n",
    "        xanchor=\"center\",\n",
    "        x=0.5\n",
    "    ),\n",
    "    #centers the title\n",
    "    title=dict(\n",
    "        text=\"Average Daily Visitor Data for Unincorporated Clark County 1950 to 1955\",\n",
    "        x=0.5,  # 0=left, 0.5=center, 1=right\n",
    "        xanchor=\"center\"\n",
    "    )\n",
    ")\n",
    "\n",
    "fig.show()\n",
    "Population1950to1955 = Population1950to1955.set_index('Year')"
   ]
  },
  {
   "cell_type": "markdown",
   "id": "8de43876",
   "metadata": {},
   "source": [
    "The number of visitors in 1950 is 6,120 and in 1955 it jumps to 9,120.  Now time for three pop quizzes!  Aren't we evil? 😈"
   ]
  },
  {
   "cell_type": "code",
   "execution_count": 107,
   "id": "f6a74637",
   "metadata": {},
   "outputs": [
    {
     "data": {
      "application/vnd.jupyter.widget-view+json": {
       "model_id": "28aaa5cf25624369b2b2647ab1b35269",
       "version_major": 2,
       "version_minor": 0
      },
      "text/plain": [
       "HTML(value='<h3>What should we set our intercept b as?</h3>')"
      ]
     },
     "metadata": {},
     "output_type": "display_data"
    },
    {
     "data": {
      "application/vnd.jupyter.widget-view+json": {
       "model_id": "6ff20527c0254f2aa1d4ca26ebec9829",
       "version_major": 2,
       "version_minor": 0
      },
      "text/plain": [
       "Dropdown(description='Answer:', options=('', '6,120', '1,000,000,000', '9,120', \"I Don't Know!\"), style=Descri…"
      ]
     },
     "metadata": {},
     "output_type": "display_data"
    },
    {
     "data": {
      "application/vnd.jupyter.widget-view+json": {
       "model_id": "770cdc227c6a43869fa16613a63fbeef",
       "version_major": 2,
       "version_minor": 0
      },
      "text/plain": [
       "Button(button_style='info', description='Check Answer', style=ButtonStyle())"
      ]
     },
     "metadata": {},
     "output_type": "display_data"
    },
    {
     "data": {
      "application/vnd.jupyter.widget-view+json": {
       "model_id": "4fac8649e55140968dabe85b1dfca0e6",
       "version_major": 2,
       "version_minor": 0
      },
      "text/plain": [
       "Output()"
      ]
     },
     "metadata": {},
     "output_type": "display_data"
    }
   ],
   "source": [
    "make_question(\n",
    "    \"What should we set our intercept b as?\",\n",
    "    [\"6,120\", \"1,000,000,000\", \"9,120\", \"I Don't Know!\"],\n",
    "    \"6,120\"\n",
    ")"
   ]
  },
  {
   "cell_type": "code",
   "execution_count": 108,
   "id": "4c9268f2",
   "metadata": {},
   "outputs": [
    {
     "data": {
      "application/vnd.jupyter.widget-view+json": {
       "model_id": "9ef66b0075034cd2b282e6d08def707e",
       "version_major": 2,
       "version_minor": 0
      },
      "text/plain": [
       "HTML(value='<h3>What is the slope of our linear regression equation?</h3>')"
      ]
     },
     "metadata": {},
     "output_type": "display_data"
    },
    {
     "data": {
      "application/vnd.jupyter.widget-view+json": {
       "model_id": "77baa0bd7e9d49088affcf087fbc5164",
       "version_major": 2,
       "version_minor": 0
      },
      "text/plain": [
       "Dropdown(description='Answer:', options=('', '1,000,000,000', '9,120', '600', \"I Don't Know!\"), style=Descript…"
      ]
     },
     "metadata": {},
     "output_type": "display_data"
    },
    {
     "data": {
      "application/vnd.jupyter.widget-view+json": {
       "model_id": "5119bd2ccde9415a9ce31d06e7d3a7a5",
       "version_major": 2,
       "version_minor": 0
      },
      "text/plain": [
       "Button(button_style='info', description='Check Answer', style=ButtonStyle())"
      ]
     },
     "metadata": {},
     "output_type": "display_data"
    },
    {
     "data": {
      "application/vnd.jupyter.widget-view+json": {
       "model_id": "8ad6bb045a1d4ce19ef6e30911d60ce8",
       "version_major": 2,
       "version_minor": 0
      },
      "text/plain": [
       "Output()"
      ]
     },
     "metadata": {},
     "output_type": "display_data"
    }
   ],
   "source": [
    "make_question(\n",
    "    \"What is the slope of our linear regression equation?\",\n",
    "    [\"1,000,000,000\", \"9,120\", \"600\", \"I Don't Know!\"],\n",
    "    \"600\"\n",
    ")"
   ]
  },
  {
   "cell_type": "code",
   "execution_count": 109,
   "id": "fc0ebb05",
   "metadata": {},
   "outputs": [
    {
     "data": {
      "application/vnd.jupyter.widget-view+json": {
       "model_id": "e43b39582da64310a3fa629fb92a212c",
       "version_major": 2,
       "version_minor": 0
      },
      "text/plain": [
       "HTML(value='<h3>What is the estimated number of daily visitors in 1980?</h3>')"
      ]
     },
     "metadata": {},
     "output_type": "display_data"
    },
    {
     "data": {
      "application/vnd.jupyter.widget-view+json": {
       "model_id": "c4b20371a36045918714f8c9c589911e",
       "version_major": 2,
       "version_minor": 0
      },
      "text/plain": [
       "Dropdown(description='Answer:', options=('', '🐶', '24,120', '600', \"I Don't Know!\"), style=DescriptionStyle(de…"
      ]
     },
     "metadata": {},
     "output_type": "display_data"
    },
    {
     "data": {
      "application/vnd.jupyter.widget-view+json": {
       "model_id": "a37b76ac904a42d5a288b142caa0d794",
       "version_major": 2,
       "version_minor": 0
      },
      "text/plain": [
       "Button(button_style='info', description='Check Answer', style=ButtonStyle())"
      ]
     },
     "metadata": {},
     "output_type": "display_data"
    },
    {
     "data": {
      "application/vnd.jupyter.widget-view+json": {
       "model_id": "68a9b2ec8cf048f69486703ee695251f",
       "version_major": 2,
       "version_minor": 0
      },
      "text/plain": [
       "Output()"
      ]
     },
     "metadata": {},
     "output_type": "display_data"
    }
   ],
   "source": [
    "make_question(\n",
    "    \"What is the estimated number of daily visitors in 1980?\",\n",
    "    [\"🐶\", \"24,120\", \"600\", \"I Don't Know!\"],\n",
    "    \"24,120\"\n",
    ")"
   ]
  },
  {
   "cell_type": "markdown",
   "id": "4221416d",
   "metadata": {},
   "source": [
    "<h3>Time to Put it all Together!</h3>\n",
    "It's time to visualize your data in graphical form!"
   ]
  },
  {
   "cell_type": "code",
   "execution_count": 110,
   "id": "b51f9c8a",
   "metadata": {},
   "outputs": [],
   "source": [
    "Population1950to1955 = Population1950to1955.reset_index()\n",
    "#common linear regression equation\n",
    "def linear_equation(year,intercept,slope):\n",
    "    return intercept + slope * (year - 1950)  # shift so 1950 = 0\n",
    "\n",
    "years = np.arange(1956, 1981)\n",
    "predicted_1 = [linear_equation(y,10170,1539) for y in years]\n",
    "predicted_2 = [linear_equation(y,6120,600) for y in years]\n",
    "\n",
    "predicted_df = pd.DataFrame({\"Year\": years, \"Unincorporated Clark County\": predicted_1, \"Average Daily Visitors\": predicted_2})\n",
    "Population1950to1955 = Population1950to1955.set_index('Year')\n",
    "predicted_df = predicted_df.set_index(\"Year\")\n",
    "Population1950to1980_Predicted = pd.concat([Population1950to1955, predicted_df])\n",
    "Population1950to1980_Predicted['Total Predicted Unincorporated Clark County'] = Population1950to1980_Predicted['Average Daily Visitors']+Population1950to1980_Predicted['Unincorporated Clark County']"
   ]
  },
  {
   "cell_type": "code",
   "execution_count": 111,
   "id": "2ca21eb0",
   "metadata": {},
   "outputs": [
    {
     "data": {
      "application/vnd.plotly.v1+json": {
       "config": {
        "plotlyServerURL": "https://plot.ly"
       },
       "data": [
        {
         "hovertemplate": "Area = %{fullData.name}<br>Year = %{x}<br>Population = %{y:,}<extra></extra>",
         "legendgroup": "Unincorporated Clark County",
         "line": {
          "color": "#636efa",
          "dash": "solid"
         },
         "marker": {
          "symbol": "circle"
         },
         "mode": "lines",
         "name": "Unincorporated Clark County",
         "orientation": "v",
         "showlegend": true,
         "type": "scatter",
         "x": {
          "bdata": "ngefB6AHoQeiB6MHpAelB6YHpweoB6kHqgerB6wHrQeuB68HsAexB7IHswe0B7UHtge3B7gHuQe6B7sHvAc=",
          "dtype": "i2"
         },
         "xaxis": "x",
         "y": {
          "bdata": "uicAAKktAACWMwAA5jkAABxAAADKRQAAzEsAAM9RAADSVwAA1V0AANhjAADbaQAA3m8AAOF1AADkewAA54EAAOqHAADtjQAA8JMAAPOZAAD2nwAA+aUAAPyrAAD/sQAAArgAAAW+AAAIxAAAC8oAAA7QAAAR1gAAFNwAAA==",
          "dtype": "i4"
         },
         "yaxis": "y"
        },
        {
         "hovertemplate": "Area = %{fullData.name}<br>Year = %{x}<br>Population = %{y:,}<extra></extra>",
         "legendgroup": "Average Daily Visitors",
         "line": {
          "color": "#EF553B",
          "dash": "solid"
         },
         "marker": {
          "symbol": "circle"
         },
         "mode": "lines",
         "name": "Average Daily Visitors",
         "orientation": "v",
         "showlegend": true,
         "type": "scatter",
         "x": {
          "bdata": "ngefB6AHoQeiB6MHpAelB6YHpweoB6kHqgerB6wHrQeuB68HsAexB7IHswe0B7UHtge3B7gHuQe6B7sHvAc=",
          "dtype": "i2"
         },
         "xaxis": "x",
         "y": {
          "bdata": "6BdAGpgc8B5IIaAj+CVQKKgqAC1YL7AxCDRgNrg4EDtoPcA/GEJwRMhGIEl4S9BNKFCAUthUMFeIWeBbOF4=",
          "dtype": "i2"
         },
         "yaxis": "y"
        }
       ],
       "layout": {
        "height": 600,
        "legend": {
         "orientation": "h",
         "title": {
          "side": "top center",
          "text": ""
         },
         "tracegroupgap": 0,
         "x": 0.5,
         "xanchor": "center",
         "y": -0.3,
         "yanchor": "top"
        },
        "template": {
         "data": {
          "bar": [
           {
            "error_x": {
             "color": "#2a3f5f"
            },
            "error_y": {
             "color": "#2a3f5f"
            },
            "marker": {
             "line": {
              "color": "#E5ECF6",
              "width": 0.5
             },
             "pattern": {
              "fillmode": "overlay",
              "size": 10,
              "solidity": 0.2
             }
            },
            "type": "bar"
           }
          ],
          "barpolar": [
           {
            "marker": {
             "line": {
              "color": "#E5ECF6",
              "width": 0.5
             },
             "pattern": {
              "fillmode": "overlay",
              "size": 10,
              "solidity": 0.2
             }
            },
            "type": "barpolar"
           }
          ],
          "carpet": [
           {
            "aaxis": {
             "endlinecolor": "#2a3f5f",
             "gridcolor": "white",
             "linecolor": "white",
             "minorgridcolor": "white",
             "startlinecolor": "#2a3f5f"
            },
            "baxis": {
             "endlinecolor": "#2a3f5f",
             "gridcolor": "white",
             "linecolor": "white",
             "minorgridcolor": "white",
             "startlinecolor": "#2a3f5f"
            },
            "type": "carpet"
           }
          ],
          "choropleth": [
           {
            "colorbar": {
             "outlinewidth": 0,
             "ticks": ""
            },
            "type": "choropleth"
           }
          ],
          "contour": [
           {
            "colorbar": {
             "outlinewidth": 0,
             "ticks": ""
            },
            "colorscale": [
             [
              0,
              "#0d0887"
             ],
             [
              0.1111111111111111,
              "#46039f"
             ],
             [
              0.2222222222222222,
              "#7201a8"
             ],
             [
              0.3333333333333333,
              "#9c179e"
             ],
             [
              0.4444444444444444,
              "#bd3786"
             ],
             [
              0.5555555555555556,
              "#d8576b"
             ],
             [
              0.6666666666666666,
              "#ed7953"
             ],
             [
              0.7777777777777778,
              "#fb9f3a"
             ],
             [
              0.8888888888888888,
              "#fdca26"
             ],
             [
              1,
              "#f0f921"
             ]
            ],
            "type": "contour"
           }
          ],
          "contourcarpet": [
           {
            "colorbar": {
             "outlinewidth": 0,
             "ticks": ""
            },
            "type": "contourcarpet"
           }
          ],
          "heatmap": [
           {
            "colorbar": {
             "outlinewidth": 0,
             "ticks": ""
            },
            "colorscale": [
             [
              0,
              "#0d0887"
             ],
             [
              0.1111111111111111,
              "#46039f"
             ],
             [
              0.2222222222222222,
              "#7201a8"
             ],
             [
              0.3333333333333333,
              "#9c179e"
             ],
             [
              0.4444444444444444,
              "#bd3786"
             ],
             [
              0.5555555555555556,
              "#d8576b"
             ],
             [
              0.6666666666666666,
              "#ed7953"
             ],
             [
              0.7777777777777778,
              "#fb9f3a"
             ],
             [
              0.8888888888888888,
              "#fdca26"
             ],
             [
              1,
              "#f0f921"
             ]
            ],
            "type": "heatmap"
           }
          ],
          "histogram": [
           {
            "marker": {
             "pattern": {
              "fillmode": "overlay",
              "size": 10,
              "solidity": 0.2
             }
            },
            "type": "histogram"
           }
          ],
          "histogram2d": [
           {
            "colorbar": {
             "outlinewidth": 0,
             "ticks": ""
            },
            "colorscale": [
             [
              0,
              "#0d0887"
             ],
             [
              0.1111111111111111,
              "#46039f"
             ],
             [
              0.2222222222222222,
              "#7201a8"
             ],
             [
              0.3333333333333333,
              "#9c179e"
             ],
             [
              0.4444444444444444,
              "#bd3786"
             ],
             [
              0.5555555555555556,
              "#d8576b"
             ],
             [
              0.6666666666666666,
              "#ed7953"
             ],
             [
              0.7777777777777778,
              "#fb9f3a"
             ],
             [
              0.8888888888888888,
              "#fdca26"
             ],
             [
              1,
              "#f0f921"
             ]
            ],
            "type": "histogram2d"
           }
          ],
          "histogram2dcontour": [
           {
            "colorbar": {
             "outlinewidth": 0,
             "ticks": ""
            },
            "colorscale": [
             [
              0,
              "#0d0887"
             ],
             [
              0.1111111111111111,
              "#46039f"
             ],
             [
              0.2222222222222222,
              "#7201a8"
             ],
             [
              0.3333333333333333,
              "#9c179e"
             ],
             [
              0.4444444444444444,
              "#bd3786"
             ],
             [
              0.5555555555555556,
              "#d8576b"
             ],
             [
              0.6666666666666666,
              "#ed7953"
             ],
             [
              0.7777777777777778,
              "#fb9f3a"
             ],
             [
              0.8888888888888888,
              "#fdca26"
             ],
             [
              1,
              "#f0f921"
             ]
            ],
            "type": "histogram2dcontour"
           }
          ],
          "mesh3d": [
           {
            "colorbar": {
             "outlinewidth": 0,
             "ticks": ""
            },
            "type": "mesh3d"
           }
          ],
          "parcoords": [
           {
            "line": {
             "colorbar": {
              "outlinewidth": 0,
              "ticks": ""
             }
            },
            "type": "parcoords"
           }
          ],
          "pie": [
           {
            "automargin": true,
            "type": "pie"
           }
          ],
          "scatter": [
           {
            "fillpattern": {
             "fillmode": "overlay",
             "size": 10,
             "solidity": 0.2
            },
            "type": "scatter"
           }
          ],
          "scatter3d": [
           {
            "line": {
             "colorbar": {
              "outlinewidth": 0,
              "ticks": ""
             }
            },
            "marker": {
             "colorbar": {
              "outlinewidth": 0,
              "ticks": ""
             }
            },
            "type": "scatter3d"
           }
          ],
          "scattercarpet": [
           {
            "marker": {
             "colorbar": {
              "outlinewidth": 0,
              "ticks": ""
             }
            },
            "type": "scattercarpet"
           }
          ],
          "scattergeo": [
           {
            "marker": {
             "colorbar": {
              "outlinewidth": 0,
              "ticks": ""
             }
            },
            "type": "scattergeo"
           }
          ],
          "scattergl": [
           {
            "marker": {
             "colorbar": {
              "outlinewidth": 0,
              "ticks": ""
             }
            },
            "type": "scattergl"
           }
          ],
          "scattermap": [
           {
            "marker": {
             "colorbar": {
              "outlinewidth": 0,
              "ticks": ""
             }
            },
            "type": "scattermap"
           }
          ],
          "scattermapbox": [
           {
            "marker": {
             "colorbar": {
              "outlinewidth": 0,
              "ticks": ""
             }
            },
            "type": "scattermapbox"
           }
          ],
          "scatterpolar": [
           {
            "marker": {
             "colorbar": {
              "outlinewidth": 0,
              "ticks": ""
             }
            },
            "type": "scatterpolar"
           }
          ],
          "scatterpolargl": [
           {
            "marker": {
             "colorbar": {
              "outlinewidth": 0,
              "ticks": ""
             }
            },
            "type": "scatterpolargl"
           }
          ],
          "scatterternary": [
           {
            "marker": {
             "colorbar": {
              "outlinewidth": 0,
              "ticks": ""
             }
            },
            "type": "scatterternary"
           }
          ],
          "surface": [
           {
            "colorbar": {
             "outlinewidth": 0,
             "ticks": ""
            },
            "colorscale": [
             [
              0,
              "#0d0887"
             ],
             [
              0.1111111111111111,
              "#46039f"
             ],
             [
              0.2222222222222222,
              "#7201a8"
             ],
             [
              0.3333333333333333,
              "#9c179e"
             ],
             [
              0.4444444444444444,
              "#bd3786"
             ],
             [
              0.5555555555555556,
              "#d8576b"
             ],
             [
              0.6666666666666666,
              "#ed7953"
             ],
             [
              0.7777777777777778,
              "#fb9f3a"
             ],
             [
              0.8888888888888888,
              "#fdca26"
             ],
             [
              1,
              "#f0f921"
             ]
            ],
            "type": "surface"
           }
          ],
          "table": [
           {
            "cells": {
             "fill": {
              "color": "#EBF0F8"
             },
             "line": {
              "color": "white"
             }
            },
            "header": {
             "fill": {
              "color": "#C8D4E3"
             },
             "line": {
              "color": "white"
             }
            },
            "type": "table"
           }
          ]
         },
         "layout": {
          "annotationdefaults": {
           "arrowcolor": "#2a3f5f",
           "arrowhead": 0,
           "arrowwidth": 1
          },
          "autotypenumbers": "strict",
          "coloraxis": {
           "colorbar": {
            "outlinewidth": 0,
            "ticks": ""
           }
          },
          "colorscale": {
           "diverging": [
            [
             0,
             "#8e0152"
            ],
            [
             0.1,
             "#c51b7d"
            ],
            [
             0.2,
             "#de77ae"
            ],
            [
             0.3,
             "#f1b6da"
            ],
            [
             0.4,
             "#fde0ef"
            ],
            [
             0.5,
             "#f7f7f7"
            ],
            [
             0.6,
             "#e6f5d0"
            ],
            [
             0.7,
             "#b8e186"
            ],
            [
             0.8,
             "#7fbc41"
            ],
            [
             0.9,
             "#4d9221"
            ],
            [
             1,
             "#276419"
            ]
           ],
           "sequential": [
            [
             0,
             "#0d0887"
            ],
            [
             0.1111111111111111,
             "#46039f"
            ],
            [
             0.2222222222222222,
             "#7201a8"
            ],
            [
             0.3333333333333333,
             "#9c179e"
            ],
            [
             0.4444444444444444,
             "#bd3786"
            ],
            [
             0.5555555555555556,
             "#d8576b"
            ],
            [
             0.6666666666666666,
             "#ed7953"
            ],
            [
             0.7777777777777778,
             "#fb9f3a"
            ],
            [
             0.8888888888888888,
             "#fdca26"
            ],
            [
             1,
             "#f0f921"
            ]
           ],
           "sequentialminus": [
            [
             0,
             "#0d0887"
            ],
            [
             0.1111111111111111,
             "#46039f"
            ],
            [
             0.2222222222222222,
             "#7201a8"
            ],
            [
             0.3333333333333333,
             "#9c179e"
            ],
            [
             0.4444444444444444,
             "#bd3786"
            ],
            [
             0.5555555555555556,
             "#d8576b"
            ],
            [
             0.6666666666666666,
             "#ed7953"
            ],
            [
             0.7777777777777778,
             "#fb9f3a"
            ],
            [
             0.8888888888888888,
             "#fdca26"
            ],
            [
             1,
             "#f0f921"
            ]
           ]
          },
          "colorway": [
           "#636efa",
           "#EF553B",
           "#00cc96",
           "#ab63fa",
           "#FFA15A",
           "#19d3f3",
           "#FF6692",
           "#B6E880",
           "#FF97FF",
           "#FECB52"
          ],
          "font": {
           "color": "#2a3f5f"
          },
          "geo": {
           "bgcolor": "white",
           "lakecolor": "white",
           "landcolor": "#E5ECF6",
           "showlakes": true,
           "showland": true,
           "subunitcolor": "white"
          },
          "hoverlabel": {
           "align": "left"
          },
          "hovermode": "closest",
          "mapbox": {
           "style": "light"
          },
          "paper_bgcolor": "white",
          "plot_bgcolor": "#E5ECF6",
          "polar": {
           "angularaxis": {
            "gridcolor": "white",
            "linecolor": "white",
            "ticks": ""
           },
           "bgcolor": "#E5ECF6",
           "radialaxis": {
            "gridcolor": "white",
            "linecolor": "white",
            "ticks": ""
           }
          },
          "scene": {
           "xaxis": {
            "backgroundcolor": "#E5ECF6",
            "gridcolor": "white",
            "gridwidth": 2,
            "linecolor": "white",
            "showbackground": true,
            "ticks": "",
            "zerolinecolor": "white"
           },
           "yaxis": {
            "backgroundcolor": "#E5ECF6",
            "gridcolor": "white",
            "gridwidth": 2,
            "linecolor": "white",
            "showbackground": true,
            "ticks": "",
            "zerolinecolor": "white"
           },
           "zaxis": {
            "backgroundcolor": "#E5ECF6",
            "gridcolor": "white",
            "gridwidth": 2,
            "linecolor": "white",
            "showbackground": true,
            "ticks": "",
            "zerolinecolor": "white"
           }
          },
          "shapedefaults": {
           "line": {
            "color": "#2a3f5f"
           }
          },
          "ternary": {
           "aaxis": {
            "gridcolor": "white",
            "linecolor": "white",
            "ticks": ""
           },
           "baxis": {
            "gridcolor": "white",
            "linecolor": "white",
            "ticks": ""
           },
           "bgcolor": "#E5ECF6",
           "caxis": {
            "gridcolor": "white",
            "linecolor": "white",
            "ticks": ""
           }
          },
          "title": {
           "x": 0.05
          },
          "xaxis": {
           "automargin": true,
           "gridcolor": "white",
           "linecolor": "white",
           "ticks": "",
           "title": {
            "standoff": 15
           },
           "zerolinecolor": "white",
           "zerolinewidth": 2
          },
          "yaxis": {
           "automargin": true,
           "gridcolor": "white",
           "linecolor": "white",
           "ticks": "",
           "title": {
            "standoff": 15
           },
           "zerolinecolor": "white",
           "zerolinewidth": 2
          }
         }
        },
        "title": {
         "text": "Predicted Population and Average Daily Vistors for Unincorporated Clark County 1950 to 1980",
         "x": 0.5,
         "xanchor": "center"
        },
        "width": 1200,
        "xaxis": {
         "anchor": "y",
         "domain": [
          0,
          1
         ],
         "title": {
          "text": "Year"
         }
        },
        "yaxis": {
         "anchor": "x",
         "domain": [
          0,
          1
         ],
         "title": {
          "text": "Population"
         }
        }
       }
      }
     },
     "metadata": {},
     "output_type": "display_data"
    }
   ],
   "source": [
    "Population1950to1980_Predicted = Population1950to1980_Predicted.reset_index()\n",
    "\n",
    "# Reshape wide → long for Plotly (all airlines in one column)\n",
    "df_long = Population1950to1980_Predicted.melt(id_vars='Year', \n",
    "                           value_vars=['Unincorporated Clark County','Average Daily Visitors'], \n",
    "                           var_name='Area', value_name='Population')\n",
    "\n",
    "fig = px.line(\n",
    "    df_long,\n",
    "    x='Year', y='Population', color=\"Area\",\n",
    "    title=\"Predicted Population and Average Daily Vistors for Unincorporated Clark County 1950 to 1980\",\n",
    "    labels={'Population' : \"Population\"}\n",
    ")\n",
    "\n",
    "fig.update_traces(\n",
    "    hovertemplate=(\n",
    "        \"Area = %{fullData.name}<br>\"\n",
    "        \"Year = %{x}<br>\"\n",
    "        \"Population = %{y:,}\"\n",
    "        \"<extra></extra>\"\n",
    "    )\n",
    ")\n",
    "\n",
    "fig.update_layout(\n",
    "    width=1200, height=600,\n",
    "    yaxis_title=\"Population\",\n",
    "    #this puts the legend on the bottom\n",
    "    legend=dict(\n",
    "        title=dict(text=\"\", side='top center'),  # legend title above items\n",
    "        orientation=\"h\",     # horizontal layout\n",
    "        yanchor=\"top\",\n",
    "        y=-0.3,              # push below chart\n",
    "        xanchor=\"center\",\n",
    "        x=0.5\n",
    "    ),\n",
    "    #centers the title\n",
    "    title=dict(\n",
    "        text=\"Predicted Population and Average Daily Vistors for Unincorporated Clark County 1950 to 1980\",\n",
    "        x=0.5,  # 0=left, 0.5=center, 1=right\n",
    "        xanchor=\"center\"\n",
    "    )\n",
    ")\n",
    "\n",
    "fig.show()\n",
    "Population1950to1980_Predicted['Years Since 1950']=np.arange(len(Population1950to1980_Predicted))\n",
    "Population1950to1980_Predicted = Population1950to1980_Predicted.set_index('Year')\n",
    "#Population1950to1980_Predicted"
   ]
  },
  {
   "cell_type": "markdown",
   "id": "ebf802f7",
   "metadata": {},
   "source": [
    "Now for the real question since we live in mondern times.  How does this compare to the actual data?  Thankfully we have that data!\n",
    "<h3>A Comparison to the Real Data!</h3>"
   ]
  },
  {
   "cell_type": "code",
   "execution_count": 112,
   "id": "decdffdf",
   "metadata": {},
   "outputs": [],
   "source": [
    "# Step 1: Read Excel with Year as a normal column\n",
    "Population1950to1980 = pd.read_csv('Population Data - 1950 to 1980.csv')\n",
    "Population1950to1980_Predicted = Population1950to1980_Predicted.rename(columns={\"Unincorporated Clark County\": \"Predicted Unincorporated Clark County\"})\n",
    "Population1950to1980_Predicted = Population1950to1980_Predicted.rename(columns={'Average Daily Visitors': 'Predicted Average Daily Visitors'})"
   ]
  },
  {
   "cell_type": "code",
   "execution_count": 113,
   "id": "8c113f2c",
   "metadata": {},
   "outputs": [
    {
     "data": {
      "application/vnd.plotly.v1+json": {
       "config": {
        "plotlyServerURL": "https://plot.ly"
       },
       "data": [
        {
         "hovertemplate": "Area = %{fullData.name}<br>Year = %{x}<br>Population = %{y:,}<extra></extra>",
         "legendgroup": "Predicted Unincorporated Clark County",
         "line": {
          "color": "#636efa",
          "dash": "solid"
         },
         "marker": {
          "symbol": "circle"
         },
         "mode": "lines",
         "name": "Predicted Unincorporated Clark County",
         "orientation": "v",
         "showlegend": true,
         "type": "scatter",
         "x": {
          "bdata": "ngefB6AHoQeiB6MHpAelB6YHpweoB6kHqgerB6wHrQeuB68HsAexB7IHswe0B7UHtge3B7gHuQe6B7sHvAc=",
          "dtype": "i2"
         },
         "xaxis": "x",
         "y": {
          "bdata": "uicAAKktAACWMwAA5jkAABxAAADKRQAAzEsAAM9RAADSVwAA1V0AANhjAADbaQAA3m8AAOF1AADkewAA54EAAOqHAADtjQAA8JMAAPOZAAD2nwAA+aUAAPyrAAD/sQAAArgAAAW+AAAIxAAAC8oAAA7QAAAR1gAAFNwAAA==",
          "dtype": "i4"
         },
         "yaxis": "y"
        },
        {
         "hovertemplate": "Area = %{fullData.name}<br>Year = %{x}<br>Population = %{y:,}<extra></extra>",
         "legendgroup": "Actual Unincorporated Clark County",
         "line": {
          "color": "#EF553B",
          "dash": "solid"
         },
         "marker": {
          "symbol": "circle"
         },
         "mode": "lines",
         "name": "Actual Unincorporated Clark County",
         "orientation": "v",
         "showlegend": true,
         "type": "scatter",
         "x": {
          "bdata": "ngefB6AHoQeiB6MHpAelB6YHpweoB6kHqgerB6wHrQeuB68HsAexB7IHswe0B7UHtge3B7gHuQe6B7sHvAc=",
          "dtype": "i2"
         },
         "xaxis": "x",
         "y": {
          "bdata": "uicAAKktAACWMwAA5jkAABxAAADKRQAANk0AAPpSAACPWAAAL14AANVrAAB/ggAAppsAAHOzAAAbygAAwOAAALX5AAA1EgEAjCgBAORAAQBDXgEAyZABAMLKAQAFBAIA3zgCAFVpAgDalgIAiMcCAET8AgCDLAMAGWIDAA==",
          "dtype": "i4"
         },
         "yaxis": "y"
        },
        {
         "hovertemplate": "Area = %{fullData.name}<br>Year = %{x}<br>Population = %{y:,}<extra></extra>",
         "legendgroup": "Predicted Average Daily Visitors",
         "line": {
          "color": "#00cc96",
          "dash": "solid"
         },
         "marker": {
          "symbol": "circle"
         },
         "mode": "lines",
         "name": "Predicted Average Daily Visitors",
         "orientation": "v",
         "showlegend": true,
         "type": "scatter",
         "x": {
          "bdata": "ngefB6AHoQeiB6MHpAelB6YHpweoB6kHqgerB6wHrQeuB68HsAexB7IHswe0B7UHtge3B7gHuQe6B7sHvAc=",
          "dtype": "i2"
         },
         "xaxis": "x",
         "y": {
          "bdata": "6BdAGpgc8B5IIaAj+CVQKKgqAC1YL7AxCDRgNrg4EDtoPcA/GEJwRMhGIEl4S9BNKFCAUthUMFeIWeBbOF4=",
          "dtype": "i2"
         },
         "yaxis": "y"
        },
        {
         "hovertemplate": "Area = %{fullData.name}<br>Year = %{x}<br>Population = %{y:,}<extra></extra>",
         "legendgroup": "Actual Average Daily Visitors",
         "line": {
          "color": "#ab63fa",
          "dash": "solid"
         },
         "marker": {
          "symbol": "circle"
         },
         "mode": "lines",
         "name": "Actual Average Daily Visitors",
         "orientation": "v",
         "showlegend": true,
         "type": "scatter",
         "x": {
          "bdata": "ngefB6AHoQeiB6MHpAelB6YHpweoB6kHqgerB6wHrQeuB68HsAexB7IHswe0B7UHtge3B7gHuQe6B7sHvAc=",
          "dtype": "i2"
         },
         "xaxis": "x",
         "y": {
          "bdata": "6BdAGpgc8B5IIaAj+CVQKKgqAC1YL7AxCDRgNrg4EDtoPcA/GEJwRKRIyU7mVLJau1zwYURofWyhdyx9c38=",
          "dtype": "i2"
         },
         "yaxis": "y"
        }
       ],
       "layout": {
        "height": 600,
        "legend": {
         "orientation": "h",
         "title": {
          "side": "top center",
          "text": ""
         },
         "tracegroupgap": 0,
         "x": 0.5,
         "xanchor": "center",
         "y": -0.3,
         "yanchor": "top"
        },
        "template": {
         "data": {
          "bar": [
           {
            "error_x": {
             "color": "#2a3f5f"
            },
            "error_y": {
             "color": "#2a3f5f"
            },
            "marker": {
             "line": {
              "color": "#E5ECF6",
              "width": 0.5
             },
             "pattern": {
              "fillmode": "overlay",
              "size": 10,
              "solidity": 0.2
             }
            },
            "type": "bar"
           }
          ],
          "barpolar": [
           {
            "marker": {
             "line": {
              "color": "#E5ECF6",
              "width": 0.5
             },
             "pattern": {
              "fillmode": "overlay",
              "size": 10,
              "solidity": 0.2
             }
            },
            "type": "barpolar"
           }
          ],
          "carpet": [
           {
            "aaxis": {
             "endlinecolor": "#2a3f5f",
             "gridcolor": "white",
             "linecolor": "white",
             "minorgridcolor": "white",
             "startlinecolor": "#2a3f5f"
            },
            "baxis": {
             "endlinecolor": "#2a3f5f",
             "gridcolor": "white",
             "linecolor": "white",
             "minorgridcolor": "white",
             "startlinecolor": "#2a3f5f"
            },
            "type": "carpet"
           }
          ],
          "choropleth": [
           {
            "colorbar": {
             "outlinewidth": 0,
             "ticks": ""
            },
            "type": "choropleth"
           }
          ],
          "contour": [
           {
            "colorbar": {
             "outlinewidth": 0,
             "ticks": ""
            },
            "colorscale": [
             [
              0,
              "#0d0887"
             ],
             [
              0.1111111111111111,
              "#46039f"
             ],
             [
              0.2222222222222222,
              "#7201a8"
             ],
             [
              0.3333333333333333,
              "#9c179e"
             ],
             [
              0.4444444444444444,
              "#bd3786"
             ],
             [
              0.5555555555555556,
              "#d8576b"
             ],
             [
              0.6666666666666666,
              "#ed7953"
             ],
             [
              0.7777777777777778,
              "#fb9f3a"
             ],
             [
              0.8888888888888888,
              "#fdca26"
             ],
             [
              1,
              "#f0f921"
             ]
            ],
            "type": "contour"
           }
          ],
          "contourcarpet": [
           {
            "colorbar": {
             "outlinewidth": 0,
             "ticks": ""
            },
            "type": "contourcarpet"
           }
          ],
          "heatmap": [
           {
            "colorbar": {
             "outlinewidth": 0,
             "ticks": ""
            },
            "colorscale": [
             [
              0,
              "#0d0887"
             ],
             [
              0.1111111111111111,
              "#46039f"
             ],
             [
              0.2222222222222222,
              "#7201a8"
             ],
             [
              0.3333333333333333,
              "#9c179e"
             ],
             [
              0.4444444444444444,
              "#bd3786"
             ],
             [
              0.5555555555555556,
              "#d8576b"
             ],
             [
              0.6666666666666666,
              "#ed7953"
             ],
             [
              0.7777777777777778,
              "#fb9f3a"
             ],
             [
              0.8888888888888888,
              "#fdca26"
             ],
             [
              1,
              "#f0f921"
             ]
            ],
            "type": "heatmap"
           }
          ],
          "histogram": [
           {
            "marker": {
             "pattern": {
              "fillmode": "overlay",
              "size": 10,
              "solidity": 0.2
             }
            },
            "type": "histogram"
           }
          ],
          "histogram2d": [
           {
            "colorbar": {
             "outlinewidth": 0,
             "ticks": ""
            },
            "colorscale": [
             [
              0,
              "#0d0887"
             ],
             [
              0.1111111111111111,
              "#46039f"
             ],
             [
              0.2222222222222222,
              "#7201a8"
             ],
             [
              0.3333333333333333,
              "#9c179e"
             ],
             [
              0.4444444444444444,
              "#bd3786"
             ],
             [
              0.5555555555555556,
              "#d8576b"
             ],
             [
              0.6666666666666666,
              "#ed7953"
             ],
             [
              0.7777777777777778,
              "#fb9f3a"
             ],
             [
              0.8888888888888888,
              "#fdca26"
             ],
             [
              1,
              "#f0f921"
             ]
            ],
            "type": "histogram2d"
           }
          ],
          "histogram2dcontour": [
           {
            "colorbar": {
             "outlinewidth": 0,
             "ticks": ""
            },
            "colorscale": [
             [
              0,
              "#0d0887"
             ],
             [
              0.1111111111111111,
              "#46039f"
             ],
             [
              0.2222222222222222,
              "#7201a8"
             ],
             [
              0.3333333333333333,
              "#9c179e"
             ],
             [
              0.4444444444444444,
              "#bd3786"
             ],
             [
              0.5555555555555556,
              "#d8576b"
             ],
             [
              0.6666666666666666,
              "#ed7953"
             ],
             [
              0.7777777777777778,
              "#fb9f3a"
             ],
             [
              0.8888888888888888,
              "#fdca26"
             ],
             [
              1,
              "#f0f921"
             ]
            ],
            "type": "histogram2dcontour"
           }
          ],
          "mesh3d": [
           {
            "colorbar": {
             "outlinewidth": 0,
             "ticks": ""
            },
            "type": "mesh3d"
           }
          ],
          "parcoords": [
           {
            "line": {
             "colorbar": {
              "outlinewidth": 0,
              "ticks": ""
             }
            },
            "type": "parcoords"
           }
          ],
          "pie": [
           {
            "automargin": true,
            "type": "pie"
           }
          ],
          "scatter": [
           {
            "fillpattern": {
             "fillmode": "overlay",
             "size": 10,
             "solidity": 0.2
            },
            "type": "scatter"
           }
          ],
          "scatter3d": [
           {
            "line": {
             "colorbar": {
              "outlinewidth": 0,
              "ticks": ""
             }
            },
            "marker": {
             "colorbar": {
              "outlinewidth": 0,
              "ticks": ""
             }
            },
            "type": "scatter3d"
           }
          ],
          "scattercarpet": [
           {
            "marker": {
             "colorbar": {
              "outlinewidth": 0,
              "ticks": ""
             }
            },
            "type": "scattercarpet"
           }
          ],
          "scattergeo": [
           {
            "marker": {
             "colorbar": {
              "outlinewidth": 0,
              "ticks": ""
             }
            },
            "type": "scattergeo"
           }
          ],
          "scattergl": [
           {
            "marker": {
             "colorbar": {
              "outlinewidth": 0,
              "ticks": ""
             }
            },
            "type": "scattergl"
           }
          ],
          "scattermap": [
           {
            "marker": {
             "colorbar": {
              "outlinewidth": 0,
              "ticks": ""
             }
            },
            "type": "scattermap"
           }
          ],
          "scattermapbox": [
           {
            "marker": {
             "colorbar": {
              "outlinewidth": 0,
              "ticks": ""
             }
            },
            "type": "scattermapbox"
           }
          ],
          "scatterpolar": [
           {
            "marker": {
             "colorbar": {
              "outlinewidth": 0,
              "ticks": ""
             }
            },
            "type": "scatterpolar"
           }
          ],
          "scatterpolargl": [
           {
            "marker": {
             "colorbar": {
              "outlinewidth": 0,
              "ticks": ""
             }
            },
            "type": "scatterpolargl"
           }
          ],
          "scatterternary": [
           {
            "marker": {
             "colorbar": {
              "outlinewidth": 0,
              "ticks": ""
             }
            },
            "type": "scatterternary"
           }
          ],
          "surface": [
           {
            "colorbar": {
             "outlinewidth": 0,
             "ticks": ""
            },
            "colorscale": [
             [
              0,
              "#0d0887"
             ],
             [
              0.1111111111111111,
              "#46039f"
             ],
             [
              0.2222222222222222,
              "#7201a8"
             ],
             [
              0.3333333333333333,
              "#9c179e"
             ],
             [
              0.4444444444444444,
              "#bd3786"
             ],
             [
              0.5555555555555556,
              "#d8576b"
             ],
             [
              0.6666666666666666,
              "#ed7953"
             ],
             [
              0.7777777777777778,
              "#fb9f3a"
             ],
             [
              0.8888888888888888,
              "#fdca26"
             ],
             [
              1,
              "#f0f921"
             ]
            ],
            "type": "surface"
           }
          ],
          "table": [
           {
            "cells": {
             "fill": {
              "color": "#EBF0F8"
             },
             "line": {
              "color": "white"
             }
            },
            "header": {
             "fill": {
              "color": "#C8D4E3"
             },
             "line": {
              "color": "white"
             }
            },
            "type": "table"
           }
          ]
         },
         "layout": {
          "annotationdefaults": {
           "arrowcolor": "#2a3f5f",
           "arrowhead": 0,
           "arrowwidth": 1
          },
          "autotypenumbers": "strict",
          "coloraxis": {
           "colorbar": {
            "outlinewidth": 0,
            "ticks": ""
           }
          },
          "colorscale": {
           "diverging": [
            [
             0,
             "#8e0152"
            ],
            [
             0.1,
             "#c51b7d"
            ],
            [
             0.2,
             "#de77ae"
            ],
            [
             0.3,
             "#f1b6da"
            ],
            [
             0.4,
             "#fde0ef"
            ],
            [
             0.5,
             "#f7f7f7"
            ],
            [
             0.6,
             "#e6f5d0"
            ],
            [
             0.7,
             "#b8e186"
            ],
            [
             0.8,
             "#7fbc41"
            ],
            [
             0.9,
             "#4d9221"
            ],
            [
             1,
             "#276419"
            ]
           ],
           "sequential": [
            [
             0,
             "#0d0887"
            ],
            [
             0.1111111111111111,
             "#46039f"
            ],
            [
             0.2222222222222222,
             "#7201a8"
            ],
            [
             0.3333333333333333,
             "#9c179e"
            ],
            [
             0.4444444444444444,
             "#bd3786"
            ],
            [
             0.5555555555555556,
             "#d8576b"
            ],
            [
             0.6666666666666666,
             "#ed7953"
            ],
            [
             0.7777777777777778,
             "#fb9f3a"
            ],
            [
             0.8888888888888888,
             "#fdca26"
            ],
            [
             1,
             "#f0f921"
            ]
           ],
           "sequentialminus": [
            [
             0,
             "#0d0887"
            ],
            [
             0.1111111111111111,
             "#46039f"
            ],
            [
             0.2222222222222222,
             "#7201a8"
            ],
            [
             0.3333333333333333,
             "#9c179e"
            ],
            [
             0.4444444444444444,
             "#bd3786"
            ],
            [
             0.5555555555555556,
             "#d8576b"
            ],
            [
             0.6666666666666666,
             "#ed7953"
            ],
            [
             0.7777777777777778,
             "#fb9f3a"
            ],
            [
             0.8888888888888888,
             "#fdca26"
            ],
            [
             1,
             "#f0f921"
            ]
           ]
          },
          "colorway": [
           "#636efa",
           "#EF553B",
           "#00cc96",
           "#ab63fa",
           "#FFA15A",
           "#19d3f3",
           "#FF6692",
           "#B6E880",
           "#FF97FF",
           "#FECB52"
          ],
          "font": {
           "color": "#2a3f5f"
          },
          "geo": {
           "bgcolor": "white",
           "lakecolor": "white",
           "landcolor": "#E5ECF6",
           "showlakes": true,
           "showland": true,
           "subunitcolor": "white"
          },
          "hoverlabel": {
           "align": "left"
          },
          "hovermode": "closest",
          "mapbox": {
           "style": "light"
          },
          "paper_bgcolor": "white",
          "plot_bgcolor": "#E5ECF6",
          "polar": {
           "angularaxis": {
            "gridcolor": "white",
            "linecolor": "white",
            "ticks": ""
           },
           "bgcolor": "#E5ECF6",
           "radialaxis": {
            "gridcolor": "white",
            "linecolor": "white",
            "ticks": ""
           }
          },
          "scene": {
           "xaxis": {
            "backgroundcolor": "#E5ECF6",
            "gridcolor": "white",
            "gridwidth": 2,
            "linecolor": "white",
            "showbackground": true,
            "ticks": "",
            "zerolinecolor": "white"
           },
           "yaxis": {
            "backgroundcolor": "#E5ECF6",
            "gridcolor": "white",
            "gridwidth": 2,
            "linecolor": "white",
            "showbackground": true,
            "ticks": "",
            "zerolinecolor": "white"
           },
           "zaxis": {
            "backgroundcolor": "#E5ECF6",
            "gridcolor": "white",
            "gridwidth": 2,
            "linecolor": "white",
            "showbackground": true,
            "ticks": "",
            "zerolinecolor": "white"
           }
          },
          "shapedefaults": {
           "line": {
            "color": "#2a3f5f"
           }
          },
          "ternary": {
           "aaxis": {
            "gridcolor": "white",
            "linecolor": "white",
            "ticks": ""
           },
           "baxis": {
            "gridcolor": "white",
            "linecolor": "white",
            "ticks": ""
           },
           "bgcolor": "#E5ECF6",
           "caxis": {
            "gridcolor": "white",
            "linecolor": "white",
            "ticks": ""
           }
          },
          "title": {
           "x": 0.05
          },
          "xaxis": {
           "automargin": true,
           "gridcolor": "white",
           "linecolor": "white",
           "ticks": "",
           "title": {
            "standoff": 15
           },
           "zerolinecolor": "white",
           "zerolinewidth": 2
          },
          "yaxis": {
           "automargin": true,
           "gridcolor": "white",
           "linecolor": "white",
           "ticks": "",
           "title": {
            "standoff": 15
           },
           "zerolinecolor": "white",
           "zerolinewidth": 2
          }
         }
        },
        "title": {
         "text": "Predicted and Actual Population and Average Daily Vistors for Unincorporated Clark County 1950 to 1980",
         "x": 0.5,
         "xanchor": "center"
        },
        "width": 1200,
        "xaxis": {
         "anchor": "y",
         "domain": [
          0,
          1
         ],
         "title": {
          "text": "Year"
         }
        },
        "yaxis": {
         "anchor": "x",
         "domain": [
          0,
          1
         ],
         "title": {
          "text": "Population"
         }
        }
       }
      }
     },
     "metadata": {},
     "output_type": "display_data"
    }
   ],
   "source": [
    "Population1950to1980_Merged = pd.merge(\n",
    "    Population1950to1980_Predicted.reset_index(),\n",
    "    Population1950to1980.reset_index(),\n",
    "    on=\"Year\",\n",
    "    how=\"outer\"   # or 'inner' depending on whether you want all years or only common years\n",
    ")\n",
    "# Reshape wide → long for Plotly (all airlines in one column)\n",
    "df_long = Population1950to1980_Merged.melt(id_vars='Year', \n",
    "                           value_vars=['Predicted Unincorporated Clark County',\n",
    "                                       'Actual Unincorporated Clark County','Predicted Average Daily Visitors', 'Actual Average Daily Visitors'], \n",
    "                           var_name='Area', value_name='Population')\n",
    "\n",
    "fig = px.line(\n",
    "    df_long,\n",
    "    x='Year', y='Population', color=\"Area\",\n",
    "    title=\"Predicted and Actual Population and Average Daily Vistors for Unincorporated Clark County 1950 to 1980\",\n",
    "    labels={'Population' : \"Population\"}\n",
    ")\n",
    "\n",
    "fig.update_traces(\n",
    "    hovertemplate=(\n",
    "        \"Area = %{fullData.name}<br>\"\n",
    "        \"Year = %{x}<br>\"\n",
    "        \"Population = %{y:,}\"\n",
    "        \"<extra></extra>\"\n",
    "    )\n",
    ")\n",
    "\n",
    "fig.update_layout(\n",
    "    width=1200, height=600,\n",
    "    yaxis_title=\"Population\",\n",
    "    #this puts the legend on the bottom\n",
    "    legend=dict(\n",
    "        title=dict(text=\"\", side='top center'),  # legend title above items\n",
    "        orientation=\"h\",     # horizontal layout\n",
    "        yanchor=\"top\",\n",
    "        y=-0.3,              # push below chart\n",
    "        xanchor=\"center\",\n",
    "        x=0.5\n",
    "    ),\n",
    "    #centers the title\n",
    "    title=dict(\n",
    "        text=\"Predicted and Actual Population and Average Daily Vistors for Unincorporated Clark County 1950 to 1980\",\n",
    "        x=0.5,  # 0=left, 0.5=center, 1=right\n",
    "        xanchor=\"center\"\n",
    "    )\n",
    ")\n",
    "\n",
    "\n",
    "fig.show()\n",
    "#Population1950to1955\n"
   ]
  },
  {
   "cell_type": "markdown",
   "id": "1588317a",
   "metadata": {},
   "source": [
    "In the figure above try comparing the total populations for each category, in particular the values for the daily visitors and Unincorporated Clark County Population... <br>\n",
    "As you can see the daily visitors are underestimated by as much as 33% and the Unincorporated Clark County Population was underestimated by a factor of four!  <br>\n",
    "What happened?  This is one of the biggest challenges of planning for any type of utility or improvement related to population is that what was linear at first can change with time or simply increase more per year than we had initially predicted.  <b>This is normal and this is why our estimates always need to be verified and updated when new data arises to make sure our facilities are adequately sized! Our original assumptions could very well have happened had our area not experienced explosive growth.</b>\n",
    "<br><br>Thankfully we have modern tools and much more access to data, so it is easier to update these estimates.  We also now have access to modern computers to assist us in this process!"
   ]
  },
  {
   "cell_type": "code",
   "execution_count": 114,
   "id": "2444f15f",
   "metadata": {},
   "outputs": [],
   "source": [
    "\n",
    "\n",
    "# If 'Year' is the index, bring it back first (safe to call even if it's already a column)\n",
    "#Population1950to1955 = Population1950to1955.set_index('Year')\n",
    "#Population1950to1955 = Population1950to1955.set_index('Year')\n",
    "df = Population1950to1955.reset_index()\n",
    "\n",
    "col_to_fit = \"Average Daily Visitors\"   # <-- change this if needed\n",
    "\n",
    "## 1) Use only 1950–1955 data (and positive values for log fit)\n",
    "fit_slice = df[(df[\"Year\"] >= 1950) & (df[\"Year\"] <= 1955)][[\"Year\", col_to_fit]].dropna()\n",
    "it_slice = fit_slice[fit_slice[col_to_fit] > 0]\n",
    "\n",
    "# 2) Fit ln(y) = ln(a) + b*(x - x0) to improve numerical stability (x0 = first year in slice)\n",
    "x0 = int(fit_slice[\"Year\"].min())\n",
    "X_fit = (fit_slice[\"Year\"] - x0).to_numpy(dtype=int)\n",
    "y_fit = fit_slice[col_to_fit].to_numpy(dtype=int)\n",
    "\n",
    "slope, intercept = np.polyfit(X_fit, np.log(y_fit), 1)\n",
    "a = np.exp(intercept)\n",
    "b = slope  # note: model is y = a * exp(b * (x - x0))\n",
    "\n",
    "# 3) Build smooth curve over 1950–1955 (or extend further if you want)\n",
    "years_curve = np.arange(1950, 1955 + 0.1, 0.1)  # smooth line within the fit window\n",
    "y_curve = a * np.exp(b * (years_curve - x0))\n",
    "\n",
    "Population1950to1980_Predicted['Exponential Predicted Average Daily Visitors'] = (\n",
    "    a * np.exp(b * (Population1950to1980_Predicted.index.to_numpy(dtype=int) - x0))\n",
    ").astype(\"int64\")\n",
    "\n",
    "#Population1950to1955 = Population1950to1955.set_index('Year')\n",
    "# (Optional) show fitted parameters in console\n",
    "#print(f\"Fitted model for '{col_to_fit}': y = {a:.3g} * exp({b:.3g} * (Year - {x0}))\")\n",
    "#Population1950to1980_Predicted"
   ]
  },
  {
   "cell_type": "code",
   "execution_count": 115,
   "id": "b4c6fab0",
   "metadata": {},
   "outputs": [],
   "source": [
    "# If 'Year' is the index, bring it back first (safe to call even if it's already a column)\n",
    "df = Population1950to1955.reset_index()\n",
    "\n",
    "col_to_fit = \"Unincorporated Clark County\"   # <-- change this if needed\n",
    "\n",
    "# 1) Use only 1950–1955 data (and positive values for log fit)\n",
    "fit_slice = df[(df[\"Year\"] >= 1950) & (df[\"Year\"] <= 1955)][[\"Year\", col_to_fit]].dropna()\n",
    "fit_slice = fit_slice[fit_slice[col_to_fit] > 0]\n",
    "\n",
    "# 2) Fit ln(y) = ln(a) + b*(x - x0) to improve numerical stability (x0 = first year in slice)\n",
    "x0 = int(fit_slice[\"Year\"].min())\n",
    "X_fit = (fit_slice[\"Year\"] - x0).to_numpy(dtype=float)\n",
    "y_fit = fit_slice[col_to_fit].to_numpy(dtype=float)\n",
    "\n",
    "slope, intercept = np.polyfit(X_fit, np.log(y_fit), 1)\n",
    "a = np.exp(intercept)\n",
    "b = slope  # note: model is y = a * exp(b * (x - x0))\n",
    "\n",
    "# 3) Build smooth curve over 1950–1955 (or extend further if you want)\n",
    "years_curve = np.arange(1950, 1955 + 0.1, 0.1)  # smooth line within the fit window\n",
    "y_curve = a * np.exp(b * (years_curve - x0))\n",
    "\n",
    "Population1950to1980_Predicted['Exponential Predicted Unincorporated Clark County'] = (\n",
    "    a * np.exp(b * (Population1950to1980_Predicted.index.to_numpy(dtype=int) - x0))\n",
    ").astype(\"int64\")\n",
    "\n",
    "#Population1950to1955 = Population1950to1955.set_index('Year')\n",
    "#Population1950to1980_Predicted"
   ]
  },
  {
   "cell_type": "markdown",
   "id": "c941d975",
   "metadata": {},
   "source": [
    "\n",
    "Here is a graph showing an exponential comparison to the data."
   ]
  },
  {
   "cell_type": "code",
   "execution_count": 116,
   "id": "17fbf7a4",
   "metadata": {},
   "outputs": [
    {
     "data": {
      "application/vnd.plotly.v1+json": {
       "config": {
        "plotlyServerURL": "https://plot.ly"
       },
       "data": [
        {
         "hovertemplate": "Area = %{fullData.name}<br>Year = %{x}<br>Population = %{y:,}<extra></extra>",
         "legendgroup": "Exponential Predicted Unincorporated Clark County",
         "line": {
          "color": "#636efa",
          "dash": "solid"
         },
         "marker": {
          "symbol": "circle"
         },
         "mode": "lines",
         "name": "Exponential Predicted Unincorporated Clark County",
         "orientation": "v",
         "showlegend": true,
         "type": "scatter",
         "x": {
          "bdata": "ngefB6AHoQeiB6MHpAelB6YHpweoB6kHqgerB6wHrQeuB68HsAexB7IHswe0B7UHtge3B7gHuQe6B7sHvAc=",
          "dtype": "i2"
         },
         "xaxis": "x",
         "y": {
          "bdata": "kSgAAGotAADYMgAA6zgAALg/AABWRwAA3E8AAGdZAAAWZAAADHAAAHB9AABtjAAANZ0AAP6vAAAGxQAAkdwAAO32AABvFAEAeDUBAHNaAQDZgwEAMrIBABXmAQArIAIAMmECAP6pAgB++wIAulYDAN28AwA1LwQAN68EAA==",
          "dtype": "i4"
         },
         "yaxis": "y"
        },
        {
         "hovertemplate": "Area = %{fullData.name}<br>Year = %{x}<br>Population = %{y:,}<extra></extra>",
         "legendgroup": "Actual Unincorporated Clark County",
         "line": {
          "color": "#EF553B",
          "dash": "solid"
         },
         "marker": {
          "symbol": "circle"
         },
         "mode": "lines",
         "name": "Actual Unincorporated Clark County",
         "orientation": "v",
         "showlegend": true,
         "type": "scatter",
         "x": {
          "bdata": "ngefB6AHoQeiB6MHpAelB6YHpweoB6kHqgerB6wHrQeuB68HsAexB7IHswe0B7UHtge3B7gHuQe6B7sHvAc=",
          "dtype": "i2"
         },
         "xaxis": "x",
         "y": {
          "bdata": "uicAAKktAACWMwAA5jkAABxAAADKRQAANk0AAPpSAACPWAAAL14AANVrAAB/ggAAppsAAHOzAAAbygAAwOAAALX5AAA1EgEAjCgBAORAAQBDXgEAyZABAMLKAQAFBAIA3zgCAFVpAgDalgIAiMcCAET8AgCDLAMAGWIDAA==",
          "dtype": "i4"
         },
         "yaxis": "y"
        },
        {
         "hovertemplate": "Area = %{fullData.name}<br>Year = %{x}<br>Population = %{y:,}<extra></extra>",
         "legendgroup": "Exponential Predicted Average Daily Visitors",
         "line": {
          "color": "#00cc96",
          "dash": "solid"
         },
         "marker": {
          "symbol": "circle"
         },
         "mode": "lines",
         "name": "Exponential Predicted Average Daily Visitors",
         "orientation": "v",
         "showlegend": true,
         "type": "scatter",
         "x": {
          "bdata": "ngefB6AHoQeiB6MHpAelB6YHpweoB6kHqgerB6wHrQeuB68HsAexB7IHswe0B7UHtge3B7gHuQe6B7sHvAc=",
          "dtype": "i2"
         },
         "xaxis": "x",
         "y": {
          "bdata": "LBgAACwaAABXHAAAsB4AADshAAD8IwAA9yYAADEqAACwLQAAeTEAAJI1AAACOgAA0D4AAAREAACmSQAAwE8AAFtWAACCXQAAQWUAAKRtAAC5dgAAj4AAADWLAAC9lgAAOqMAAL+wAABjvwAAPc8AAGjgAAD+8gAAHwcBAA==",
          "dtype": "i4"
         },
         "yaxis": "y"
        },
        {
         "hovertemplate": "Area = %{fullData.name}<br>Year = %{x}<br>Population = %{y:,}<extra></extra>",
         "legendgroup": "Actual Average Daily Visitors",
         "line": {
          "color": "#ab63fa",
          "dash": "solid"
         },
         "marker": {
          "symbol": "circle"
         },
         "mode": "lines",
         "name": "Actual Average Daily Visitors",
         "orientation": "v",
         "showlegend": true,
         "type": "scatter",
         "x": {
          "bdata": "ngefB6AHoQeiB6MHpAelB6YHpweoB6kHqgerB6wHrQeuB68HsAexB7IHswe0B7UHtge3B7gHuQe6B7sHvAc=",
          "dtype": "i2"
         },
         "xaxis": "x",
         "y": {
          "bdata": "6BdAGpgc8B5IIaAj+CVQKKgqAC1YL7AxCDRgNrg4EDtoPcA/GEJwRKRIyU7mVLJau1zwYURofWyhdyx9c38=",
          "dtype": "i2"
         },
         "yaxis": "y"
        }
       ],
       "layout": {
        "height": 600,
        "legend": {
         "orientation": "h",
         "title": {
          "side": "top center",
          "text": ""
         },
         "tracegroupgap": 0,
         "x": 0.5,
         "xanchor": "center",
         "y": -0.3,
         "yanchor": "top"
        },
        "template": {
         "data": {
          "bar": [
           {
            "error_x": {
             "color": "#2a3f5f"
            },
            "error_y": {
             "color": "#2a3f5f"
            },
            "marker": {
             "line": {
              "color": "#E5ECF6",
              "width": 0.5
             },
             "pattern": {
              "fillmode": "overlay",
              "size": 10,
              "solidity": 0.2
             }
            },
            "type": "bar"
           }
          ],
          "barpolar": [
           {
            "marker": {
             "line": {
              "color": "#E5ECF6",
              "width": 0.5
             },
             "pattern": {
              "fillmode": "overlay",
              "size": 10,
              "solidity": 0.2
             }
            },
            "type": "barpolar"
           }
          ],
          "carpet": [
           {
            "aaxis": {
             "endlinecolor": "#2a3f5f",
             "gridcolor": "white",
             "linecolor": "white",
             "minorgridcolor": "white",
             "startlinecolor": "#2a3f5f"
            },
            "baxis": {
             "endlinecolor": "#2a3f5f",
             "gridcolor": "white",
             "linecolor": "white",
             "minorgridcolor": "white",
             "startlinecolor": "#2a3f5f"
            },
            "type": "carpet"
           }
          ],
          "choropleth": [
           {
            "colorbar": {
             "outlinewidth": 0,
             "ticks": ""
            },
            "type": "choropleth"
           }
          ],
          "contour": [
           {
            "colorbar": {
             "outlinewidth": 0,
             "ticks": ""
            },
            "colorscale": [
             [
              0,
              "#0d0887"
             ],
             [
              0.1111111111111111,
              "#46039f"
             ],
             [
              0.2222222222222222,
              "#7201a8"
             ],
             [
              0.3333333333333333,
              "#9c179e"
             ],
             [
              0.4444444444444444,
              "#bd3786"
             ],
             [
              0.5555555555555556,
              "#d8576b"
             ],
             [
              0.6666666666666666,
              "#ed7953"
             ],
             [
              0.7777777777777778,
              "#fb9f3a"
             ],
             [
              0.8888888888888888,
              "#fdca26"
             ],
             [
              1,
              "#f0f921"
             ]
            ],
            "type": "contour"
           }
          ],
          "contourcarpet": [
           {
            "colorbar": {
             "outlinewidth": 0,
             "ticks": ""
            },
            "type": "contourcarpet"
           }
          ],
          "heatmap": [
           {
            "colorbar": {
             "outlinewidth": 0,
             "ticks": ""
            },
            "colorscale": [
             [
              0,
              "#0d0887"
             ],
             [
              0.1111111111111111,
              "#46039f"
             ],
             [
              0.2222222222222222,
              "#7201a8"
             ],
             [
              0.3333333333333333,
              "#9c179e"
             ],
             [
              0.4444444444444444,
              "#bd3786"
             ],
             [
              0.5555555555555556,
              "#d8576b"
             ],
             [
              0.6666666666666666,
              "#ed7953"
             ],
             [
              0.7777777777777778,
              "#fb9f3a"
             ],
             [
              0.8888888888888888,
              "#fdca26"
             ],
             [
              1,
              "#f0f921"
             ]
            ],
            "type": "heatmap"
           }
          ],
          "histogram": [
           {
            "marker": {
             "pattern": {
              "fillmode": "overlay",
              "size": 10,
              "solidity": 0.2
             }
            },
            "type": "histogram"
           }
          ],
          "histogram2d": [
           {
            "colorbar": {
             "outlinewidth": 0,
             "ticks": ""
            },
            "colorscale": [
             [
              0,
              "#0d0887"
             ],
             [
              0.1111111111111111,
              "#46039f"
             ],
             [
              0.2222222222222222,
              "#7201a8"
             ],
             [
              0.3333333333333333,
              "#9c179e"
             ],
             [
              0.4444444444444444,
              "#bd3786"
             ],
             [
              0.5555555555555556,
              "#d8576b"
             ],
             [
              0.6666666666666666,
              "#ed7953"
             ],
             [
              0.7777777777777778,
              "#fb9f3a"
             ],
             [
              0.8888888888888888,
              "#fdca26"
             ],
             [
              1,
              "#f0f921"
             ]
            ],
            "type": "histogram2d"
           }
          ],
          "histogram2dcontour": [
           {
            "colorbar": {
             "outlinewidth": 0,
             "ticks": ""
            },
            "colorscale": [
             [
              0,
              "#0d0887"
             ],
             [
              0.1111111111111111,
              "#46039f"
             ],
             [
              0.2222222222222222,
              "#7201a8"
             ],
             [
              0.3333333333333333,
              "#9c179e"
             ],
             [
              0.4444444444444444,
              "#bd3786"
             ],
             [
              0.5555555555555556,
              "#d8576b"
             ],
             [
              0.6666666666666666,
              "#ed7953"
             ],
             [
              0.7777777777777778,
              "#fb9f3a"
             ],
             [
              0.8888888888888888,
              "#fdca26"
             ],
             [
              1,
              "#f0f921"
             ]
            ],
            "type": "histogram2dcontour"
           }
          ],
          "mesh3d": [
           {
            "colorbar": {
             "outlinewidth": 0,
             "ticks": ""
            },
            "type": "mesh3d"
           }
          ],
          "parcoords": [
           {
            "line": {
             "colorbar": {
              "outlinewidth": 0,
              "ticks": ""
             }
            },
            "type": "parcoords"
           }
          ],
          "pie": [
           {
            "automargin": true,
            "type": "pie"
           }
          ],
          "scatter": [
           {
            "fillpattern": {
             "fillmode": "overlay",
             "size": 10,
             "solidity": 0.2
            },
            "type": "scatter"
           }
          ],
          "scatter3d": [
           {
            "line": {
             "colorbar": {
              "outlinewidth": 0,
              "ticks": ""
             }
            },
            "marker": {
             "colorbar": {
              "outlinewidth": 0,
              "ticks": ""
             }
            },
            "type": "scatter3d"
           }
          ],
          "scattercarpet": [
           {
            "marker": {
             "colorbar": {
              "outlinewidth": 0,
              "ticks": ""
             }
            },
            "type": "scattercarpet"
           }
          ],
          "scattergeo": [
           {
            "marker": {
             "colorbar": {
              "outlinewidth": 0,
              "ticks": ""
             }
            },
            "type": "scattergeo"
           }
          ],
          "scattergl": [
           {
            "marker": {
             "colorbar": {
              "outlinewidth": 0,
              "ticks": ""
             }
            },
            "type": "scattergl"
           }
          ],
          "scattermap": [
           {
            "marker": {
             "colorbar": {
              "outlinewidth": 0,
              "ticks": ""
             }
            },
            "type": "scattermap"
           }
          ],
          "scattermapbox": [
           {
            "marker": {
             "colorbar": {
              "outlinewidth": 0,
              "ticks": ""
             }
            },
            "type": "scattermapbox"
           }
          ],
          "scatterpolar": [
           {
            "marker": {
             "colorbar": {
              "outlinewidth": 0,
              "ticks": ""
             }
            },
            "type": "scatterpolar"
           }
          ],
          "scatterpolargl": [
           {
            "marker": {
             "colorbar": {
              "outlinewidth": 0,
              "ticks": ""
             }
            },
            "type": "scatterpolargl"
           }
          ],
          "scatterternary": [
           {
            "marker": {
             "colorbar": {
              "outlinewidth": 0,
              "ticks": ""
             }
            },
            "type": "scatterternary"
           }
          ],
          "surface": [
           {
            "colorbar": {
             "outlinewidth": 0,
             "ticks": ""
            },
            "colorscale": [
             [
              0,
              "#0d0887"
             ],
             [
              0.1111111111111111,
              "#46039f"
             ],
             [
              0.2222222222222222,
              "#7201a8"
             ],
             [
              0.3333333333333333,
              "#9c179e"
             ],
             [
              0.4444444444444444,
              "#bd3786"
             ],
             [
              0.5555555555555556,
              "#d8576b"
             ],
             [
              0.6666666666666666,
              "#ed7953"
             ],
             [
              0.7777777777777778,
              "#fb9f3a"
             ],
             [
              0.8888888888888888,
              "#fdca26"
             ],
             [
              1,
              "#f0f921"
             ]
            ],
            "type": "surface"
           }
          ],
          "table": [
           {
            "cells": {
             "fill": {
              "color": "#EBF0F8"
             },
             "line": {
              "color": "white"
             }
            },
            "header": {
             "fill": {
              "color": "#C8D4E3"
             },
             "line": {
              "color": "white"
             }
            },
            "type": "table"
           }
          ]
         },
         "layout": {
          "annotationdefaults": {
           "arrowcolor": "#2a3f5f",
           "arrowhead": 0,
           "arrowwidth": 1
          },
          "autotypenumbers": "strict",
          "coloraxis": {
           "colorbar": {
            "outlinewidth": 0,
            "ticks": ""
           }
          },
          "colorscale": {
           "diverging": [
            [
             0,
             "#8e0152"
            ],
            [
             0.1,
             "#c51b7d"
            ],
            [
             0.2,
             "#de77ae"
            ],
            [
             0.3,
             "#f1b6da"
            ],
            [
             0.4,
             "#fde0ef"
            ],
            [
             0.5,
             "#f7f7f7"
            ],
            [
             0.6,
             "#e6f5d0"
            ],
            [
             0.7,
             "#b8e186"
            ],
            [
             0.8,
             "#7fbc41"
            ],
            [
             0.9,
             "#4d9221"
            ],
            [
             1,
             "#276419"
            ]
           ],
           "sequential": [
            [
             0,
             "#0d0887"
            ],
            [
             0.1111111111111111,
             "#46039f"
            ],
            [
             0.2222222222222222,
             "#7201a8"
            ],
            [
             0.3333333333333333,
             "#9c179e"
            ],
            [
             0.4444444444444444,
             "#bd3786"
            ],
            [
             0.5555555555555556,
             "#d8576b"
            ],
            [
             0.6666666666666666,
             "#ed7953"
            ],
            [
             0.7777777777777778,
             "#fb9f3a"
            ],
            [
             0.8888888888888888,
             "#fdca26"
            ],
            [
             1,
             "#f0f921"
            ]
           ],
           "sequentialminus": [
            [
             0,
             "#0d0887"
            ],
            [
             0.1111111111111111,
             "#46039f"
            ],
            [
             0.2222222222222222,
             "#7201a8"
            ],
            [
             0.3333333333333333,
             "#9c179e"
            ],
            [
             0.4444444444444444,
             "#bd3786"
            ],
            [
             0.5555555555555556,
             "#d8576b"
            ],
            [
             0.6666666666666666,
             "#ed7953"
            ],
            [
             0.7777777777777778,
             "#fb9f3a"
            ],
            [
             0.8888888888888888,
             "#fdca26"
            ],
            [
             1,
             "#f0f921"
            ]
           ]
          },
          "colorway": [
           "#636efa",
           "#EF553B",
           "#00cc96",
           "#ab63fa",
           "#FFA15A",
           "#19d3f3",
           "#FF6692",
           "#B6E880",
           "#FF97FF",
           "#FECB52"
          ],
          "font": {
           "color": "#2a3f5f"
          },
          "geo": {
           "bgcolor": "white",
           "lakecolor": "white",
           "landcolor": "#E5ECF6",
           "showlakes": true,
           "showland": true,
           "subunitcolor": "white"
          },
          "hoverlabel": {
           "align": "left"
          },
          "hovermode": "closest",
          "mapbox": {
           "style": "light"
          },
          "paper_bgcolor": "white",
          "plot_bgcolor": "#E5ECF6",
          "polar": {
           "angularaxis": {
            "gridcolor": "white",
            "linecolor": "white",
            "ticks": ""
           },
           "bgcolor": "#E5ECF6",
           "radialaxis": {
            "gridcolor": "white",
            "linecolor": "white",
            "ticks": ""
           }
          },
          "scene": {
           "xaxis": {
            "backgroundcolor": "#E5ECF6",
            "gridcolor": "white",
            "gridwidth": 2,
            "linecolor": "white",
            "showbackground": true,
            "ticks": "",
            "zerolinecolor": "white"
           },
           "yaxis": {
            "backgroundcolor": "#E5ECF6",
            "gridcolor": "white",
            "gridwidth": 2,
            "linecolor": "white",
            "showbackground": true,
            "ticks": "",
            "zerolinecolor": "white"
           },
           "zaxis": {
            "backgroundcolor": "#E5ECF6",
            "gridcolor": "white",
            "gridwidth": 2,
            "linecolor": "white",
            "showbackground": true,
            "ticks": "",
            "zerolinecolor": "white"
           }
          },
          "shapedefaults": {
           "line": {
            "color": "#2a3f5f"
           }
          },
          "ternary": {
           "aaxis": {
            "gridcolor": "white",
            "linecolor": "white",
            "ticks": ""
           },
           "baxis": {
            "gridcolor": "white",
            "linecolor": "white",
            "ticks": ""
           },
           "bgcolor": "#E5ECF6",
           "caxis": {
            "gridcolor": "white",
            "linecolor": "white",
            "ticks": ""
           }
          },
          "title": {
           "x": 0.05
          },
          "xaxis": {
           "automargin": true,
           "gridcolor": "white",
           "linecolor": "white",
           "ticks": "",
           "title": {
            "standoff": 15
           },
           "zerolinecolor": "white",
           "zerolinewidth": 2
          },
          "yaxis": {
           "automargin": true,
           "gridcolor": "white",
           "linecolor": "white",
           "ticks": "",
           "title": {
            "standoff": 15
           },
           "zerolinecolor": "white",
           "zerolinewidth": 2
          }
         }
        },
        "title": {
         "text": "Predicted and Actual Population and Average Daily Vistors for Unincorporated Clark County 1950 to 1980",
         "x": 0.5,
         "xanchor": "center"
        },
        "width": 1200,
        "xaxis": {
         "anchor": "y",
         "domain": [
          0,
          1
         ],
         "title": {
          "text": "Year"
         }
        },
        "yaxis": {
         "anchor": "x",
         "domain": [
          0,
          1
         ],
         "title": {
          "text": "Population"
         }
        }
       }
      }
     },
     "metadata": {},
     "output_type": "display_data"
    }
   ],
   "source": [
    "Population1950to1980_Merged = pd.merge(\n",
    "    Population1950to1980_Predicted.reset_index(),\n",
    "    Population1950to1980.reset_index(),\n",
    "    on=\"Year\",\n",
    "    how=\"outer\"   # or 'inner' depending on whether you want all years or only common years\n",
    ")\n",
    "# Reshape wide → long for Plotly (all airlines in one column)\n",
    "df_long = Population1950to1980_Merged.melt(id_vars='Year', \n",
    "                           value_vars=['Exponential Predicted Unincorporated Clark County',\n",
    "                                       'Actual Unincorporated Clark County','Exponential Predicted Average Daily Visitors', 'Actual Average Daily Visitors'], \n",
    "                           var_name='Area', value_name='Population')\n",
    "\n",
    "fig = px.line(\n",
    "    df_long,\n",
    "    x='Year', y='Population', color=\"Area\",\n",
    "    title=\"Predicted and Actual Population and Average Daily Vistors for Unincorporated Clark County 1950 to 1980\",\n",
    "    labels={'Population' : \"Population\"}\n",
    ")\n",
    "\n",
    "fig.update_traces(\n",
    "    hovertemplate=(\n",
    "        \"Area = %{fullData.name}<br>\"\n",
    "        \"Year = %{x}<br>\"\n",
    "        \"Population = %{y:,}\"\n",
    "        \"<extra></extra>\"\n",
    "    )\n",
    ")\n",
    "\n",
    "fig.update_layout(\n",
    "    width=1200, height=600,\n",
    "    yaxis_title=\"Population\",\n",
    "    #this puts the legend on the bottom\n",
    "    legend=dict(\n",
    "        title=dict(text=\"\", side='top center'),  # legend title above items\n",
    "        orientation=\"h\",     # horizontal layout\n",
    "        yanchor=\"top\",\n",
    "        y=-0.3,              # push below chart\n",
    "        xanchor=\"center\",\n",
    "        x=0.5\n",
    "    ),\n",
    "    #centers the title\n",
    "    title=dict(\n",
    "        text=\"Predicted and Actual Population and Average Daily Vistors for Unincorporated Clark County 1950 to 1980\",\n",
    "        x=0.5,  # 0=left, 0.5=center, 1=right\n",
    "        xanchor=\"center\"\n",
    "    )\n",
    ")\n",
    "\n",
    "\n",
    "fig.show()\n",
    "#Population1950to1955"
   ]
  },
  {
   "cell_type": "markdown",
   "id": "76299fae",
   "metadata": {},
   "source": [
    "This predicts the overall trend much better between 1955 and 1975 for the Unincorporated Clark County data as it predicts 174,590 versus 158,037 observed which is within 10% and is considered a good prediction.  After 1975, however, it falls apart and grossly overpredicts population.  For the visitor volumes, however, it quickly deviates beyond 1960 and overestimates the data.\n",
    "<br><br><b>The final graph below shows the effects of planners and engineers periodically updating their estimates.  The final results are much better, but obviously not perfect. </b>"
   ]
  },
  {
   "cell_type": "code",
   "execution_count": 117,
   "id": "e0e1fdc4",
   "metadata": {},
   "outputs": [
    {
     "data": {
      "application/vnd.plotly.v1+json": {
       "config": {
        "plotlyServerURL": "https://plot.ly"
       },
       "data": [
        {
         "hovertemplate": "Area = %{fullData.name}<br>Year = %{x}<br>Population = %{y:,}<extra></extra>",
         "legendgroup": "Actual Unincorporated Clark County",
         "line": {
          "color": "#636efa",
          "dash": "solid"
         },
         "marker": {
          "symbol": "circle"
         },
         "mode": "lines",
         "name": "Actual Unincorporated Clark County",
         "orientation": "v",
         "showlegend": true,
         "type": "scatter",
         "x": {
          "bdata": "ngefB6AHoQeiB6MHpAelB6YHpweoB6kHqgerB6wHrQeuB68HsAexB7IHswe0B7UHtge3B7gHuQe6B7sHvAc=",
          "dtype": "i2"
         },
         "xaxis": "x",
         "y": {
          "bdata": "uicAAKktAACWMwAA5jkAABxAAADKRQAANk0AAPpSAACPWAAAL14AANVrAAB/ggAAppsAAHOzAAAbygAAwOAAALX5AAA1EgEAjCgBAORAAQBDXgEAyZABAMLKAQAFBAIA3zgCAFVpAgDalgIAiMcCAET8AgCDLAMAGWIDAA==",
          "dtype": "i4"
         },
         "yaxis": "y"
        },
        {
         "hovertemplate": "Area = %{fullData.name}<br>Year = %{x}<br>Population = %{y:,}<extra></extra>",
         "legendgroup": "Actual Average Daily Visitors",
         "line": {
          "color": "#EF553B",
          "dash": "solid"
         },
         "marker": {
          "symbol": "circle"
         },
         "mode": "lines",
         "name": "Actual Average Daily Visitors",
         "orientation": "v",
         "showlegend": true,
         "type": "scatter",
         "x": {
          "bdata": "ngefB6AHoQeiB6MHpAelB6YHpweoB6kHqgerB6wHrQeuB68HsAexB7IHswe0B7UHtge3B7gHuQe6B7sHvAc=",
          "dtype": "i2"
         },
         "xaxis": "x",
         "y": {
          "bdata": "6BdAGpgc8B5IIaAj+CVQKKgqAC1YL7AxCDRgNrg4EDtoPcA/GEJwRKRIyU7mVLJau1zwYURofWyhdyx9c38=",
          "dtype": "i2"
         },
         "yaxis": "y"
        },
        {
         "hovertemplate": "Area = %{fullData.name}<br>Year = %{x}<br>Population = %{y:,}<extra></extra>",
         "legendgroup": "Unincorporated Clark County (Rolling LinReg 5-yr)",
         "line": {
          "color": "#00cc96",
          "dash": "dash",
          "width": 3
         },
         "marker": {
          "symbol": "circle"
         },
         "mode": "lines",
         "name": "Unincorporated Clark County (Rolling LinReg 5-yr)",
         "orientation": "v",
         "showlegend": true,
         "type": "scatter",
         "x": {
          "bdata": "ngefB6AHoQeiB6MHpAelB6YHpweoB6kHqgerB6wHrQeuB68HsAexB7IHswe0B7UHtge3B7gHuQe6B7sHvAc=",
          "dtype": "i2"
         },
         "xaxis": "x",
         "y": {
          "bdata": "AAAAAAAA+H8AAAAAAAD4fwAAAAAAAPh/AAAAAAAA+H8AAAAAgP/PQAAAAADAfdFAAAAAAMAv00AAAAAAAMPUQAAAAACAPNZAAAAAAICk10AAAAAAACnaQAAAAAAA695AAAAAACCu4kAAAAAAICbmQAAAAABgU+lAAAAAAIAv7EAAAAAAgCDvQAAAAACAF/FAAAAAACCS8kAAAAAAsBD0QAAAAAAgvvVAAAAAAKBe+EAAAAAAAOX7QAAAAACA0f9AAAAAAHDLAUEAAAAA+GcDQQAAAABY1QRBAAAAAJBCBkEAAAAAwM8HQQAAAABwYAlBAAAAAJAHC0E=",
          "dtype": "f8"
         },
         "yaxis": "y"
        },
        {
         "hovertemplate": "Area = %{fullData.name}<br>Year = %{x}<br>Population = %{y:,}<extra></extra>",
         "legendgroup": "Average Daily Visitors (Rolling LinReg 5-yr)",
         "line": {
          "color": "#ab63fa",
          "dash": "dash",
          "width": 3
         },
         "marker": {
          "symbol": "circle"
         },
         "mode": "lines",
         "name": "Average Daily Visitors (Rolling LinReg 5-yr)",
         "orientation": "v",
         "showlegend": true,
         "type": "scatter",
         "x": {
          "bdata": "ngefB6AHoQeiB6MHpAelB6YHpweoB6kHqgerB6wHrQeuB68HsAexB7IHswe0B7UHtge3B7gHuQe6B7sHvAc=",
          "dtype": "i2"
         },
         "xaxis": "x",
         "y": {
          "bdata": "AAAAAAAA+H8AAAAAAAD4fwAAAAAAAPh/AAAAAAAA+H8AAAAAAKTAQAAAAAAA0MFAAAAAAAD8wkAAAAAAACjEQAAAAAAAVMVAAAAAAACAxkAAAAAAAKzHQAAAAAAA2MhAAAAAAAAEykAAAAAAADDLQAAAAAAAXMxAAAAAAACIzUAAAAAAALTOQAAAAAAA4M9AAAAAAACG0EAAAAAAABzRQAAAAACA+dFAAAAAAABR00AAAAAAwPDUQAAAAACAnNZAAAAAAICX10AAAAAAQI/YQAAAAABA09lAAAAAAMAP20AAAAAAwF7dQAAAAABARN9AAAAAAIAz4EA=",
          "dtype": "f8"
         },
         "yaxis": "y"
        }
       ],
       "layout": {
        "height": 600,
        "legend": {
         "orientation": "h",
         "title": {
          "side": "top center",
          "text": ""
         },
         "tracegroupgap": 0,
         "x": 0.5,
         "xanchor": "center",
         "y": -0.3,
         "yanchor": "top"
        },
        "template": {
         "data": {
          "bar": [
           {
            "error_x": {
             "color": "#2a3f5f"
            },
            "error_y": {
             "color": "#2a3f5f"
            },
            "marker": {
             "line": {
              "color": "#E5ECF6",
              "width": 0.5
             },
             "pattern": {
              "fillmode": "overlay",
              "size": 10,
              "solidity": 0.2
             }
            },
            "type": "bar"
           }
          ],
          "barpolar": [
           {
            "marker": {
             "line": {
              "color": "#E5ECF6",
              "width": 0.5
             },
             "pattern": {
              "fillmode": "overlay",
              "size": 10,
              "solidity": 0.2
             }
            },
            "type": "barpolar"
           }
          ],
          "carpet": [
           {
            "aaxis": {
             "endlinecolor": "#2a3f5f",
             "gridcolor": "white",
             "linecolor": "white",
             "minorgridcolor": "white",
             "startlinecolor": "#2a3f5f"
            },
            "baxis": {
             "endlinecolor": "#2a3f5f",
             "gridcolor": "white",
             "linecolor": "white",
             "minorgridcolor": "white",
             "startlinecolor": "#2a3f5f"
            },
            "type": "carpet"
           }
          ],
          "choropleth": [
           {
            "colorbar": {
             "outlinewidth": 0,
             "ticks": ""
            },
            "type": "choropleth"
           }
          ],
          "contour": [
           {
            "colorbar": {
             "outlinewidth": 0,
             "ticks": ""
            },
            "colorscale": [
             [
              0,
              "#0d0887"
             ],
             [
              0.1111111111111111,
              "#46039f"
             ],
             [
              0.2222222222222222,
              "#7201a8"
             ],
             [
              0.3333333333333333,
              "#9c179e"
             ],
             [
              0.4444444444444444,
              "#bd3786"
             ],
             [
              0.5555555555555556,
              "#d8576b"
             ],
             [
              0.6666666666666666,
              "#ed7953"
             ],
             [
              0.7777777777777778,
              "#fb9f3a"
             ],
             [
              0.8888888888888888,
              "#fdca26"
             ],
             [
              1,
              "#f0f921"
             ]
            ],
            "type": "contour"
           }
          ],
          "contourcarpet": [
           {
            "colorbar": {
             "outlinewidth": 0,
             "ticks": ""
            },
            "type": "contourcarpet"
           }
          ],
          "heatmap": [
           {
            "colorbar": {
             "outlinewidth": 0,
             "ticks": ""
            },
            "colorscale": [
             [
              0,
              "#0d0887"
             ],
             [
              0.1111111111111111,
              "#46039f"
             ],
             [
              0.2222222222222222,
              "#7201a8"
             ],
             [
              0.3333333333333333,
              "#9c179e"
             ],
             [
              0.4444444444444444,
              "#bd3786"
             ],
             [
              0.5555555555555556,
              "#d8576b"
             ],
             [
              0.6666666666666666,
              "#ed7953"
             ],
             [
              0.7777777777777778,
              "#fb9f3a"
             ],
             [
              0.8888888888888888,
              "#fdca26"
             ],
             [
              1,
              "#f0f921"
             ]
            ],
            "type": "heatmap"
           }
          ],
          "histogram": [
           {
            "marker": {
             "pattern": {
              "fillmode": "overlay",
              "size": 10,
              "solidity": 0.2
             }
            },
            "type": "histogram"
           }
          ],
          "histogram2d": [
           {
            "colorbar": {
             "outlinewidth": 0,
             "ticks": ""
            },
            "colorscale": [
             [
              0,
              "#0d0887"
             ],
             [
              0.1111111111111111,
              "#46039f"
             ],
             [
              0.2222222222222222,
              "#7201a8"
             ],
             [
              0.3333333333333333,
              "#9c179e"
             ],
             [
              0.4444444444444444,
              "#bd3786"
             ],
             [
              0.5555555555555556,
              "#d8576b"
             ],
             [
              0.6666666666666666,
              "#ed7953"
             ],
             [
              0.7777777777777778,
              "#fb9f3a"
             ],
             [
              0.8888888888888888,
              "#fdca26"
             ],
             [
              1,
              "#f0f921"
             ]
            ],
            "type": "histogram2d"
           }
          ],
          "histogram2dcontour": [
           {
            "colorbar": {
             "outlinewidth": 0,
             "ticks": ""
            },
            "colorscale": [
             [
              0,
              "#0d0887"
             ],
             [
              0.1111111111111111,
              "#46039f"
             ],
             [
              0.2222222222222222,
              "#7201a8"
             ],
             [
              0.3333333333333333,
              "#9c179e"
             ],
             [
              0.4444444444444444,
              "#bd3786"
             ],
             [
              0.5555555555555556,
              "#d8576b"
             ],
             [
              0.6666666666666666,
              "#ed7953"
             ],
             [
              0.7777777777777778,
              "#fb9f3a"
             ],
             [
              0.8888888888888888,
              "#fdca26"
             ],
             [
              1,
              "#f0f921"
             ]
            ],
            "type": "histogram2dcontour"
           }
          ],
          "mesh3d": [
           {
            "colorbar": {
             "outlinewidth": 0,
             "ticks": ""
            },
            "type": "mesh3d"
           }
          ],
          "parcoords": [
           {
            "line": {
             "colorbar": {
              "outlinewidth": 0,
              "ticks": ""
             }
            },
            "type": "parcoords"
           }
          ],
          "pie": [
           {
            "automargin": true,
            "type": "pie"
           }
          ],
          "scatter": [
           {
            "fillpattern": {
             "fillmode": "overlay",
             "size": 10,
             "solidity": 0.2
            },
            "type": "scatter"
           }
          ],
          "scatter3d": [
           {
            "line": {
             "colorbar": {
              "outlinewidth": 0,
              "ticks": ""
             }
            },
            "marker": {
             "colorbar": {
              "outlinewidth": 0,
              "ticks": ""
             }
            },
            "type": "scatter3d"
           }
          ],
          "scattercarpet": [
           {
            "marker": {
             "colorbar": {
              "outlinewidth": 0,
              "ticks": ""
             }
            },
            "type": "scattercarpet"
           }
          ],
          "scattergeo": [
           {
            "marker": {
             "colorbar": {
              "outlinewidth": 0,
              "ticks": ""
             }
            },
            "type": "scattergeo"
           }
          ],
          "scattergl": [
           {
            "marker": {
             "colorbar": {
              "outlinewidth": 0,
              "ticks": ""
             }
            },
            "type": "scattergl"
           }
          ],
          "scattermap": [
           {
            "marker": {
             "colorbar": {
              "outlinewidth": 0,
              "ticks": ""
             }
            },
            "type": "scattermap"
           }
          ],
          "scattermapbox": [
           {
            "marker": {
             "colorbar": {
              "outlinewidth": 0,
              "ticks": ""
             }
            },
            "type": "scattermapbox"
           }
          ],
          "scatterpolar": [
           {
            "marker": {
             "colorbar": {
              "outlinewidth": 0,
              "ticks": ""
             }
            },
            "type": "scatterpolar"
           }
          ],
          "scatterpolargl": [
           {
            "marker": {
             "colorbar": {
              "outlinewidth": 0,
              "ticks": ""
             }
            },
            "type": "scatterpolargl"
           }
          ],
          "scatterternary": [
           {
            "marker": {
             "colorbar": {
              "outlinewidth": 0,
              "ticks": ""
             }
            },
            "type": "scatterternary"
           }
          ],
          "surface": [
           {
            "colorbar": {
             "outlinewidth": 0,
             "ticks": ""
            },
            "colorscale": [
             [
              0,
              "#0d0887"
             ],
             [
              0.1111111111111111,
              "#46039f"
             ],
             [
              0.2222222222222222,
              "#7201a8"
             ],
             [
              0.3333333333333333,
              "#9c179e"
             ],
             [
              0.4444444444444444,
              "#bd3786"
             ],
             [
              0.5555555555555556,
              "#d8576b"
             ],
             [
              0.6666666666666666,
              "#ed7953"
             ],
             [
              0.7777777777777778,
              "#fb9f3a"
             ],
             [
              0.8888888888888888,
              "#fdca26"
             ],
             [
              1,
              "#f0f921"
             ]
            ],
            "type": "surface"
           }
          ],
          "table": [
           {
            "cells": {
             "fill": {
              "color": "#EBF0F8"
             },
             "line": {
              "color": "white"
             }
            },
            "header": {
             "fill": {
              "color": "#C8D4E3"
             },
             "line": {
              "color": "white"
             }
            },
            "type": "table"
           }
          ]
         },
         "layout": {
          "annotationdefaults": {
           "arrowcolor": "#2a3f5f",
           "arrowhead": 0,
           "arrowwidth": 1
          },
          "autotypenumbers": "strict",
          "coloraxis": {
           "colorbar": {
            "outlinewidth": 0,
            "ticks": ""
           }
          },
          "colorscale": {
           "diverging": [
            [
             0,
             "#8e0152"
            ],
            [
             0.1,
             "#c51b7d"
            ],
            [
             0.2,
             "#de77ae"
            ],
            [
             0.3,
             "#f1b6da"
            ],
            [
             0.4,
             "#fde0ef"
            ],
            [
             0.5,
             "#f7f7f7"
            ],
            [
             0.6,
             "#e6f5d0"
            ],
            [
             0.7,
             "#b8e186"
            ],
            [
             0.8,
             "#7fbc41"
            ],
            [
             0.9,
             "#4d9221"
            ],
            [
             1,
             "#276419"
            ]
           ],
           "sequential": [
            [
             0,
             "#0d0887"
            ],
            [
             0.1111111111111111,
             "#46039f"
            ],
            [
             0.2222222222222222,
             "#7201a8"
            ],
            [
             0.3333333333333333,
             "#9c179e"
            ],
            [
             0.4444444444444444,
             "#bd3786"
            ],
            [
             0.5555555555555556,
             "#d8576b"
            ],
            [
             0.6666666666666666,
             "#ed7953"
            ],
            [
             0.7777777777777778,
             "#fb9f3a"
            ],
            [
             0.8888888888888888,
             "#fdca26"
            ],
            [
             1,
             "#f0f921"
            ]
           ],
           "sequentialminus": [
            [
             0,
             "#0d0887"
            ],
            [
             0.1111111111111111,
             "#46039f"
            ],
            [
             0.2222222222222222,
             "#7201a8"
            ],
            [
             0.3333333333333333,
             "#9c179e"
            ],
            [
             0.4444444444444444,
             "#bd3786"
            ],
            [
             0.5555555555555556,
             "#d8576b"
            ],
            [
             0.6666666666666666,
             "#ed7953"
            ],
            [
             0.7777777777777778,
             "#fb9f3a"
            ],
            [
             0.8888888888888888,
             "#fdca26"
            ],
            [
             1,
             "#f0f921"
            ]
           ]
          },
          "colorway": [
           "#636efa",
           "#EF553B",
           "#00cc96",
           "#ab63fa",
           "#FFA15A",
           "#19d3f3",
           "#FF6692",
           "#B6E880",
           "#FF97FF",
           "#FECB52"
          ],
          "font": {
           "color": "#2a3f5f"
          },
          "geo": {
           "bgcolor": "white",
           "lakecolor": "white",
           "landcolor": "#E5ECF6",
           "showlakes": true,
           "showland": true,
           "subunitcolor": "white"
          },
          "hoverlabel": {
           "align": "left"
          },
          "hovermode": "closest",
          "mapbox": {
           "style": "light"
          },
          "paper_bgcolor": "white",
          "plot_bgcolor": "#E5ECF6",
          "polar": {
           "angularaxis": {
            "gridcolor": "white",
            "linecolor": "white",
            "ticks": ""
           },
           "bgcolor": "#E5ECF6",
           "radialaxis": {
            "gridcolor": "white",
            "linecolor": "white",
            "ticks": ""
           }
          },
          "scene": {
           "xaxis": {
            "backgroundcolor": "#E5ECF6",
            "gridcolor": "white",
            "gridwidth": 2,
            "linecolor": "white",
            "showbackground": true,
            "ticks": "",
            "zerolinecolor": "white"
           },
           "yaxis": {
            "backgroundcolor": "#E5ECF6",
            "gridcolor": "white",
            "gridwidth": 2,
            "linecolor": "white",
            "showbackground": true,
            "ticks": "",
            "zerolinecolor": "white"
           },
           "zaxis": {
            "backgroundcolor": "#E5ECF6",
            "gridcolor": "white",
            "gridwidth": 2,
            "linecolor": "white",
            "showbackground": true,
            "ticks": "",
            "zerolinecolor": "white"
           }
          },
          "shapedefaults": {
           "line": {
            "color": "#2a3f5f"
           }
          },
          "ternary": {
           "aaxis": {
            "gridcolor": "white",
            "linecolor": "white",
            "ticks": ""
           },
           "baxis": {
            "gridcolor": "white",
            "linecolor": "white",
            "ticks": ""
           },
           "bgcolor": "#E5ECF6",
           "caxis": {
            "gridcolor": "white",
            "linecolor": "white",
            "ticks": ""
           }
          },
          "title": {
           "x": 0.05
          },
          "xaxis": {
           "automargin": true,
           "gridcolor": "white",
           "linecolor": "white",
           "ticks": "",
           "title": {
            "standoff": 15
           },
           "zerolinecolor": "white",
           "zerolinewidth": 2
          },
          "yaxis": {
           "automargin": true,
           "gridcolor": "white",
           "linecolor": "white",
           "ticks": "",
           "title": {
            "standoff": 15
           },
           "zerolinecolor": "white",
           "zerolinewidth": 2
          }
         }
        },
        "title": {
         "text": "Actual vs Rolling Linear Regression (1950–1980)",
         "x": 0.5,
         "xanchor": "center"
        },
        "width": 1200,
        "xaxis": {
         "anchor": "y",
         "domain": [
          0,
          1
         ],
         "title": {
          "text": "Year"
         }
        },
        "yaxis": {
         "anchor": "x",
         "domain": [
          0,
          1
         ],
         "title": {
          "text": "Population"
         }
        }
       }
      }
     },
     "metadata": {},
     "output_type": "display_data"
    }
   ],
   "source": [
    "\n",
    "\n",
    "def rolling_linreg_end_pred(df, ycol, window):\n",
    "    # Design matrix and target\n",
    "    X_full = sm.add_constant(df[\"Year\"].to_numpy(dtype=float))\n",
    "    y_full = pd.to_numeric(df[ycol], errors=\"coerce\").to_numpy(dtype=float)\n",
    "\n",
    "    # Keep only rows with finite y (and finite X)\n",
    "    mask = np.isfinite(y_full) & np.isfinite(X_full).all(axis=1)\n",
    "    X = X_full[mask]\n",
    "    y = y_full[mask]\n",
    "\n",
    "    pred_full = np.full(df.shape[0], np.nan, dtype=float)\n",
    "    if X.shape[0] < window:\n",
    "        return pd.Series(pred_full, index=df.index)\n",
    "\n",
    "    res = RollingOLS(y, X, window=window).fit()\n",
    "\n",
    "    # 1) Prefer fittedvalues if available (end-of-window fit)\n",
    "    pred_subset = getattr(res, \"fittedvalues\", None)\n",
    "\n",
    "    if pred_subset is None:\n",
    "        # 2) Compute from rolling params (intercept + slope * x_t)\n",
    "        params = res.params\n",
    "        if isinstance(params, pd.DataFrame):\n",
    "            b0 = (params[\"const\"] if \"const\" in params else params.iloc[:, 0]).to_numpy()\n",
    "            b1 = (params[\"Year\"]  if \"Year\"  in params else params.iloc[:, 1]).to_numpy()\n",
    "        else:\n",
    "            P = np.asarray(params)\n",
    "            # Try shapes (n_obs, k) or (k, n_obs)\n",
    "            if P.ndim == 2 and P.shape[1] == X.shape[1]:\n",
    "                b0, b1 = P[:, 0], P[:, 1]\n",
    "            elif P.ndim == 2 and P.shape[0] == X.shape[1]:\n",
    "                b0, b1 = P[0, :], P[1, :]\n",
    "            else:\n",
    "                # last resort: y - resid\n",
    "                pred_subset = y - res.resid\n",
    "\n",
    "        if pred_subset is None:\n",
    "            pred_subset = b0 + b1 * X[:, 1]\n",
    "\n",
    "    # Re-embed into full index\n",
    "    pred_full[np.where(mask)[0]] = np.asarray(pred_subset).reshape(-1)\n",
    "    return pd.Series(pred_full, index=df.index)\n",
    "\n",
    "\n",
    "# ---- choose window (years) ----\n",
    "w = 5  # change to 2/3/etc. if you want a shorter window\n",
    "\n",
    "# ---- compute rolling linear-reg predictions ----\n",
    "col_uninc = 'Actual Unincorporated Clark County'\n",
    "col_visit = 'Actual Average Daily Visitors'\n",
    "\n",
    "rlr_name_uninc = f'Unincorporated Clark County (Rolling LinReg {w}-yr)'\n",
    "rlr_name_visit = f'Average Daily Visitors (Rolling LinReg {w}-yr)'\n",
    "\n",
    "Population1950to1980_Merged[rlr_name_uninc] = rolling_linreg_end_pred(\n",
    "    Population1950to1980_Merged, col_uninc, window=w\n",
    ")\n",
    "Population1950to1980_Merged[rlr_name_visit] = rolling_linreg_end_pred(\n",
    "    Population1950to1980_Merged, col_visit, window=w\n",
    ")\n",
    "\n",
    "# (Optional) make them integers for display/storage\n",
    "Population1950to1980_Merged[rlr_name_uninc] = (\n",
    "    Population1950to1980_Merged[rlr_name_uninc].round().astype(\"Int64\")\n",
    ")\n",
    "Population1950to1980_Merged[rlr_name_visit] = (\n",
    "    Population1950to1980_Merged[rlr_name_visit].round().astype(\"Int64\")\n",
    ")\n",
    "\n",
    "# ---- melt to long for plotting ----\n",
    "df_long = Population1950to1980_Merged.melt(\n",
    "    id_vars='Year', \n",
    "    value_vars=[\n",
    "        'Actual Unincorporated Clark County',\n",
    "        'Actual Average Daily Visitors',\n",
    "        rlr_name_uninc,\n",
    "        rlr_name_visit\n",
    "    ],\n",
    "    var_name='Area', value_name='Population'\n",
    ")\n",
    "\n",
    "# ---- plot ----\n",
    "fig = px.line(\n",
    "    df_long,\n",
    "    x='Year', y='Population', color=\"Area\",\n",
    "    title=\"Actual vs Rolling Linear Regression (Unincorporated Clark County & Average Daily Visitors, 1950–1980)\",\n",
    "    labels={'Population': \"Population\"}\n",
    ")\n",
    "\n",
    "fig.update_traces(\n",
    "    hovertemplate=\"Area = %{fullData.name}<br>Year = %{x}<br>Population = %{y:,}<extra></extra>\"\n",
    ")\n",
    "\n",
    "fig.update_layout(\n",
    "    width=1200, height=600,\n",
    "    yaxis_title=\"Population\",\n",
    "    legend=dict(\n",
    "        title=dict(text=\"\", side='top center'),\n",
    "        orientation=\"h\", yanchor=\"top\", y=-0.3, xanchor=\"center\", x=0.5\n",
    "    ),\n",
    "    title=dict(text=\"Actual vs Rolling Linear Regression (1950–1980)\", x=0.5, xanchor=\"center\")\n",
    ")\n",
    "\n",
    "# Style the rolling-regression lines as dashed & thicker\n",
    "fig.update_traces(selector=dict(name=rlr_name_uninc), line=dict(dash=\"dash\", width=3))\n",
    "fig.update_traces(selector=dict(name=rlr_name_visit), line=dict(dash=\"dash\", width=3))\n",
    "\n",
    "fig.show()\n"
   ]
  },
  {
   "cell_type": "markdown",
   "id": "35150563",
   "metadata": {},
   "source": [
    "<h1>Now It's Time To Calculate Flows Using the Population Projections!</h1>\n",
    "Even though we talked about how Engineers and Planners have to periodically update their estimates, we will assume that we were planning facilities in the 1950s without knowledge of the future.  As such, we will use the original projections that we calculated to estimate flow rates.  <i>Thankfully this part is much easier and more straight forward!</i>\n",
    "\n",
    "A value of 100 gallons/day/person is commonly used to estimate average flow rates to a wastewater treatment facility (<a href=\"https://www.health.state.mn.us/communities/environment/water/docs/tenstates/tenstatestan2014.pdf\">Per Section 11.243.a of the Ten States Standards</a>).  This means the equation for a given year to calculate the flow rates is as follows:\n",
    "<br>Q<sub>y</sub> = 100 x (P<sub>L</sub> + P<sub>T</sub>) where\n",
    "<br>Q<sub>y</sub> = Flow Rate in a given year, gallons/day\n",
    "<br>P<sub>L</sub> = Local Population Estimate in a given year, Population\n",
    "<br>P<sub>T</sub> = Tourist Population Estimate in a given year, Population\n",
    "<br>This value is typically expressed in terms of Million Gallons per Day (MGD) in the United States.  To get this value you need to divide Q<sub>y</sub> by 1,000,000.  Simple enough, correct?  For your convenience we will print the previous population estimate here from the linear regressions!"
   ]
  },
  {
   "cell_type": "code",
   "execution_count": 118,
   "id": "3f3bdb9e",
   "metadata": {},
   "outputs": [
    {
     "data": {
      "text/html": [
       "<div>\n",
       "<style scoped>\n",
       "    .dataframe tbody tr th:only-of-type {\n",
       "        vertical-align: middle;\n",
       "    }\n",
       "\n",
       "    .dataframe tbody tr th {\n",
       "        vertical-align: top;\n",
       "    }\n",
       "\n",
       "    .dataframe thead th {\n",
       "        text-align: right;\n",
       "    }\n",
       "</style>\n",
       "<table border=\"1\" class=\"dataframe\">\n",
       "  <thead>\n",
       "    <tr style=\"text-align: right;\">\n",
       "      <th></th>\n",
       "      <th>Predicted Unincorporated Clark County</th>\n",
       "      <th>Predicted Average Daily Visitors</th>\n",
       "    </tr>\n",
       "    <tr>\n",
       "      <th>Year</th>\n",
       "      <th></th>\n",
       "      <th></th>\n",
       "    </tr>\n",
       "  </thead>\n",
       "  <tbody>\n",
       "    <tr>\n",
       "      <th>1950</th>\n",
       "      <td>10170</td>\n",
       "      <td>6120</td>\n",
       "    </tr>\n",
       "    <tr>\n",
       "      <th>1951</th>\n",
       "      <td>11689</td>\n",
       "      <td>6720</td>\n",
       "    </tr>\n",
       "    <tr>\n",
       "      <th>1952</th>\n",
       "      <td>13206</td>\n",
       "      <td>7320</td>\n",
       "    </tr>\n",
       "    <tr>\n",
       "      <th>1953</th>\n",
       "      <td>14822</td>\n",
       "      <td>7920</td>\n",
       "    </tr>\n",
       "    <tr>\n",
       "      <th>1954</th>\n",
       "      <td>16412</td>\n",
       "      <td>8520</td>\n",
       "    </tr>\n",
       "    <tr>\n",
       "      <th>1955</th>\n",
       "      <td>17866</td>\n",
       "      <td>9120</td>\n",
       "    </tr>\n",
       "    <tr>\n",
       "      <th>1956</th>\n",
       "      <td>19404</td>\n",
       "      <td>9720</td>\n",
       "    </tr>\n",
       "    <tr>\n",
       "      <th>1957</th>\n",
       "      <td>20943</td>\n",
       "      <td>10320</td>\n",
       "    </tr>\n",
       "    <tr>\n",
       "      <th>1958</th>\n",
       "      <td>22482</td>\n",
       "      <td>10920</td>\n",
       "    </tr>\n",
       "    <tr>\n",
       "      <th>1959</th>\n",
       "      <td>24021</td>\n",
       "      <td>11520</td>\n",
       "    </tr>\n",
       "    <tr>\n",
       "      <th>1960</th>\n",
       "      <td>25560</td>\n",
       "      <td>12120</td>\n",
       "    </tr>\n",
       "    <tr>\n",
       "      <th>1961</th>\n",
       "      <td>27099</td>\n",
       "      <td>12720</td>\n",
       "    </tr>\n",
       "    <tr>\n",
       "      <th>1962</th>\n",
       "      <td>28638</td>\n",
       "      <td>13320</td>\n",
       "    </tr>\n",
       "    <tr>\n",
       "      <th>1963</th>\n",
       "      <td>30177</td>\n",
       "      <td>13920</td>\n",
       "    </tr>\n",
       "    <tr>\n",
       "      <th>1964</th>\n",
       "      <td>31716</td>\n",
       "      <td>14520</td>\n",
       "    </tr>\n",
       "    <tr>\n",
       "      <th>1965</th>\n",
       "      <td>33255</td>\n",
       "      <td>15120</td>\n",
       "    </tr>\n",
       "    <tr>\n",
       "      <th>1966</th>\n",
       "      <td>34794</td>\n",
       "      <td>15720</td>\n",
       "    </tr>\n",
       "    <tr>\n",
       "      <th>1967</th>\n",
       "      <td>36333</td>\n",
       "      <td>16320</td>\n",
       "    </tr>\n",
       "    <tr>\n",
       "      <th>1968</th>\n",
       "      <td>37872</td>\n",
       "      <td>16920</td>\n",
       "    </tr>\n",
       "    <tr>\n",
       "      <th>1969</th>\n",
       "      <td>39411</td>\n",
       "      <td>17520</td>\n",
       "    </tr>\n",
       "    <tr>\n",
       "      <th>1970</th>\n",
       "      <td>40950</td>\n",
       "      <td>18120</td>\n",
       "    </tr>\n",
       "    <tr>\n",
       "      <th>1971</th>\n",
       "      <td>42489</td>\n",
       "      <td>18720</td>\n",
       "    </tr>\n",
       "    <tr>\n",
       "      <th>1972</th>\n",
       "      <td>44028</td>\n",
       "      <td>19320</td>\n",
       "    </tr>\n",
       "    <tr>\n",
       "      <th>1973</th>\n",
       "      <td>45567</td>\n",
       "      <td>19920</td>\n",
       "    </tr>\n",
       "    <tr>\n",
       "      <th>1974</th>\n",
       "      <td>47106</td>\n",
       "      <td>20520</td>\n",
       "    </tr>\n",
       "    <tr>\n",
       "      <th>1975</th>\n",
       "      <td>48645</td>\n",
       "      <td>21120</td>\n",
       "    </tr>\n",
       "    <tr>\n",
       "      <th>1976</th>\n",
       "      <td>50184</td>\n",
       "      <td>21720</td>\n",
       "    </tr>\n",
       "    <tr>\n",
       "      <th>1977</th>\n",
       "      <td>51723</td>\n",
       "      <td>22320</td>\n",
       "    </tr>\n",
       "    <tr>\n",
       "      <th>1978</th>\n",
       "      <td>53262</td>\n",
       "      <td>22920</td>\n",
       "    </tr>\n",
       "    <tr>\n",
       "      <th>1979</th>\n",
       "      <td>54801</td>\n",
       "      <td>23520</td>\n",
       "    </tr>\n",
       "    <tr>\n",
       "      <th>1980</th>\n",
       "      <td>56340</td>\n",
       "      <td>24120</td>\n",
       "    </tr>\n",
       "  </tbody>\n",
       "</table>\n",
       "</div>"
      ],
      "text/plain": [
       "      Predicted Unincorporated Clark County  Predicted Average Daily Visitors\n",
       "Year                                                                         \n",
       "1950                                  10170                              6120\n",
       "1951                                  11689                              6720\n",
       "1952                                  13206                              7320\n",
       "1953                                  14822                              7920\n",
       "1954                                  16412                              8520\n",
       "1955                                  17866                              9120\n",
       "1956                                  19404                              9720\n",
       "1957                                  20943                             10320\n",
       "1958                                  22482                             10920\n",
       "1959                                  24021                             11520\n",
       "1960                                  25560                             12120\n",
       "1961                                  27099                             12720\n",
       "1962                                  28638                             13320\n",
       "1963                                  30177                             13920\n",
       "1964                                  31716                             14520\n",
       "1965                                  33255                             15120\n",
       "1966                                  34794                             15720\n",
       "1967                                  36333                             16320\n",
       "1968                                  37872                             16920\n",
       "1969                                  39411                             17520\n",
       "1970                                  40950                             18120\n",
       "1971                                  42489                             18720\n",
       "1972                                  44028                             19320\n",
       "1973                                  45567                             19920\n",
       "1974                                  47106                             20520\n",
       "1975                                  48645                             21120\n",
       "1976                                  50184                             21720\n",
       "1977                                  51723                             22320\n",
       "1978                                  53262                             22920\n",
       "1979                                  54801                             23520\n",
       "1980                                  56340                             24120"
      ]
     },
     "execution_count": 118,
     "metadata": {},
     "output_type": "execute_result"
    }
   ],
   "source": [
    "Truncated_1950to1980_Predicted = Population1950to1980_Predicted[\n",
    "    ['Predicted Unincorporated Clark County',\n",
    "     'Predicted Average Daily Visitors']\n",
    "].copy()  #just the year, Predicted Values for Unincorporated Clark County, and Tourism from the linear regression.\n",
    "Truncated_1950to1980_Predicted"
   ]
  },
  {
   "cell_type": "code",
   "execution_count": 119,
   "id": "53272d40",
   "metadata": {},
   "outputs": [
    {
     "data": {
      "application/vnd.jupyter.widget-view+json": {
       "model_id": "ed27ed21fd96487dad2d2f192c74876b",
       "version_major": 2,
       "version_minor": 0
      },
      "text/plain": [
       "HTML(value='<h3>What is the estimated flow rate in gallons/day in 1980?</h3>')"
      ]
     },
     "metadata": {},
     "output_type": "display_data"
    },
    {
     "data": {
      "application/vnd.jupyter.widget-view+json": {
       "model_id": "3cb705de7c194644b9b001beddfec7f9",
       "version_major": 2,
       "version_minor": 0
      },
      "text/plain": [
       "Dropdown(description='Answer:', options=('', '1,629,000', '💩', '10,000,000', '8,046,000'), style=DescriptionSt…"
      ]
     },
     "metadata": {},
     "output_type": "display_data"
    },
    {
     "data": {
      "application/vnd.jupyter.widget-view+json": {
       "model_id": "824305201e5a44daa8562bbdf94c2c31",
       "version_major": 2,
       "version_minor": 0
      },
      "text/plain": [
       "Button(button_style='info', description='Check Answer', style=ButtonStyle())"
      ]
     },
     "metadata": {},
     "output_type": "display_data"
    },
    {
     "data": {
      "application/vnd.jupyter.widget-view+json": {
       "model_id": "b4d1b793b2f6427da770a3536ae6176a",
       "version_major": 2,
       "version_minor": 0
      },
      "text/plain": [
       "Output()"
      ]
     },
     "metadata": {},
     "output_type": "display_data"
    }
   ],
   "source": [
    "make_question(\n",
    "    \"What is the estimated flow rate in gallons/day in 1980?\",\n",
    "    [\"1,629,000\", \"💩\", \"10,000,000\", \"8,046,000\"],\n",
    "    \"8,046,000\"\n",
    ")"
   ]
  },
  {
   "cell_type": "code",
   "execution_count": 120,
   "id": "44bae2b0",
   "metadata": {},
   "outputs": [
    {
     "data": {
      "application/vnd.jupyter.widget-view+json": {
       "model_id": "6d303411a22346b79a8ae19b6ae09691",
       "version_major": 2,
       "version_minor": 0
      },
      "text/plain": [
       "HTML(value='<h3>What is the estimated flow rate in MGD in 1980?</h3>')"
      ]
     },
     "metadata": {},
     "output_type": "display_data"
    },
    {
     "data": {
      "application/vnd.jupyter.widget-view+json": {
       "model_id": "b564436292af4032aa20e296ee666df1",
       "version_major": 2,
       "version_minor": 0
      },
      "text/plain": [
       "Dropdown(description='Answer:', options=('', '1.6', '💩', '10', '8'), style=DescriptionStyle(description_width=…"
      ]
     },
     "metadata": {},
     "output_type": "display_data"
    },
    {
     "data": {
      "application/vnd.jupyter.widget-view+json": {
       "model_id": "a6941e2bfcd14cb48c222542be34386a",
       "version_major": 2,
       "version_minor": 0
      },
      "text/plain": [
       "Button(button_style='info', description='Check Answer', style=ButtonStyle())"
      ]
     },
     "metadata": {},
     "output_type": "display_data"
    },
    {
     "data": {
      "application/vnd.jupyter.widget-view+json": {
       "model_id": "902b764ba6424ff1ab5189fed42e1151",
       "version_major": 2,
       "version_minor": 0
      },
      "text/plain": [
       "Output()"
      ]
     },
     "metadata": {},
     "output_type": "display_data"
    }
   ],
   "source": [
    "make_question(\n",
    "    \"What is the estimated flow rate in MGD in 1980?\",\n",
    "    [\"1.6\", \"💩\", \"10\", \"8\"],\n",
    "    \"8\"\n",
    ")"
   ]
  },
  {
   "cell_type": "code",
   "execution_count": 121,
   "id": "5eab962c",
   "metadata": {},
   "outputs": [
    {
     "data": {
      "application/vnd.plotly.v1+json": {
       "config": {
        "plotlyServerURL": "https://plot.ly"
       },
       "data": [
        {
         "hovertemplate": "Area = %{fullData.name}<br>Year = %{x}<br>Flowrate = %{y:.1f} MGD<extra></extra>",
         "legendgroup": "Local Flowrate, MGD",
         "line": {
          "color": "#636efa",
          "dash": "solid"
         },
         "marker": {
          "symbol": "circle"
         },
         "mode": "lines",
         "name": "Local Flowrate, MGD",
         "orientation": "v",
         "showlegend": true,
         "type": "scatter",
         "x": {
          "bdata": "ngefB6AHoQeiB6MHpAelB6YHpweoB6kHqgerB6wHrQeuB68HsAexB7IHswe0B7UHtge3B7gHuQe6B7sHvAc=",
          "dtype": "i2"
         },
         "xaxis": "x",
         "y": {
          "bdata": "EoPAyqFF8D/dtYR80LPyP8WPMXctIfU/ZRniWBe39z+KH2PuWkL6P6CJsOHplfw/zojS3uAL/z83GsBbIMEAQAfwFkhQ/AFA1sVtNIA3A0Cmm8QgsHIEQHZxGw3grQVARUdy+Q/pBkAVHcnlPyQIQOXyH9JvXwlAtMh2vp+aCkCEns2qz9ULQFR0JJf/EA1AI0p7gy9MDkDzH9JvX4cPQOF6FK5HYRBAyeU/pN/+EECxUGuad5wRQJm7lpAPOhJAgSbChqfXEkBoke18P3UTQFD8GHPXEhRAOGdEaW+wFEAg0m9fB04VQAg9m1Wf6xVA8KfGSzeJFkA=",
          "dtype": "f8"
         },
         "yaxis": "y"
        },
        {
         "hovertemplate": "Area = %{fullData.name}<br>Year = %{x}<br>Flowrate = %{y:.1f} MGD<extra></extra>",
         "legendgroup": "Tourist Flowrate, MGD",
         "line": {
          "color": "#EF553B",
          "dash": "solid"
         },
         "marker": {
          "symbol": "circle"
         },
         "mode": "lines",
         "name": "Tourist Flowrate, MGD",
         "orientation": "v",
         "showlegend": true,
         "type": "scatter",
         "x": {
          "bdata": "ngefB6AHoQeiB6MHpAelB6YHpweoB6kHqgerB6wHrQeuB68HsAexB7IHswe0B7UHtge3B7gHuQe6B7sHvAc=",
          "dtype": "i2"
         },
         "xaxis": "x",
         "y": {
          "bdata": "L90kBoGV4z8bL90kBoHlPwaBlUOLbOc/8tJNYhBY6T/dJAaBlUPrP8l2vp8aL+0/tMh2vp8a7z9QjZduEoPwP0a28/3UePE/O99PjZdu8j8xCKwcWmTzPycxCKwcWvQ/HVpkO99P9T8Sg8DKoUX2PwisHFpkO/c//tR46SYx+D/0/dR46Sb5P+kmMQisHPo/30+Nl24S+z/VeOkmMQj8P8uhRbbz/fw/wcqhRbbz/T+28/3UeOn+P6wcWmQ73/8/0SLb+X5qAEBMN4lBYOUAQMdLN4lBYAFAQmDl0CLbAUC8dJMYBFYCQDeJQWDl0AJAsp3vp8ZLA0A=",
          "dtype": "f8"
         },
         "yaxis": "y"
        },
        {
         "hovertemplate": "Area = %{fullData.name}<br>Year = %{x}<br>Flowrate = %{y:.1f} MGD<extra></extra>",
         "legendgroup": "Total Flowrate, MGD",
         "line": {
          "color": "#00cc96",
          "dash": "solid"
         },
         "marker": {
          "symbol": "circle"
         },
         "mode": "lines",
         "name": "Total Flowrate, MGD",
         "orientation": "v",
         "showlegend": true,
         "type": "scatter",
         "x": {
          "bdata": "ngefB6AHoQeiB6MHpAelB6YHpweoB6kHqgerB6wHrQeuB68HsAexB7IHswe0B7UHtge3B7gHuQe6B7sHvAc=",
          "dtype": "i2"
         },
         "xaxis": "x",
         "y": {
          "bdata": "qvHSTWIQ+j9qTfOOU3T9PyQofoy5awBAb4EExY8xAkD8GHPXEvIDQILix5i7lgVAlPYGX5hMB0Df4AuTqQIJQCnLEMe6uApAdLUV+8tuDEC+nxov3SQOQAmKH2Pu2g9AKjqSy3/IEEBPr5RliKMRQHQkl/+QfhJAmpmZmZlZE0C/DpwzojQUQOSDns2qDxVACfmgZ7PqFUAvbqMBvMUWQFTjpZvEoBdAeVioNc17GECfzarP1VYZQMRCrWneMRpA6bevA+cMG0AOLbKd7+cbQDSitDf4whxAWRe30QCeHUB+jLlrCXkeQKMBvAUSVB9AZDvfT40XIEA=",
          "dtype": "f8"
         },
         "yaxis": "y"
        }
       ],
       "layout": {
        "height": 600,
        "legend": {
         "orientation": "h",
         "title": {
          "text": "Contributor"
         },
         "tracegroupgap": 0,
         "x": 0.5,
         "xanchor": "center",
         "y": -0.3,
         "yanchor": "top"
        },
        "template": {
         "data": {
          "bar": [
           {
            "error_x": {
             "color": "#2a3f5f"
            },
            "error_y": {
             "color": "#2a3f5f"
            },
            "marker": {
             "line": {
              "color": "#E5ECF6",
              "width": 0.5
             },
             "pattern": {
              "fillmode": "overlay",
              "size": 10,
              "solidity": 0.2
             }
            },
            "type": "bar"
           }
          ],
          "barpolar": [
           {
            "marker": {
             "line": {
              "color": "#E5ECF6",
              "width": 0.5
             },
             "pattern": {
              "fillmode": "overlay",
              "size": 10,
              "solidity": 0.2
             }
            },
            "type": "barpolar"
           }
          ],
          "carpet": [
           {
            "aaxis": {
             "endlinecolor": "#2a3f5f",
             "gridcolor": "white",
             "linecolor": "white",
             "minorgridcolor": "white",
             "startlinecolor": "#2a3f5f"
            },
            "baxis": {
             "endlinecolor": "#2a3f5f",
             "gridcolor": "white",
             "linecolor": "white",
             "minorgridcolor": "white",
             "startlinecolor": "#2a3f5f"
            },
            "type": "carpet"
           }
          ],
          "choropleth": [
           {
            "colorbar": {
             "outlinewidth": 0,
             "ticks": ""
            },
            "type": "choropleth"
           }
          ],
          "contour": [
           {
            "colorbar": {
             "outlinewidth": 0,
             "ticks": ""
            },
            "colorscale": [
             [
              0,
              "#0d0887"
             ],
             [
              0.1111111111111111,
              "#46039f"
             ],
             [
              0.2222222222222222,
              "#7201a8"
             ],
             [
              0.3333333333333333,
              "#9c179e"
             ],
             [
              0.4444444444444444,
              "#bd3786"
             ],
             [
              0.5555555555555556,
              "#d8576b"
             ],
             [
              0.6666666666666666,
              "#ed7953"
             ],
             [
              0.7777777777777778,
              "#fb9f3a"
             ],
             [
              0.8888888888888888,
              "#fdca26"
             ],
             [
              1,
              "#f0f921"
             ]
            ],
            "type": "contour"
           }
          ],
          "contourcarpet": [
           {
            "colorbar": {
             "outlinewidth": 0,
             "ticks": ""
            },
            "type": "contourcarpet"
           }
          ],
          "heatmap": [
           {
            "colorbar": {
             "outlinewidth": 0,
             "ticks": ""
            },
            "colorscale": [
             [
              0,
              "#0d0887"
             ],
             [
              0.1111111111111111,
              "#46039f"
             ],
             [
              0.2222222222222222,
              "#7201a8"
             ],
             [
              0.3333333333333333,
              "#9c179e"
             ],
             [
              0.4444444444444444,
              "#bd3786"
             ],
             [
              0.5555555555555556,
              "#d8576b"
             ],
             [
              0.6666666666666666,
              "#ed7953"
             ],
             [
              0.7777777777777778,
              "#fb9f3a"
             ],
             [
              0.8888888888888888,
              "#fdca26"
             ],
             [
              1,
              "#f0f921"
             ]
            ],
            "type": "heatmap"
           }
          ],
          "histogram": [
           {
            "marker": {
             "pattern": {
              "fillmode": "overlay",
              "size": 10,
              "solidity": 0.2
             }
            },
            "type": "histogram"
           }
          ],
          "histogram2d": [
           {
            "colorbar": {
             "outlinewidth": 0,
             "ticks": ""
            },
            "colorscale": [
             [
              0,
              "#0d0887"
             ],
             [
              0.1111111111111111,
              "#46039f"
             ],
             [
              0.2222222222222222,
              "#7201a8"
             ],
             [
              0.3333333333333333,
              "#9c179e"
             ],
             [
              0.4444444444444444,
              "#bd3786"
             ],
             [
              0.5555555555555556,
              "#d8576b"
             ],
             [
              0.6666666666666666,
              "#ed7953"
             ],
             [
              0.7777777777777778,
              "#fb9f3a"
             ],
             [
              0.8888888888888888,
              "#fdca26"
             ],
             [
              1,
              "#f0f921"
             ]
            ],
            "type": "histogram2d"
           }
          ],
          "histogram2dcontour": [
           {
            "colorbar": {
             "outlinewidth": 0,
             "ticks": ""
            },
            "colorscale": [
             [
              0,
              "#0d0887"
             ],
             [
              0.1111111111111111,
              "#46039f"
             ],
             [
              0.2222222222222222,
              "#7201a8"
             ],
             [
              0.3333333333333333,
              "#9c179e"
             ],
             [
              0.4444444444444444,
              "#bd3786"
             ],
             [
              0.5555555555555556,
              "#d8576b"
             ],
             [
              0.6666666666666666,
              "#ed7953"
             ],
             [
              0.7777777777777778,
              "#fb9f3a"
             ],
             [
              0.8888888888888888,
              "#fdca26"
             ],
             [
              1,
              "#f0f921"
             ]
            ],
            "type": "histogram2dcontour"
           }
          ],
          "mesh3d": [
           {
            "colorbar": {
             "outlinewidth": 0,
             "ticks": ""
            },
            "type": "mesh3d"
           }
          ],
          "parcoords": [
           {
            "line": {
             "colorbar": {
              "outlinewidth": 0,
              "ticks": ""
             }
            },
            "type": "parcoords"
           }
          ],
          "pie": [
           {
            "automargin": true,
            "type": "pie"
           }
          ],
          "scatter": [
           {
            "fillpattern": {
             "fillmode": "overlay",
             "size": 10,
             "solidity": 0.2
            },
            "type": "scatter"
           }
          ],
          "scatter3d": [
           {
            "line": {
             "colorbar": {
              "outlinewidth": 0,
              "ticks": ""
             }
            },
            "marker": {
             "colorbar": {
              "outlinewidth": 0,
              "ticks": ""
             }
            },
            "type": "scatter3d"
           }
          ],
          "scattercarpet": [
           {
            "marker": {
             "colorbar": {
              "outlinewidth": 0,
              "ticks": ""
             }
            },
            "type": "scattercarpet"
           }
          ],
          "scattergeo": [
           {
            "marker": {
             "colorbar": {
              "outlinewidth": 0,
              "ticks": ""
             }
            },
            "type": "scattergeo"
           }
          ],
          "scattergl": [
           {
            "marker": {
             "colorbar": {
              "outlinewidth": 0,
              "ticks": ""
             }
            },
            "type": "scattergl"
           }
          ],
          "scattermap": [
           {
            "marker": {
             "colorbar": {
              "outlinewidth": 0,
              "ticks": ""
             }
            },
            "type": "scattermap"
           }
          ],
          "scattermapbox": [
           {
            "marker": {
             "colorbar": {
              "outlinewidth": 0,
              "ticks": ""
             }
            },
            "type": "scattermapbox"
           }
          ],
          "scatterpolar": [
           {
            "marker": {
             "colorbar": {
              "outlinewidth": 0,
              "ticks": ""
             }
            },
            "type": "scatterpolar"
           }
          ],
          "scatterpolargl": [
           {
            "marker": {
             "colorbar": {
              "outlinewidth": 0,
              "ticks": ""
             }
            },
            "type": "scatterpolargl"
           }
          ],
          "scatterternary": [
           {
            "marker": {
             "colorbar": {
              "outlinewidth": 0,
              "ticks": ""
             }
            },
            "type": "scatterternary"
           }
          ],
          "surface": [
           {
            "colorbar": {
             "outlinewidth": 0,
             "ticks": ""
            },
            "colorscale": [
             [
              0,
              "#0d0887"
             ],
             [
              0.1111111111111111,
              "#46039f"
             ],
             [
              0.2222222222222222,
              "#7201a8"
             ],
             [
              0.3333333333333333,
              "#9c179e"
             ],
             [
              0.4444444444444444,
              "#bd3786"
             ],
             [
              0.5555555555555556,
              "#d8576b"
             ],
             [
              0.6666666666666666,
              "#ed7953"
             ],
             [
              0.7777777777777778,
              "#fb9f3a"
             ],
             [
              0.8888888888888888,
              "#fdca26"
             ],
             [
              1,
              "#f0f921"
             ]
            ],
            "type": "surface"
           }
          ],
          "table": [
           {
            "cells": {
             "fill": {
              "color": "#EBF0F8"
             },
             "line": {
              "color": "white"
             }
            },
            "header": {
             "fill": {
              "color": "#C8D4E3"
             },
             "line": {
              "color": "white"
             }
            },
            "type": "table"
           }
          ]
         },
         "layout": {
          "annotationdefaults": {
           "arrowcolor": "#2a3f5f",
           "arrowhead": 0,
           "arrowwidth": 1
          },
          "autotypenumbers": "strict",
          "coloraxis": {
           "colorbar": {
            "outlinewidth": 0,
            "ticks": ""
           }
          },
          "colorscale": {
           "diverging": [
            [
             0,
             "#8e0152"
            ],
            [
             0.1,
             "#c51b7d"
            ],
            [
             0.2,
             "#de77ae"
            ],
            [
             0.3,
             "#f1b6da"
            ],
            [
             0.4,
             "#fde0ef"
            ],
            [
             0.5,
             "#f7f7f7"
            ],
            [
             0.6,
             "#e6f5d0"
            ],
            [
             0.7,
             "#b8e186"
            ],
            [
             0.8,
             "#7fbc41"
            ],
            [
             0.9,
             "#4d9221"
            ],
            [
             1,
             "#276419"
            ]
           ],
           "sequential": [
            [
             0,
             "#0d0887"
            ],
            [
             0.1111111111111111,
             "#46039f"
            ],
            [
             0.2222222222222222,
             "#7201a8"
            ],
            [
             0.3333333333333333,
             "#9c179e"
            ],
            [
             0.4444444444444444,
             "#bd3786"
            ],
            [
             0.5555555555555556,
             "#d8576b"
            ],
            [
             0.6666666666666666,
             "#ed7953"
            ],
            [
             0.7777777777777778,
             "#fb9f3a"
            ],
            [
             0.8888888888888888,
             "#fdca26"
            ],
            [
             1,
             "#f0f921"
            ]
           ],
           "sequentialminus": [
            [
             0,
             "#0d0887"
            ],
            [
             0.1111111111111111,
             "#46039f"
            ],
            [
             0.2222222222222222,
             "#7201a8"
            ],
            [
             0.3333333333333333,
             "#9c179e"
            ],
            [
             0.4444444444444444,
             "#bd3786"
            ],
            [
             0.5555555555555556,
             "#d8576b"
            ],
            [
             0.6666666666666666,
             "#ed7953"
            ],
            [
             0.7777777777777778,
             "#fb9f3a"
            ],
            [
             0.8888888888888888,
             "#fdca26"
            ],
            [
             1,
             "#f0f921"
            ]
           ]
          },
          "colorway": [
           "#636efa",
           "#EF553B",
           "#00cc96",
           "#ab63fa",
           "#FFA15A",
           "#19d3f3",
           "#FF6692",
           "#B6E880",
           "#FF97FF",
           "#FECB52"
          ],
          "font": {
           "color": "#2a3f5f"
          },
          "geo": {
           "bgcolor": "white",
           "lakecolor": "white",
           "landcolor": "#E5ECF6",
           "showlakes": true,
           "showland": true,
           "subunitcolor": "white"
          },
          "hoverlabel": {
           "align": "left"
          },
          "hovermode": "closest",
          "mapbox": {
           "style": "light"
          },
          "paper_bgcolor": "white",
          "plot_bgcolor": "#E5ECF6",
          "polar": {
           "angularaxis": {
            "gridcolor": "white",
            "linecolor": "white",
            "ticks": ""
           },
           "bgcolor": "#E5ECF6",
           "radialaxis": {
            "gridcolor": "white",
            "linecolor": "white",
            "ticks": ""
           }
          },
          "scene": {
           "xaxis": {
            "backgroundcolor": "#E5ECF6",
            "gridcolor": "white",
            "gridwidth": 2,
            "linecolor": "white",
            "showbackground": true,
            "ticks": "",
            "zerolinecolor": "white"
           },
           "yaxis": {
            "backgroundcolor": "#E5ECF6",
            "gridcolor": "white",
            "gridwidth": 2,
            "linecolor": "white",
            "showbackground": true,
            "ticks": "",
            "zerolinecolor": "white"
           },
           "zaxis": {
            "backgroundcolor": "#E5ECF6",
            "gridcolor": "white",
            "gridwidth": 2,
            "linecolor": "white",
            "showbackground": true,
            "ticks": "",
            "zerolinecolor": "white"
           }
          },
          "shapedefaults": {
           "line": {
            "color": "#2a3f5f"
           }
          },
          "ternary": {
           "aaxis": {
            "gridcolor": "white",
            "linecolor": "white",
            "ticks": ""
           },
           "baxis": {
            "gridcolor": "white",
            "linecolor": "white",
            "ticks": ""
           },
           "bgcolor": "#E5ECF6",
           "caxis": {
            "gridcolor": "white",
            "linecolor": "white",
            "ticks": ""
           }
          },
          "title": {
           "x": 0.05
          },
          "xaxis": {
           "automargin": true,
           "gridcolor": "white",
           "linecolor": "white",
           "ticks": "",
           "title": {
            "standoff": 15
           },
           "zerolinecolor": "white",
           "zerolinewidth": 2
          },
          "yaxis": {
           "automargin": true,
           "gridcolor": "white",
           "linecolor": "white",
           "ticks": "",
           "title": {
            "standoff": 15
           },
           "zerolinecolor": "white",
           "zerolinewidth": 2
          }
         }
        },
        "title": {
         "text": "Predicted Flowrates from 1950 to 1980",
         "x": 0.5,
         "xanchor": "center"
        },
        "width": 1200,
        "xaxis": {
         "anchor": "y",
         "domain": [
          0,
          1
         ],
         "title": {
          "text": "Year"
         }
        },
        "yaxis": {
         "anchor": "x",
         "domain": [
          0,
          1
         ],
         "title": {
          "text": "Flow Rate (MGD)"
         }
        }
       }
      }
     },
     "metadata": {},
     "output_type": "display_data"
    }
   ],
   "source": [
    "#calculate the flow rates\n",
    "Population1950to1980_Predicted['Local Flowrate, MGD'] = Population1950to1980_Predicted['Predicted Unincorporated Clark County']*100/1000000\n",
    "Population1950to1980_Predicted['Tourist Flowrate, MGD'] = Population1950to1980_Predicted['Predicted Average Daily Visitors']*100/1000000\n",
    "Population1950to1980_Predicted['Total Flowrate, MGD'] = Population1950to1980_Predicted['Total Predicted Unincorporated Clark County']*100/1000000\n",
    "\n",
    "Population1950to1980_Merged = pd.merge(\n",
    "    Population1950to1980_Predicted.reset_index(),\n",
    "    Population1950to1980.reset_index(),\n",
    "    on=\"Year\",\n",
    "    how=\"outer\"   # or 'inner' depending on whether you want all years or only common years\n",
    ")\n",
    "df_long = Population1950to1980_Merged.melt(\n",
    "    id_vars='Year',\n",
    "    value_vars=['Local Flowrate, MGD', 'Tourist Flowrate, MGD', 'Total Flowrate, MGD'],\n",
    "    var_name='Area',\n",
    "    value_name='Flowrate'\n",
    ")\n",
    "\n",
    "# Remove rows where Flowrate is missing after the outer merge\n",
    "df_long = df_long.dropna(subset=['Flowrate']).sort_values('Year')\n",
    "\n",
    "fig = px.line(\n",
    "    df_long,\n",
    "    x='Year',\n",
    "    y='Flowrate',      # <-- must be Flowrate, not Area\n",
    "    color='Area',\n",
    "    title='Predicted Flowrates from 1950 to 1980',\n",
    "    labels={'Year': 'Year', 'Flowrate': 'Flow Rate (MGD)', 'Area': 'Contributor'}\n",
    ")\n",
    "\n",
    "fig.update_traces(\n",
    "    hovertemplate=(\n",
    "        \"Area = %{fullData.name}<br>\"\n",
    "        \"Year = %{x}<br>\"\n",
    "        \"Flowrate = %{y:.1f} MGD\"\n",
    "        \"<extra></extra>\"\n",
    "    )\n",
    ")\n",
    "\n",
    "fig.update_layout(\n",
    "    width=1200, height=600,\n",
    "    yaxis_title=\"Flow Rate (MGD)\",\n",
    "    legend=dict(orientation=\"h\", yanchor=\"top\", y=-0.3, xanchor=\"center\", x=0.5),\n",
    "    title=dict(x=0.5, xanchor=\"center\")\n",
    ")\n",
    "\n",
    "fig.show()\n",
    "#Population1950to1955"
   ]
  },
  {
   "cell_type": "markdown",
   "id": "a6154e15",
   "metadata": {},
   "source": [
    "Congratulations, you now have analyzed the population data, sucessfully!  It is time for you to advance to designing the pipe entering our Wastewater Treatment Facility!\n",
    "<br><center>[Go to Pipeline Design](./03_Pipe_Design.ipynb)</center>"
   ]
  }
 ],
 "metadata": {
  "kernelspec": {
   "display_name": ".venv",
   "language": "python",
   "name": "python3"
  },
  "language_info": {
   "codemirror_mode": {
    "name": "ipython",
    "version": 3
   },
   "file_extension": ".py",
   "mimetype": "text/x-python",
   "name": "python",
   "nbconvert_exporter": "python",
   "pygments_lexer": "ipython3",
   "version": "3.12.10"
  }
 },
 "nbformat": 4,
 "nbformat_minor": 5
}
